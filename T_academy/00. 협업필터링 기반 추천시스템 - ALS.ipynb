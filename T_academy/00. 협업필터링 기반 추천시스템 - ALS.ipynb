{
 "cells": [
  {
   "cell_type": "code",
   "execution_count": 1,
   "id": "dangerous-arthritis",
   "metadata": {
    "ExecuteTime": {
     "end_time": "2021-04-14T14:00:23.704311Z",
     "start_time": "2021-04-14T14:00:23.685293Z"
    }
   },
   "outputs": [],
   "source": [
    "import numpy as np\n",
    "from tqdm import tqdm_notebook as tqdm\n",
    "\n",
    "class AlternatingLeastSquares():\n",
    "    def __init__(self, R, k, reg_param, epochs, verbose=False):\n",
    "        \"\"\"\n",
    "        R: rating matrix\n",
    "        k: latent parameter\n",
    "        learning_rate: alpha on weight update\n",
    "        reg_param: beta on weight update\n",
    "        epochs: training epochs\n",
    "        verbose: print status\n",
    "        \"\"\"\n",
    "        self._R = R\n",
    "        self._num_users, self._num_items = R.shape\n",
    "        self._k = k\n",
    "        self._reg_param = reg_param\n",
    "        self._epochs = epochs\n",
    "        self._verbose = verbose\n",
    "        \n",
    "    def fit(self):\n",
    "        # init latent features\n",
    "        self._users = np.random.normal(size=(self._num_users, self._k))\n",
    "        self._items = np.random.normal(size=(self._num_items, self._k))\n",
    "        \n",
    "        # train while epochs\n",
    "        self._training_process = []\n",
    "        self._user_error = 0; self._item_error = 0;\n",
    "        for epoch in range(self._epochs):\n",
    "            # user latent space에 대해 업데이트\n",
    "            for i, Ri in enumerate(self._R):\n",
    "                self._users[i] = self.user_latent(i, Ri)\n",
    "                self._user_error = self.cost()\n",
    "                \n",
    "            # item latent space에 대해 업데이트\n",
    "            for j, Rj in enumerate(self._R.T):\n",
    "                self._items[j] = self.item_latent(j, Rj)\n",
    "                self._item_error = self.cost()\n",
    "                \n",
    "            cost = self.cost()\n",
    "            self._training_process.append((epoch, cost))\n",
    "            \n",
    "            # print status\n",
    "            if self._verbose == True and ((epoch + 1) % 10 == 0):\n",
    "                print('Iteration: %d ; cost = %.4f' % (epoch + 1, cost))\n",
    "                \n",
    "    def cost(self):\n",
    "        \"\"\"\n",
    "        compute root mean square error\n",
    "        :return: rmse cost\n",
    "        \"\"\"\n",
    "\n",
    "        xi, yi = self._R.nonzero()\n",
    "        cost = 0\n",
    "        for x, y in zip(xi, yi):\n",
    "            cost += pow(self._R[x, y] - self.get_prediction(x, y), 2)\n",
    "        return np.sqrt(cost/len(xi))\n",
    "    \n",
    "    def user_latent(self, i, Ri):\n",
    "        \"\"\"\n",
    "        error: rating - prediction error\n",
    "        i: user index\n",
    "        Ri: rating of user index i\n",
    "        return: convergence value of user latent of i index\n",
    "        \"\"\"\n",
    "        \n",
    "        du = np.linalg.solve(np.dot(self._items.T, np.dot(np.diag(Ri), self._items)) + self._reg_param * np.eye(self._k),\n",
    "                             np.dot(self._items.T, np.dot(np.diag(Ri), self._R[i].T))).T\n",
    "        return du\n",
    "    \n",
    "    def item_latent(self, j, Rj):\n",
    "        \"\"\"\n",
    "        error: rating - prediction error\n",
    "        j: item index\n",
    "        Rj: rating of item index i\n",
    "        return: convergence value of item latent of j index\n",
    "        \"\"\"\n",
    "        \n",
    "        di = np.linalg.solve(np.dot(self._users.T, np.dot(np.diag(Rj), self._users)) + self._reg_param * np.eye(self._k),\n",
    "                             np.dot(self._users.T, np.dot(np.diag(Rj), self._R[:, j])))\n",
    "        return di\n",
    "    \n",
    "    def get_prediction(self, i, j):\n",
    "        \"\"\"\n",
    "        get predicted rating: user_i, item_j\n",
    "        :return: prediction of r_ij\n",
    "        \"\"\"\n",
    "        return self._users[i, :].dot(self._items[j, :].T)\n",
    "    \n",
    "    def get_complete_matrix(self):\n",
    "        \"\"\"\n",
    "        return: complete matrix R^\n",
    "        \"\"\"\n",
    "        return self._users.dot(self._items.T)\n",
    "    \n",
    "# run example\n",
    "if __name__ == \"__main__\":\n",
    "    # rating matrix - User X Item : (7 X 5)\n",
    "    R = np.array([\n",
    "        [1, 0, 0, 1, 3],\n",
    "        [2, 0, 3, 1, 1],\n",
    "        [1, 2, 0, 5, 0],\n",
    "        [1, 0, 0, 4, 4],\n",
    "        [2, 1, 5, 4, 0],\n",
    "        [5, 1, 5, 4, 0],\n",
    "        [0, 0, 0, 1, 0],\n",
    "    ])"
   ]
  },
  {
   "cell_type": "markdown",
   "id": "intended-resort",
   "metadata": {},
   "source": [
    "ALS는 하나를 고정시키고 훈련시키는 것에 유의한다!"
   ]
  },
  {
   "cell_type": "code",
   "execution_count": 2,
   "id": "professional-current",
   "metadata": {
    "ExecuteTime": {
     "end_time": "2021-04-14T14:00:53.700111Z",
     "start_time": "2021-04-14T14:00:53.489920Z"
    }
   },
   "outputs": [
    {
     "name": "stdout",
     "output_type": "stream",
     "text": [
      "Iteration: 10 ; cost = 0.0082\n",
      "Iteration: 20 ; cost = 0.0048\n",
      "Iteration: 30 ; cost = 0.0036\n",
      "Iteration: 40 ; cost = 0.0032\n",
      "Iteration: 50 ; cost = 0.0031\n",
      "Iteration: 60 ; cost = 0.0031\n",
      "Iteration: 70 ; cost = 0.0031\n",
      "Iteration: 80 ; cost = 0.0032\n",
      "Iteration: 90 ; cost = 0.0032\n",
      "Iteration: 100 ; cost = 0.0033\n"
     ]
    }
   ],
   "source": [
    "als = AlternatingLeastSquares(R = R, reg_param=0.01, epochs=100, \n",
    "                              verbose=True, k=3)\n",
    "als.fit()"
   ]
  },
  {
   "cell_type": "code",
   "execution_count": 3,
   "id": "defined-acquisition",
   "metadata": {
    "ExecuteTime": {
     "end_time": "2021-04-14T14:01:12.919100Z",
     "start_time": "2021-04-14T14:01:12.906088Z"
    }
   },
   "outputs": [
    {
     "data": {
      "text/plain": [
       "array([[ 0.99539598, -0.10731879,  4.8104796 ,  0.99404627,  2.99567876],\n",
       "       [ 2.0032064 ,  0.0753728 ,  2.99479893,  0.99958361,  1.00793668],\n",
       "       [ 0.99752738,  1.99881524, -1.24935503,  4.99855531, -1.64020287],\n",
       "       [ 0.99769522,  0.88031259,  6.21488851,  4.00084823,  4.00097861],\n",
       "       [ 2.00506203,  1.00083417,  4.99986873,  4.0003238 ,  2.46620236],\n",
       "       [ 4.99822212,  0.99918924,  5.00098269,  3.99972969,  0.62698713],\n",
       "       [ 0.47694037,  0.37834951, -0.04641601,  0.99703439, -0.34524925]])"
      ]
     },
     "execution_count": 3,
     "metadata": {},
     "output_type": "execute_result"
    }
   ],
   "source": [
    "als.get_complete_matrix()"
   ]
  }
 ],
 "metadata": {
  "kernelspec": {
   "display_name": "Python 3",
   "language": "python",
   "name": "python3"
  },
  "language_info": {
   "codemirror_mode": {
    "name": "ipython",
    "version": 3
   },
   "file_extension": ".py",
   "mimetype": "text/x-python",
   "name": "python",
   "nbconvert_exporter": "python",
   "pygments_lexer": "ipython3",
   "version": "3.7.10"
  },
  "toc": {
   "base_numbering": 1,
   "nav_menu": {},
   "number_sections": false,
   "sideBar": true,
   "skip_h1_title": false,
   "title_cell": "Table of Contents",
   "title_sidebar": "Contents",
   "toc_cell": false,
   "toc_position": {},
   "toc_section_display": true,
   "toc_window_display": false
  },
  "varInspector": {
   "cols": {
    "lenName": 16,
    "lenType": 16,
    "lenVar": 40
   },
   "kernels_config": {
    "python": {
     "delete_cmd_postfix": "",
     "delete_cmd_prefix": "del ",
     "library": "var_list.py",
     "varRefreshCmd": "print(var_dic_list())"
    },
    "r": {
     "delete_cmd_postfix": ") ",
     "delete_cmd_prefix": "rm(",
     "library": "var_list.r",
     "varRefreshCmd": "cat(var_dic_list()) "
    }
   },
   "types_to_exclude": [
    "module",
    "function",
    "builtin_function_or_method",
    "instance",
    "_Feature"
   ],
   "window_display": false
  }
 },
 "nbformat": 4,
 "nbformat_minor": 5
}
