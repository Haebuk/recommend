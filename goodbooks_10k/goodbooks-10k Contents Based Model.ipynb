{
  "nbformat": 4,
  "nbformat_minor": 5,
  "metadata": {
    "kernelspec": {
      "display_name": "Python 3",
      "language": "python",
      "name": "python3"
    },
    "language_info": {
      "codemirror_mode": {
        "name": "ipython",
        "version": 3
      },
      "file_extension": ".py",
      "mimetype": "text/x-python",
      "name": "python",
      "nbconvert_exporter": "python",
      "pygments_lexer": "ipython3",
      "version": "3.7.10"
    },
    "toc": {
      "base_numbering": 1,
      "nav_menu": {},
      "number_sections": false,
      "sideBar": true,
      "skip_h1_title": false,
      "title_cell": "Table of Contents",
      "title_sidebar": "Contents",
      "toc_cell": false,
      "toc_position": {},
      "toc_section_display": true,
      "toc_window_display": false
    },
    "varInspector": {
      "cols": {
        "lenName": 16,
        "lenType": 16,
        "lenVar": 40
      },
      "kernels_config": {
        "python": {
          "delete_cmd_postfix": "",
          "delete_cmd_prefix": "del ",
          "library": "var_list.py",
          "varRefreshCmd": "print(var_dic_list())"
        },
        "r": {
          "delete_cmd_postfix": ") ",
          "delete_cmd_prefix": "rm(",
          "library": "var_list.r",
          "varRefreshCmd": "cat(var_dic_list()) "
        }
      },
      "types_to_exclude": [
        "module",
        "function",
        "builtin_function_or_method",
        "instance",
        "_Feature"
      ],
      "window_display": false
    },
    "colab": {
      "name": "goodbooks-10k Contents Based Model.ipynb",
      "provenance": []
    },
    "widgets": {
      "application/vnd.jupyter.widget-state+json": {
        "d6e1e45d81794be8ba5515d708695e5a": {
          "model_module": "@jupyter-widgets/controls",
          "model_name": "HBoxModel",
          "state": {
            "_view_name": "HBoxView",
            "_dom_classes": [],
            "_model_name": "HBoxModel",
            "_view_module": "@jupyter-widgets/controls",
            "_model_module_version": "1.5.0",
            "_view_count": null,
            "_view_module_version": "1.5.0",
            "box_style": "",
            "layout": "IPY_MODEL_e10a2e331d174669af34b675e586ca6d",
            "_model_module": "@jupyter-widgets/controls",
            "children": [
              "IPY_MODEL_031d3e0283544df797fd702604c5ebc5",
              "IPY_MODEL_9bef2169a61c496a87c9d7374159ca97"
            ]
          }
        },
        "e10a2e331d174669af34b675e586ca6d": {
          "model_module": "@jupyter-widgets/base",
          "model_name": "LayoutModel",
          "state": {
            "_view_name": "LayoutView",
            "grid_template_rows": null,
            "right": null,
            "justify_content": null,
            "_view_module": "@jupyter-widgets/base",
            "overflow": null,
            "_model_module_version": "1.2.0",
            "_view_count": null,
            "flex_flow": null,
            "width": null,
            "min_width": null,
            "border": null,
            "align_items": null,
            "bottom": null,
            "_model_module": "@jupyter-widgets/base",
            "top": null,
            "grid_column": null,
            "overflow_y": null,
            "overflow_x": null,
            "grid_auto_flow": null,
            "grid_area": null,
            "grid_template_columns": null,
            "flex": null,
            "_model_name": "LayoutModel",
            "justify_items": null,
            "grid_row": null,
            "max_height": null,
            "align_content": null,
            "visibility": null,
            "align_self": null,
            "height": null,
            "min_height": null,
            "padding": null,
            "grid_auto_rows": null,
            "grid_gap": null,
            "max_width": null,
            "order": null,
            "_view_module_version": "1.2.0",
            "grid_template_areas": null,
            "object_position": null,
            "object_fit": null,
            "grid_auto_columns": null,
            "margin": null,
            "display": null,
            "left": null
          }
        },
        "031d3e0283544df797fd702604c5ebc5": {
          "model_module": "@jupyter-widgets/controls",
          "model_name": "FloatProgressModel",
          "state": {
            "_view_name": "ProgressView",
            "style": "IPY_MODEL_cade4b7f20744e939a52e4bf4977632d",
            "_dom_classes": [],
            "description": "100%",
            "_model_name": "FloatProgressModel",
            "bar_style": "success",
            "max": 53424,
            "_view_module": "@jupyter-widgets/controls",
            "_model_module_version": "1.5.0",
            "value": 53424,
            "_view_count": null,
            "_view_module_version": "1.5.0",
            "orientation": "horizontal",
            "min": 0,
            "description_tooltip": null,
            "_model_module": "@jupyter-widgets/controls",
            "layout": "IPY_MODEL_022d79c002aa4b61a75fc4e13773d827"
          }
        },
        "9bef2169a61c496a87c9d7374159ca97": {
          "model_module": "@jupyter-widgets/controls",
          "model_name": "HTMLModel",
          "state": {
            "_view_name": "HTMLView",
            "style": "IPY_MODEL_21449e1074d642b1855dc7d2e93f8d7e",
            "_dom_classes": [],
            "description": "",
            "_model_name": "HTMLModel",
            "placeholder": "​",
            "_view_module": "@jupyter-widgets/controls",
            "_model_module_version": "1.5.0",
            "value": " 53424/53424 [00:45&lt;00:00, 1179.21it/s]",
            "_view_count": null,
            "_view_module_version": "1.5.0",
            "description_tooltip": null,
            "_model_module": "@jupyter-widgets/controls",
            "layout": "IPY_MODEL_ff2c67e06f2d4aa69bb65a8520ae41a4"
          }
        },
        "cade4b7f20744e939a52e4bf4977632d": {
          "model_module": "@jupyter-widgets/controls",
          "model_name": "ProgressStyleModel",
          "state": {
            "_view_name": "StyleView",
            "_model_name": "ProgressStyleModel",
            "description_width": "initial",
            "_view_module": "@jupyter-widgets/base",
            "_model_module_version": "1.5.0",
            "_view_count": null,
            "_view_module_version": "1.2.0",
            "bar_color": null,
            "_model_module": "@jupyter-widgets/controls"
          }
        },
        "022d79c002aa4b61a75fc4e13773d827": {
          "model_module": "@jupyter-widgets/base",
          "model_name": "LayoutModel",
          "state": {
            "_view_name": "LayoutView",
            "grid_template_rows": null,
            "right": null,
            "justify_content": null,
            "_view_module": "@jupyter-widgets/base",
            "overflow": null,
            "_model_module_version": "1.2.0",
            "_view_count": null,
            "flex_flow": null,
            "width": null,
            "min_width": null,
            "border": null,
            "align_items": null,
            "bottom": null,
            "_model_module": "@jupyter-widgets/base",
            "top": null,
            "grid_column": null,
            "overflow_y": null,
            "overflow_x": null,
            "grid_auto_flow": null,
            "grid_area": null,
            "grid_template_columns": null,
            "flex": null,
            "_model_name": "LayoutModel",
            "justify_items": null,
            "grid_row": null,
            "max_height": null,
            "align_content": null,
            "visibility": null,
            "align_self": null,
            "height": null,
            "min_height": null,
            "padding": null,
            "grid_auto_rows": null,
            "grid_gap": null,
            "max_width": null,
            "order": null,
            "_view_module_version": "1.2.0",
            "grid_template_areas": null,
            "object_position": null,
            "object_fit": null,
            "grid_auto_columns": null,
            "margin": null,
            "display": null,
            "left": null
          }
        },
        "21449e1074d642b1855dc7d2e93f8d7e": {
          "model_module": "@jupyter-widgets/controls",
          "model_name": "DescriptionStyleModel",
          "state": {
            "_view_name": "StyleView",
            "_model_name": "DescriptionStyleModel",
            "description_width": "",
            "_view_module": "@jupyter-widgets/base",
            "_model_module_version": "1.5.0",
            "_view_count": null,
            "_view_module_version": "1.2.0",
            "_model_module": "@jupyter-widgets/controls"
          }
        },
        "ff2c67e06f2d4aa69bb65a8520ae41a4": {
          "model_module": "@jupyter-widgets/base",
          "model_name": "LayoutModel",
          "state": {
            "_view_name": "LayoutView",
            "grid_template_rows": null,
            "right": null,
            "justify_content": null,
            "_view_module": "@jupyter-widgets/base",
            "overflow": null,
            "_model_module_version": "1.2.0",
            "_view_count": null,
            "flex_flow": null,
            "width": null,
            "min_width": null,
            "border": null,
            "align_items": null,
            "bottom": null,
            "_model_module": "@jupyter-widgets/base",
            "top": null,
            "grid_column": null,
            "overflow_y": null,
            "overflow_x": null,
            "grid_auto_flow": null,
            "grid_area": null,
            "grid_template_columns": null,
            "flex": null,
            "_model_name": "LayoutModel",
            "justify_items": null,
            "grid_row": null,
            "max_height": null,
            "align_content": null,
            "visibility": null,
            "align_self": null,
            "height": null,
            "min_height": null,
            "padding": null,
            "grid_auto_rows": null,
            "grid_gap": null,
            "max_width": null,
            "order": null,
            "_view_module_version": "1.2.0",
            "grid_template_areas": null,
            "object_position": null,
            "object_fit": null,
            "grid_auto_columns": null,
            "margin": null,
            "display": null,
            "left": null
          }
        },
        "b1181ce3d62e4365881a15a5fddb9309": {
          "model_module": "@jupyter-widgets/controls",
          "model_name": "HBoxModel",
          "state": {
            "_view_name": "HBoxView",
            "_dom_classes": [],
            "_model_name": "HBoxModel",
            "_view_module": "@jupyter-widgets/controls",
            "_model_module_version": "1.5.0",
            "_view_count": null,
            "_view_module_version": "1.5.0",
            "box_style": "",
            "layout": "IPY_MODEL_28a5ccc4a00348618621dea557ca205a",
            "_model_module": "@jupyter-widgets/controls",
            "children": [
              "IPY_MODEL_361666c21b0a4b1ab0d40e725be14428",
              "IPY_MODEL_42e6a260ea5c45c187b77912e5a397c5"
            ]
          }
        },
        "28a5ccc4a00348618621dea557ca205a": {
          "model_module": "@jupyter-widgets/base",
          "model_name": "LayoutModel",
          "state": {
            "_view_name": "LayoutView",
            "grid_template_rows": null,
            "right": null,
            "justify_content": null,
            "_view_module": "@jupyter-widgets/base",
            "overflow": null,
            "_model_module_version": "1.2.0",
            "_view_count": null,
            "flex_flow": null,
            "width": null,
            "min_width": null,
            "border": null,
            "align_items": null,
            "bottom": null,
            "_model_module": "@jupyter-widgets/base",
            "top": null,
            "grid_column": null,
            "overflow_y": null,
            "overflow_x": null,
            "grid_auto_flow": null,
            "grid_area": null,
            "grid_template_columns": null,
            "flex": null,
            "_model_name": "LayoutModel",
            "justify_items": null,
            "grid_row": null,
            "max_height": null,
            "align_content": null,
            "visibility": null,
            "align_self": null,
            "height": null,
            "min_height": null,
            "padding": null,
            "grid_auto_rows": null,
            "grid_gap": null,
            "max_width": null,
            "order": null,
            "_view_module_version": "1.2.0",
            "grid_template_areas": null,
            "object_position": null,
            "object_fit": null,
            "grid_auto_columns": null,
            "margin": null,
            "display": null,
            "left": null
          }
        },
        "361666c21b0a4b1ab0d40e725be14428": {
          "model_module": "@jupyter-widgets/controls",
          "model_name": "FloatProgressModel",
          "state": {
            "_view_name": "ProgressView",
            "style": "IPY_MODEL_f2f1a047cfec416ba391edbbdeb0e418",
            "_dom_classes": [],
            "description": "100%",
            "_model_name": "FloatProgressModel",
            "bar_style": "success",
            "max": 53382,
            "_view_module": "@jupyter-widgets/controls",
            "_model_module_version": "1.5.0",
            "value": 53382,
            "_view_count": null,
            "_view_module_version": "1.5.0",
            "orientation": "horizontal",
            "min": 0,
            "description_tooltip": null,
            "_model_module": "@jupyter-widgets/controls",
            "layout": "IPY_MODEL_3cb68a373e184b0fb61371c5715695ff"
          }
        },
        "42e6a260ea5c45c187b77912e5a397c5": {
          "model_module": "@jupyter-widgets/controls",
          "model_name": "HTMLModel",
          "state": {
            "_view_name": "HTMLView",
            "style": "IPY_MODEL_74664f382a794249900c9d32d5b64c69",
            "_dom_classes": [],
            "description": "",
            "_model_name": "HTMLModel",
            "placeholder": "​",
            "_view_module": "@jupyter-widgets/controls",
            "_model_module_version": "1.5.0",
            "value": " 53382/53382 [26:14&lt;00:00, 33.91it/s]",
            "_view_count": null,
            "_view_module_version": "1.5.0",
            "description_tooltip": null,
            "_model_module": "@jupyter-widgets/controls",
            "layout": "IPY_MODEL_ea82d71e0bed4dcaadb62fffb78f8fc4"
          }
        },
        "f2f1a047cfec416ba391edbbdeb0e418": {
          "model_module": "@jupyter-widgets/controls",
          "model_name": "ProgressStyleModel",
          "state": {
            "_view_name": "StyleView",
            "_model_name": "ProgressStyleModel",
            "description_width": "initial",
            "_view_module": "@jupyter-widgets/base",
            "_model_module_version": "1.5.0",
            "_view_count": null,
            "_view_module_version": "1.2.0",
            "bar_color": null,
            "_model_module": "@jupyter-widgets/controls"
          }
        },
        "3cb68a373e184b0fb61371c5715695ff": {
          "model_module": "@jupyter-widgets/base",
          "model_name": "LayoutModel",
          "state": {
            "_view_name": "LayoutView",
            "grid_template_rows": null,
            "right": null,
            "justify_content": null,
            "_view_module": "@jupyter-widgets/base",
            "overflow": null,
            "_model_module_version": "1.2.0",
            "_view_count": null,
            "flex_flow": null,
            "width": null,
            "min_width": null,
            "border": null,
            "align_items": null,
            "bottom": null,
            "_model_module": "@jupyter-widgets/base",
            "top": null,
            "grid_column": null,
            "overflow_y": null,
            "overflow_x": null,
            "grid_auto_flow": null,
            "grid_area": null,
            "grid_template_columns": null,
            "flex": null,
            "_model_name": "LayoutModel",
            "justify_items": null,
            "grid_row": null,
            "max_height": null,
            "align_content": null,
            "visibility": null,
            "align_self": null,
            "height": null,
            "min_height": null,
            "padding": null,
            "grid_auto_rows": null,
            "grid_gap": null,
            "max_width": null,
            "order": null,
            "_view_module_version": "1.2.0",
            "grid_template_areas": null,
            "object_position": null,
            "object_fit": null,
            "grid_auto_columns": null,
            "margin": null,
            "display": null,
            "left": null
          }
        },
        "74664f382a794249900c9d32d5b64c69": {
          "model_module": "@jupyter-widgets/controls",
          "model_name": "DescriptionStyleModel",
          "state": {
            "_view_name": "StyleView",
            "_model_name": "DescriptionStyleModel",
            "description_width": "",
            "_view_module": "@jupyter-widgets/base",
            "_model_module_version": "1.5.0",
            "_view_count": null,
            "_view_module_version": "1.2.0",
            "_model_module": "@jupyter-widgets/controls"
          }
        },
        "ea82d71e0bed4dcaadb62fffb78f8fc4": {
          "model_module": "@jupyter-widgets/base",
          "model_name": "LayoutModel",
          "state": {
            "_view_name": "LayoutView",
            "grid_template_rows": null,
            "right": null,
            "justify_content": null,
            "_view_module": "@jupyter-widgets/base",
            "overflow": null,
            "_model_module_version": "1.2.0",
            "_view_count": null,
            "flex_flow": null,
            "width": null,
            "min_width": null,
            "border": null,
            "align_items": null,
            "bottom": null,
            "_model_module": "@jupyter-widgets/base",
            "top": null,
            "grid_column": null,
            "overflow_y": null,
            "overflow_x": null,
            "grid_auto_flow": null,
            "grid_area": null,
            "grid_template_columns": null,
            "flex": null,
            "_model_name": "LayoutModel",
            "justify_items": null,
            "grid_row": null,
            "max_height": null,
            "align_content": null,
            "visibility": null,
            "align_self": null,
            "height": null,
            "min_height": null,
            "padding": null,
            "grid_auto_rows": null,
            "grid_gap": null,
            "max_width": null,
            "order": null,
            "_view_module_version": "1.2.0",
            "grid_template_areas": null,
            "object_position": null,
            "object_fit": null,
            "grid_auto_columns": null,
            "margin": null,
            "display": null,
            "left": null
          }
        },
        "5d9f2525aa5540a3b8c73dcf0757b0a7": {
          "model_module": "@jupyter-widgets/controls",
          "model_name": "HBoxModel",
          "state": {
            "_view_name": "HBoxView",
            "_dom_classes": [],
            "_model_name": "HBoxModel",
            "_view_module": "@jupyter-widgets/controls",
            "_model_module_version": "1.5.0",
            "_view_count": null,
            "_view_module_version": "1.5.0",
            "box_style": "",
            "layout": "IPY_MODEL_782350092c07474f9b5d48d46a36bd53",
            "_model_module": "@jupyter-widgets/controls",
            "children": [
              "IPY_MODEL_a24c447c5ef4486a9c688ede50a8b799",
              "IPY_MODEL_61505451fd1940b6a180babc10ff4537"
            ]
          }
        },
        "782350092c07474f9b5d48d46a36bd53": {
          "model_module": "@jupyter-widgets/base",
          "model_name": "LayoutModel",
          "state": {
            "_view_name": "LayoutView",
            "grid_template_rows": null,
            "right": null,
            "justify_content": null,
            "_view_module": "@jupyter-widgets/base",
            "overflow": null,
            "_model_module_version": "1.2.0",
            "_view_count": null,
            "flex_flow": null,
            "width": null,
            "min_width": null,
            "border": null,
            "align_items": null,
            "bottom": null,
            "_model_module": "@jupyter-widgets/base",
            "top": null,
            "grid_column": null,
            "overflow_y": null,
            "overflow_x": null,
            "grid_auto_flow": null,
            "grid_area": null,
            "grid_template_columns": null,
            "flex": null,
            "_model_name": "LayoutModel",
            "justify_items": null,
            "grid_row": null,
            "max_height": null,
            "align_content": null,
            "visibility": null,
            "align_self": null,
            "height": null,
            "min_height": null,
            "padding": null,
            "grid_auto_rows": null,
            "grid_gap": null,
            "max_width": null,
            "order": null,
            "_view_module_version": "1.2.0",
            "grid_template_areas": null,
            "object_position": null,
            "object_fit": null,
            "grid_auto_columns": null,
            "margin": null,
            "display": null,
            "left": null
          }
        },
        "a24c447c5ef4486a9c688ede50a8b799": {
          "model_module": "@jupyter-widgets/controls",
          "model_name": "FloatProgressModel",
          "state": {
            "_view_name": "ProgressView",
            "style": "IPY_MODEL_a1ab014b118c42aa98b5f7867a2b8059",
            "_dom_classes": [],
            "description": "100%",
            "_model_name": "FloatProgressModel",
            "bar_style": "success",
            "max": 53382,
            "_view_module": "@jupyter-widgets/controls",
            "_model_module_version": "1.5.0",
            "value": 53382,
            "_view_count": null,
            "_view_module_version": "1.5.0",
            "orientation": "horizontal",
            "min": 0,
            "description_tooltip": null,
            "_model_module": "@jupyter-widgets/controls",
            "layout": "IPY_MODEL_55266e2df33346378292acb9cb3a28cc"
          }
        },
        "61505451fd1940b6a180babc10ff4537": {
          "model_module": "@jupyter-widgets/controls",
          "model_name": "HTMLModel",
          "state": {
            "_view_name": "HTMLView",
            "style": "IPY_MODEL_dfda3572b58c40529af01428d33e2396",
            "_dom_classes": [],
            "description": "",
            "_model_name": "HTMLModel",
            "placeholder": "​",
            "_view_module": "@jupyter-widgets/controls",
            "_model_module_version": "1.5.0",
            "value": " 53382/53382 [44:02&lt;00:00, 20.20it/s]",
            "_view_count": null,
            "_view_module_version": "1.5.0",
            "description_tooltip": null,
            "_model_module": "@jupyter-widgets/controls",
            "layout": "IPY_MODEL_6c39e41b450c4d45b5f35f80ad3f9537"
          }
        },
        "a1ab014b118c42aa98b5f7867a2b8059": {
          "model_module": "@jupyter-widgets/controls",
          "model_name": "ProgressStyleModel",
          "state": {
            "_view_name": "StyleView",
            "_model_name": "ProgressStyleModel",
            "description_width": "initial",
            "_view_module": "@jupyter-widgets/base",
            "_model_module_version": "1.5.0",
            "_view_count": null,
            "_view_module_version": "1.2.0",
            "bar_color": null,
            "_model_module": "@jupyter-widgets/controls"
          }
        },
        "55266e2df33346378292acb9cb3a28cc": {
          "model_module": "@jupyter-widgets/base",
          "model_name": "LayoutModel",
          "state": {
            "_view_name": "LayoutView",
            "grid_template_rows": null,
            "right": null,
            "justify_content": null,
            "_view_module": "@jupyter-widgets/base",
            "overflow": null,
            "_model_module_version": "1.2.0",
            "_view_count": null,
            "flex_flow": null,
            "width": null,
            "min_width": null,
            "border": null,
            "align_items": null,
            "bottom": null,
            "_model_module": "@jupyter-widgets/base",
            "top": null,
            "grid_column": null,
            "overflow_y": null,
            "overflow_x": null,
            "grid_auto_flow": null,
            "grid_area": null,
            "grid_template_columns": null,
            "flex": null,
            "_model_name": "LayoutModel",
            "justify_items": null,
            "grid_row": null,
            "max_height": null,
            "align_content": null,
            "visibility": null,
            "align_self": null,
            "height": null,
            "min_height": null,
            "padding": null,
            "grid_auto_rows": null,
            "grid_gap": null,
            "max_width": null,
            "order": null,
            "_view_module_version": "1.2.0",
            "grid_template_areas": null,
            "object_position": null,
            "object_fit": null,
            "grid_auto_columns": null,
            "margin": null,
            "display": null,
            "left": null
          }
        },
        "dfda3572b58c40529af01428d33e2396": {
          "model_module": "@jupyter-widgets/controls",
          "model_name": "DescriptionStyleModel",
          "state": {
            "_view_name": "StyleView",
            "_model_name": "DescriptionStyleModel",
            "description_width": "",
            "_view_module": "@jupyter-widgets/base",
            "_model_module_version": "1.5.0",
            "_view_count": null,
            "_view_module_version": "1.2.0",
            "_model_module": "@jupyter-widgets/controls"
          }
        },
        "6c39e41b450c4d45b5f35f80ad3f9537": {
          "model_module": "@jupyter-widgets/base",
          "model_name": "LayoutModel",
          "state": {
            "_view_name": "LayoutView",
            "grid_template_rows": null,
            "right": null,
            "justify_content": null,
            "_view_module": "@jupyter-widgets/base",
            "overflow": null,
            "_model_module_version": "1.2.0",
            "_view_count": null,
            "flex_flow": null,
            "width": null,
            "min_width": null,
            "border": null,
            "align_items": null,
            "bottom": null,
            "_model_module": "@jupyter-widgets/base",
            "top": null,
            "grid_column": null,
            "overflow_y": null,
            "overflow_x": null,
            "grid_auto_flow": null,
            "grid_area": null,
            "grid_template_columns": null,
            "flex": null,
            "_model_name": "LayoutModel",
            "justify_items": null,
            "grid_row": null,
            "max_height": null,
            "align_content": null,
            "visibility": null,
            "align_self": null,
            "height": null,
            "min_height": null,
            "padding": null,
            "grid_auto_rows": null,
            "grid_gap": null,
            "max_width": null,
            "order": null,
            "_view_module_version": "1.2.0",
            "grid_template_areas": null,
            "object_position": null,
            "object_fit": null,
            "grid_auto_columns": null,
            "margin": null,
            "display": null,
            "left": null
          }
        },
        "bf73aeef96594707a3bb67f76cabd16d": {
          "model_module": "@jupyter-widgets/controls",
          "model_name": "HBoxModel",
          "state": {
            "_view_name": "HBoxView",
            "_dom_classes": [],
            "_model_name": "HBoxModel",
            "_view_module": "@jupyter-widgets/controls",
            "_model_module_version": "1.5.0",
            "_view_count": null,
            "_view_module_version": "1.5.0",
            "box_style": "",
            "layout": "IPY_MODEL_1d8ad62e20c24632a78bd36e0c67c6ec",
            "_model_module": "@jupyter-widgets/controls",
            "children": [
              "IPY_MODEL_aaf7a31699324412a17da5f76dd15d48",
              "IPY_MODEL_1464fb88f2a6401eb70d304a55a2a4d4"
            ]
          }
        },
        "1d8ad62e20c24632a78bd36e0c67c6ec": {
          "model_module": "@jupyter-widgets/base",
          "model_name": "LayoutModel",
          "state": {
            "_view_name": "LayoutView",
            "grid_template_rows": null,
            "right": null,
            "justify_content": null,
            "_view_module": "@jupyter-widgets/base",
            "overflow": null,
            "_model_module_version": "1.2.0",
            "_view_count": null,
            "flex_flow": null,
            "width": null,
            "min_width": null,
            "border": null,
            "align_items": null,
            "bottom": null,
            "_model_module": "@jupyter-widgets/base",
            "top": null,
            "grid_column": null,
            "overflow_y": null,
            "overflow_x": null,
            "grid_auto_flow": null,
            "grid_area": null,
            "grid_template_columns": null,
            "flex": null,
            "_model_name": "LayoutModel",
            "justify_items": null,
            "grid_row": null,
            "max_height": null,
            "align_content": null,
            "visibility": null,
            "align_self": null,
            "height": null,
            "min_height": null,
            "padding": null,
            "grid_auto_rows": null,
            "grid_gap": null,
            "max_width": null,
            "order": null,
            "_view_module_version": "1.2.0",
            "grid_template_areas": null,
            "object_position": null,
            "object_fit": null,
            "grid_auto_columns": null,
            "margin": null,
            "display": null,
            "left": null
          }
        },
        "aaf7a31699324412a17da5f76dd15d48": {
          "model_module": "@jupyter-widgets/controls",
          "model_name": "FloatProgressModel",
          "state": {
            "_view_name": "ProgressView",
            "style": "IPY_MODEL_b25348d123e64c23a2cfcbaa5a13a898",
            "_dom_classes": [],
            "description": "100%",
            "_model_name": "FloatProgressModel",
            "bar_style": "success",
            "max": 5,
            "_view_module": "@jupyter-widgets/controls",
            "_model_module_version": "1.5.0",
            "value": 5,
            "_view_count": null,
            "_view_module_version": "1.5.0",
            "orientation": "horizontal",
            "min": 0,
            "description_tooltip": null,
            "_model_module": "@jupyter-widgets/controls",
            "layout": "IPY_MODEL_a67398f815ad430a8b22397d95c6e50d"
          }
        },
        "1464fb88f2a6401eb70d304a55a2a4d4": {
          "model_module": "@jupyter-widgets/controls",
          "model_name": "HTMLModel",
          "state": {
            "_view_name": "HTMLView",
            "style": "IPY_MODEL_0ded6181db9b4371b83c3d2c7ce8bea0",
            "_dom_classes": [],
            "description": "",
            "_model_name": "HTMLModel",
            "placeholder": "​",
            "_view_module": "@jupyter-widgets/controls",
            "_model_module_version": "1.5.0",
            "value": " 5/5 [15:31&lt;00:00, 186.36s/it]",
            "_view_count": null,
            "_view_module_version": "1.5.0",
            "description_tooltip": null,
            "_model_module": "@jupyter-widgets/controls",
            "layout": "IPY_MODEL_2fb5601b163d477fa99f7d636cce9421"
          }
        },
        "b25348d123e64c23a2cfcbaa5a13a898": {
          "model_module": "@jupyter-widgets/controls",
          "model_name": "ProgressStyleModel",
          "state": {
            "_view_name": "StyleView",
            "_model_name": "ProgressStyleModel",
            "description_width": "initial",
            "_view_module": "@jupyter-widgets/base",
            "_model_module_version": "1.5.0",
            "_view_count": null,
            "_view_module_version": "1.2.0",
            "bar_color": null,
            "_model_module": "@jupyter-widgets/controls"
          }
        },
        "a67398f815ad430a8b22397d95c6e50d": {
          "model_module": "@jupyter-widgets/base",
          "model_name": "LayoutModel",
          "state": {
            "_view_name": "LayoutView",
            "grid_template_rows": null,
            "right": null,
            "justify_content": null,
            "_view_module": "@jupyter-widgets/base",
            "overflow": null,
            "_model_module_version": "1.2.0",
            "_view_count": null,
            "flex_flow": null,
            "width": null,
            "min_width": null,
            "border": null,
            "align_items": null,
            "bottom": null,
            "_model_module": "@jupyter-widgets/base",
            "top": null,
            "grid_column": null,
            "overflow_y": null,
            "overflow_x": null,
            "grid_auto_flow": null,
            "grid_area": null,
            "grid_template_columns": null,
            "flex": null,
            "_model_name": "LayoutModel",
            "justify_items": null,
            "grid_row": null,
            "max_height": null,
            "align_content": null,
            "visibility": null,
            "align_self": null,
            "height": null,
            "min_height": null,
            "padding": null,
            "grid_auto_rows": null,
            "grid_gap": null,
            "max_width": null,
            "order": null,
            "_view_module_version": "1.2.0",
            "grid_template_areas": null,
            "object_position": null,
            "object_fit": null,
            "grid_auto_columns": null,
            "margin": null,
            "display": null,
            "left": null
          }
        },
        "0ded6181db9b4371b83c3d2c7ce8bea0": {
          "model_module": "@jupyter-widgets/controls",
          "model_name": "DescriptionStyleModel",
          "state": {
            "_view_name": "StyleView",
            "_model_name": "DescriptionStyleModel",
            "description_width": "",
            "_view_module": "@jupyter-widgets/base",
            "_model_module_version": "1.5.0",
            "_view_count": null,
            "_view_module_version": "1.2.0",
            "_model_module": "@jupyter-widgets/controls"
          }
        },
        "2fb5601b163d477fa99f7d636cce9421": {
          "model_module": "@jupyter-widgets/base",
          "model_name": "LayoutModel",
          "state": {
            "_view_name": "LayoutView",
            "grid_template_rows": null,
            "right": null,
            "justify_content": null,
            "_view_module": "@jupyter-widgets/base",
            "overflow": null,
            "_model_module_version": "1.2.0",
            "_view_count": null,
            "flex_flow": null,
            "width": null,
            "min_width": null,
            "border": null,
            "align_items": null,
            "bottom": null,
            "_model_module": "@jupyter-widgets/base",
            "top": null,
            "grid_column": null,
            "overflow_y": null,
            "overflow_x": null,
            "grid_auto_flow": null,
            "grid_area": null,
            "grid_template_columns": null,
            "flex": null,
            "_model_name": "LayoutModel",
            "justify_items": null,
            "grid_row": null,
            "max_height": null,
            "align_content": null,
            "visibility": null,
            "align_self": null,
            "height": null,
            "min_height": null,
            "padding": null,
            "grid_auto_rows": null,
            "grid_gap": null,
            "max_width": null,
            "order": null,
            "_view_module_version": "1.2.0",
            "grid_template_areas": null,
            "object_position": null,
            "object_fit": null,
            "grid_auto_columns": null,
            "margin": null,
            "display": null,
            "left": null
          }
        },
        "6c1d1cc9c27f48e5a4c412c449c0cfa0": {
          "model_module": "@jupyter-widgets/controls",
          "model_name": "HBoxModel",
          "state": {
            "_view_name": "HBoxView",
            "_dom_classes": [],
            "_model_name": "HBoxModel",
            "_view_module": "@jupyter-widgets/controls",
            "_model_module_version": "1.5.0",
            "_view_count": null,
            "_view_module_version": "1.5.0",
            "box_style": "",
            "layout": "IPY_MODEL_6f471cea3b0a45b8bbd4d22bd32b3191",
            "_model_module": "@jupyter-widgets/controls",
            "children": [
              "IPY_MODEL_e753c036181c4892a73b44d7b3481512",
              "IPY_MODEL_10ce87ea7709495689485490e73f4392"
            ]
          }
        },
        "6f471cea3b0a45b8bbd4d22bd32b3191": {
          "model_module": "@jupyter-widgets/base",
          "model_name": "LayoutModel",
          "state": {
            "_view_name": "LayoutView",
            "grid_template_rows": null,
            "right": null,
            "justify_content": null,
            "_view_module": "@jupyter-widgets/base",
            "overflow": null,
            "_model_module_version": "1.2.0",
            "_view_count": null,
            "flex_flow": null,
            "width": null,
            "min_width": null,
            "border": null,
            "align_items": null,
            "bottom": null,
            "_model_module": "@jupyter-widgets/base",
            "top": null,
            "grid_column": null,
            "overflow_y": null,
            "overflow_x": null,
            "grid_auto_flow": null,
            "grid_area": null,
            "grid_template_columns": null,
            "flex": null,
            "_model_name": "LayoutModel",
            "justify_items": null,
            "grid_row": null,
            "max_height": null,
            "align_content": null,
            "visibility": null,
            "align_self": null,
            "height": null,
            "min_height": null,
            "padding": null,
            "grid_auto_rows": null,
            "grid_gap": null,
            "max_width": null,
            "order": null,
            "_view_module_version": "1.2.0",
            "grid_template_areas": null,
            "object_position": null,
            "object_fit": null,
            "grid_auto_columns": null,
            "margin": null,
            "display": null,
            "left": null
          }
        },
        "e753c036181c4892a73b44d7b3481512": {
          "model_module": "@jupyter-widgets/controls",
          "model_name": "FloatProgressModel",
          "state": {
            "_view_name": "ProgressView",
            "style": "IPY_MODEL_fa5cb8288c9f43af8862c8f4e287edfb",
            "_dom_classes": [],
            "description": "100%",
            "_model_name": "FloatProgressModel",
            "bar_style": "success",
            "max": 53382,
            "_view_module": "@jupyter-widgets/controls",
            "_model_module_version": "1.5.0",
            "value": 53382,
            "_view_count": null,
            "_view_module_version": "1.5.0",
            "orientation": "horizontal",
            "min": 0,
            "description_tooltip": null,
            "_model_module": "@jupyter-widgets/controls",
            "layout": "IPY_MODEL_497134d906f0480cab645a98d1477cf6"
          }
        },
        "10ce87ea7709495689485490e73f4392": {
          "model_module": "@jupyter-widgets/controls",
          "model_name": "HTMLModel",
          "state": {
            "_view_name": "HTMLView",
            "style": "IPY_MODEL_54acd28b01ff4f989999f1286b396637",
            "_dom_classes": [],
            "description": "",
            "_model_name": "HTMLModel",
            "placeholder": "​",
            "_view_module": "@jupyter-widgets/controls",
            "_model_module_version": "1.5.0",
            "value": " 53382/53382 [04:56&lt;00:00, 180.30it/s]",
            "_view_count": null,
            "_view_module_version": "1.5.0",
            "description_tooltip": null,
            "_model_module": "@jupyter-widgets/controls",
            "layout": "IPY_MODEL_e24d1dfc9fd44ac08aaf360888e4a3bd"
          }
        },
        "fa5cb8288c9f43af8862c8f4e287edfb": {
          "model_module": "@jupyter-widgets/controls",
          "model_name": "ProgressStyleModel",
          "state": {
            "_view_name": "StyleView",
            "_model_name": "ProgressStyleModel",
            "description_width": "initial",
            "_view_module": "@jupyter-widgets/base",
            "_model_module_version": "1.5.0",
            "_view_count": null,
            "_view_module_version": "1.2.0",
            "bar_color": null,
            "_model_module": "@jupyter-widgets/controls"
          }
        },
        "497134d906f0480cab645a98d1477cf6": {
          "model_module": "@jupyter-widgets/base",
          "model_name": "LayoutModel",
          "state": {
            "_view_name": "LayoutView",
            "grid_template_rows": null,
            "right": null,
            "justify_content": null,
            "_view_module": "@jupyter-widgets/base",
            "overflow": null,
            "_model_module_version": "1.2.0",
            "_view_count": null,
            "flex_flow": null,
            "width": null,
            "min_width": null,
            "border": null,
            "align_items": null,
            "bottom": null,
            "_model_module": "@jupyter-widgets/base",
            "top": null,
            "grid_column": null,
            "overflow_y": null,
            "overflow_x": null,
            "grid_auto_flow": null,
            "grid_area": null,
            "grid_template_columns": null,
            "flex": null,
            "_model_name": "LayoutModel",
            "justify_items": null,
            "grid_row": null,
            "max_height": null,
            "align_content": null,
            "visibility": null,
            "align_self": null,
            "height": null,
            "min_height": null,
            "padding": null,
            "grid_auto_rows": null,
            "grid_gap": null,
            "max_width": null,
            "order": null,
            "_view_module_version": "1.2.0",
            "grid_template_areas": null,
            "object_position": null,
            "object_fit": null,
            "grid_auto_columns": null,
            "margin": null,
            "display": null,
            "left": null
          }
        },
        "54acd28b01ff4f989999f1286b396637": {
          "model_module": "@jupyter-widgets/controls",
          "model_name": "DescriptionStyleModel",
          "state": {
            "_view_name": "StyleView",
            "_model_name": "DescriptionStyleModel",
            "description_width": "",
            "_view_module": "@jupyter-widgets/base",
            "_model_module_version": "1.5.0",
            "_view_count": null,
            "_view_module_version": "1.2.0",
            "_model_module": "@jupyter-widgets/controls"
          }
        },
        "e24d1dfc9fd44ac08aaf360888e4a3bd": {
          "model_module": "@jupyter-widgets/base",
          "model_name": "LayoutModel",
          "state": {
            "_view_name": "LayoutView",
            "grid_template_rows": null,
            "right": null,
            "justify_content": null,
            "_view_module": "@jupyter-widgets/base",
            "overflow": null,
            "_model_module_version": "1.2.0",
            "_view_count": null,
            "flex_flow": null,
            "width": null,
            "min_width": null,
            "border": null,
            "align_items": null,
            "bottom": null,
            "_model_module": "@jupyter-widgets/base",
            "top": null,
            "grid_column": null,
            "overflow_y": null,
            "overflow_x": null,
            "grid_auto_flow": null,
            "grid_area": null,
            "grid_template_columns": null,
            "flex": null,
            "_model_name": "LayoutModel",
            "justify_items": null,
            "grid_row": null,
            "max_height": null,
            "align_content": null,
            "visibility": null,
            "align_self": null,
            "height": null,
            "min_height": null,
            "padding": null,
            "grid_auto_rows": null,
            "grid_gap": null,
            "max_width": null,
            "order": null,
            "_view_module_version": "1.2.0",
            "grid_template_areas": null,
            "object_position": null,
            "object_fit": null,
            "grid_auto_columns": null,
            "margin": null,
            "display": null,
            "left": null
          }
        }
      }
    }
  },
  "cells": [
    {
      "cell_type": "code",
      "metadata": {
        "id": "composite-access"
      },
      "source": [
        ""
      ],
      "id": "composite-access",
      "execution_count": null,
      "outputs": []
    },
    {
      "cell_type": "code",
      "metadata": {
        "ExecuteTime": {
          "end_time": "2021-05-20T06:09:47.721008Z",
          "start_time": "2021-05-20T06:09:47.632928Z"
        },
        "id": "endless-salvation"
      },
      "source": [
        "import pandas as pd\n",
        "import numpy as np\n",
        "import os, sys, gc\n",
        "from tqdm.notebook import tqdm\n",
        "import warnings \n",
        "warnings.filterwarnings('ignore')"
      ],
      "id": "endless-salvation",
      "execution_count": 4,
      "outputs": []
    },
    {
      "cell_type": "code",
      "metadata": {
        "id": "lFyCL0A2Yyhl",
        "outputId": "538b9e1b-fbd6-4628-e2f6-aa3822629ca1",
        "colab": {
          "base_uri": "https://localhost:8080/"
        }
      },
      "source": [
        "from google.colab import drive\n",
        "drive.mount('/content/drive')"
      ],
      "id": "lFyCL0A2Yyhl",
      "execution_count": 1,
      "outputs": [
        {
          "output_type": "stream",
          "text": [
            "Mounted at /content/drive\n"
          ],
          "name": "stdout"
        }
      ]
    },
    {
      "cell_type": "code",
      "metadata": {
        "ExecuteTime": {
          "end_time": "2021-05-20T06:09:55.948980Z",
          "start_time": "2021-05-20T06:09:55.944976Z"
        },
        "id": "varied-moses"
      },
      "source": [
        "path = '/content/drive/MyDrive/input/goodbooks10k/'"
      ],
      "id": "varied-moses",
      "execution_count": 6,
      "outputs": []
    },
    {
      "cell_type": "code",
      "metadata": {
        "ExecuteTime": {
          "end_time": "2021-05-20T06:09:59.808988Z",
          "start_time": "2021-05-20T06:09:59.248480Z"
        },
        "id": "optional-message"
      },
      "source": [
        "books = pd.read_csv(path + \"books.csv\")\n",
        "book_tags = pd.read_csv(path + \"book_tags.csv\")\n",
        "train = pd.read_csv(path + \"train.csv\")\n",
        "test = pd.read_csv(path + \"test.csv\")\n",
        "tags = pd.read_csv(path + \"tags.csv\")\n",
        "to_read = pd.read_csv(path + \"to_read.csv\")"
      ],
      "id": "optional-message",
      "execution_count": 9,
      "outputs": []
    },
    {
      "cell_type": "code",
      "metadata": {
        "ExecuteTime": {
          "end_time": "2021-05-20T06:10:02.693151Z",
          "start_time": "2021-05-20T06:10:01.960486Z"
        },
        "id": "otherwise-projection"
      },
      "source": [
        "train['book_id'] = train['book_id'].astype(str)\n",
        "test['book_id'] = test['book_id'].astype(str)\n",
        "books['book_id'] = books['book_id'].astype(str)"
      ],
      "id": "otherwise-projection",
      "execution_count": 10,
      "outputs": []
    },
    {
      "cell_type": "code",
      "metadata": {
        "ExecuteTime": {
          "end_time": "2021-05-20T06:10:09.254612Z",
          "start_time": "2021-05-20T06:10:09.232592Z"
        },
        "id": "greek-legend"
      },
      "source": [
        "popular_rec_model = books.sort_values(by='books_count', ascending=False)['book_id'].values[0:500]"
      ],
      "id": "greek-legend",
      "execution_count": 11,
      "outputs": []
    },
    {
      "cell_type": "code",
      "metadata": {
        "ExecuteTime": {
          "end_time": "2021-05-20T06:10:43.187945Z",
          "start_time": "2021-05-20T06:10:12.560630Z"
        },
        "id": "fitting-antibody",
        "outputId": "f370e657-7bde-4e67-e5a4-10522e30890a",
        "colab": {
          "base_uri": "https://localhost:8080/",
          "height": 67,
          "referenced_widgets": [
            "d6e1e45d81794be8ba5515d708695e5a",
            "e10a2e331d174669af34b675e586ca6d",
            "031d3e0283544df797fd702604c5ebc5",
            "9bef2169a61c496a87c9d7374159ca97",
            "cade4b7f20744e939a52e4bf4977632d",
            "022d79c002aa4b61a75fc4e13773d827",
            "21449e1074d642b1855dc7d2e93f8d7e",
            "ff2c67e06f2d4aa69bb65a8520ae41a4"
          ]
        }
      },
      "source": [
        "sol = test.groupby(['user_id'])['book_id'].agg({'unique'}).reset_index()\n",
        "gt = {}\n",
        "for user in tqdm(sol['user_id'].unique()): \n",
        "    gt[user] = list(sol[sol['user_id'] == user]['unique'].values[0])"
      ],
      "id": "fitting-antibody",
      "execution_count": 12,
      "outputs": [
        {
          "output_type": "display_data",
          "data": {
            "application/vnd.jupyter.widget-view+json": {
              "model_id": "d6e1e45d81794be8ba5515d708695e5a",
              "version_minor": 0,
              "version_major": 2
            },
            "text/plain": [
              "HBox(children=(FloatProgress(value=0.0, max=53424.0), HTML(value='')))"
            ]
          },
          "metadata": {
            "tags": []
          }
        },
        {
          "output_type": "stream",
          "text": [
            "\n"
          ],
          "name": "stdout"
        }
      ]
    },
    {
      "cell_type": "code",
      "metadata": {
        "ExecuteTime": {
          "end_time": "2021-05-20T06:10:43.473203Z",
          "start_time": "2021-05-20T06:10:43.459191Z"
        },
        "id": "acknowledged-round"
      },
      "source": [
        "rec_df = pd.DataFrame()\n",
        "rec_df['user_id'] = train['user_id'].unique()"
      ],
      "id": "acknowledged-round",
      "execution_count": 13,
      "outputs": []
    },
    {
      "cell_type": "markdown",
      "metadata": {
        "id": "compound-rebound"
      },
      "source": [
        "### TF-IDF를 이용한 Contents Based Model"
      ],
      "id": "compound-rebound"
    },
    {
      "cell_type": "code",
      "metadata": {
        "ExecuteTime": {
          "end_time": "2021-05-20T06:11:45.573092Z",
          "start_time": "2021-05-20T06:11:45.489016Z"
        },
        "id": "weighted-output",
        "outputId": "8aece0b3-a362-4a70-d195-b7fee5d527e7",
        "colab": {
          "base_uri": "https://localhost:8080/"
        }
      },
      "source": [
        "from sklearn.feature_extraction.text import TfidfVectorizer\n",
        "\n",
        "tfidf = TfidfVectorizer(stop_words='english')\n",
        "tfidf_matrix = tfidf.fit_transform(books['title'])\n",
        "print(tfidf_matrix.shape)"
      ],
      "id": "weighted-output",
      "execution_count": 14,
      "outputs": [
        {
          "output_type": "stream",
          "text": [
            "(10000, 9019)\n"
          ],
          "name": "stdout"
        }
      ]
    },
    {
      "cell_type": "code",
      "metadata": {
        "ExecuteTime": {
          "end_time": "2021-05-20T06:12:20.871645Z",
          "start_time": "2021-05-20T06:12:20.712501Z"
        },
        "id": "aboriginal-jurisdiction",
        "outputId": "b96871a2-5cd3-4cb2-9fc8-d055277539b1",
        "colab": {
          "base_uri": "https://localhost:8080/"
        }
      },
      "source": [
        "from sklearn.metrics.pairwise import cosine_similarity\n",
        "cosine_matrix = cosine_similarity(tfidf_matrix, tfidf_matrix)\n",
        "cosine_matrix.shape"
      ],
      "id": "aboriginal-jurisdiction",
      "execution_count": 15,
      "outputs": [
        {
          "output_type": "execute_result",
          "data": {
            "text/plain": [
              "(10000, 10000)"
            ]
          },
          "metadata": {
            "tags": []
          },
          "execution_count": 15
        }
      ]
    },
    {
      "cell_type": "code",
      "metadata": {
        "ExecuteTime": {
          "end_time": "2021-05-20T06:16:19.615438Z",
          "start_time": "2021-05-20T06:16:19.595421Z"
        },
        "id": "acting-composition"
      },
      "source": [
        "# book title과 id를 매핑할 딕셔너리 생성\n",
        "book2id = {}\n",
        "for i, c in enumerate(books['title']): book2id[i] = c\n",
        "# id와 book title을 매핑할 딕셔너리 생성\n",
        "id2book = {}\n",
        "for i, c in book2id.items(): id2book[c] = i\n",
        "# book_id과 title을 매핑할 딕셔너리 생성\n",
        "bookid2book = {}\n",
        "for i, j in zip(books['title'].values, books['book_id'].values):\n",
        "    bookid2book[i] = j "
      ],
      "id": "acting-composition",
      "execution_count": 16,
      "outputs": []
    },
    {
      "cell_type": "code",
      "metadata": {
        "ExecuteTime": {
          "end_time": "2021-05-20T06:16:25.636407Z",
          "start_time": "2021-05-20T06:16:25.624397Z"
        },
        "id": "continent-kazakhstan",
        "outputId": "409a65ea-e33c-44ac-9308-30b7db025ecb",
        "colab": {
          "base_uri": "https://localhost:8080/"
        }
      },
      "source": [
        "books['title'].head()"
      ],
      "id": "continent-kazakhstan",
      "execution_count": 17,
      "outputs": [
        {
          "output_type": "execute_result",
          "data": {
            "text/plain": [
              "0              The Hunger Games (The Hunger Games, #1)\n",
              "1    Harry Potter and the Sorcerer's Stone (Harry P...\n",
              "2                              Twilight (Twilight, #1)\n",
              "3                                To Kill a Mockingbird\n",
              "4                                     The Great Gatsby\n",
              "Name: title, dtype: object"
            ]
          },
          "metadata": {
            "tags": []
          },
          "execution_count": 17
        }
      ]
    },
    {
      "cell_type": "code",
      "metadata": {
        "ExecuteTime": {
          "end_time": "2021-05-20T06:17:46.398241Z",
          "start_time": "2021-05-20T06:17:46.312163Z"
        },
        "id": "found-phone",
        "outputId": "fc0e94d0-6c56-4e60-f915-295d1ba72edb",
        "colab": {
          "base_uri": "https://localhost:8080/"
        }
      },
      "source": [
        "idx = id2book['Twilight (Twilight, #1)']\n",
        "sim_scores = [(book2id[i], c) for i, c in enumerate(cosine_matrix[idx]) if i != idx]\n",
        "sim_scores = sorted(sim_scores, key = lambda x: x[1], reverse=True)\n",
        "sim_scores[0:10]"
      ],
      "id": "found-phone",
      "execution_count": 18,
      "outputs": [
        {
          "output_type": "execute_result",
          "data": {
            "text/plain": [
              "[('The Twilight Saga (Twilight, #1-4)', 0.920347418277986),\n",
              " ('The Twilight Collection (Twilight, #1-3)', 0.8786339079447184),\n",
              " ('The Twilight Saga Complete Collection  (Twilight, #1-4 + 3.5)',\n",
              "  0.7697532056304309),\n",
              " ('Twilight and History', 0.7465001575650626),\n",
              " ('The Twilight Saga: The Official Illustrated Guide (Twilight, #4.5)',\n",
              "  0.7045174300631831),\n",
              " ('Twilight Eyes', 0.6770737331426326),\n",
              " ('Twilight (The Mediator, #6)', 0.6377631333498953),\n",
              " ('New Moon (Twilight, #2)', 0.6185575138625542),\n",
              " ('Eclipse (Twilight, #3)', 0.612819563854136),\n",
              " ('The Servants of Twilight', 0.5837817298466093)]"
            ]
          },
          "metadata": {
            "tags": []
          },
          "execution_count": 18
        }
      ]
    },
    {
      "cell_type": "markdown",
      "metadata": {
        "id": "angry-purse"
      },
      "source": [
        "1. 학습셋에서 제목이 있는 경우에 대해서만 진행\n",
        "2. 각 유저별로 읽은 책의 목록을 수집\n",
        "3. 읽은 책과 유사한 책 추출\n",
        "4. 모든 책에 대해서 유사도를 더한 값을 계산\n",
        "5. 3에서 유사도가 가장 높은 순서대로 추출"
      ],
      "id": "angry-purse"
    },
    {
      "cell_type": "code",
      "metadata": {
        "ExecuteTime": {
          "end_time": "2021-05-20T06:18:25.421183Z",
          "start_time": "2021-05-20T06:18:25.312084Z"
        },
        "id": "generous-premiere",
        "outputId": "2873bff9-4ec8-48f6-97ff-360890ae6ce5",
        "colab": {
          "base_uri": "https://localhost:8080/",
          "height": 200
        }
      },
      "source": [
        "train = pd.merge(train, books[['book_id', 'title']], how='left', on='book_id')\n",
        "train.head()"
      ],
      "id": "generous-premiere",
      "execution_count": 19,
      "outputs": [
        {
          "output_type": "execute_result",
          "data": {
            "text/html": [
              "<div>\n",
              "<style scoped>\n",
              "    .dataframe tbody tr th:only-of-type {\n",
              "        vertical-align: middle;\n",
              "    }\n",
              "\n",
              "    .dataframe tbody tr th {\n",
              "        vertical-align: top;\n",
              "    }\n",
              "\n",
              "    .dataframe thead th {\n",
              "        text-align: right;\n",
              "    }\n",
              "</style>\n",
              "<table border=\"1\" class=\"dataframe\">\n",
              "  <thead>\n",
              "    <tr style=\"text-align: right;\">\n",
              "      <th></th>\n",
              "      <th>user_id</th>\n",
              "      <th>book_id</th>\n",
              "      <th>title</th>\n",
              "    </tr>\n",
              "  </thead>\n",
              "  <tbody>\n",
              "    <tr>\n",
              "      <th>0</th>\n",
              "      <td>1</td>\n",
              "      <td>6285</td>\n",
              "      <td>NaN</td>\n",
              "    </tr>\n",
              "    <tr>\n",
              "      <th>1</th>\n",
              "      <td>2</td>\n",
              "      <td>8034</td>\n",
              "      <td>NaN</td>\n",
              "    </tr>\n",
              "    <tr>\n",
              "      <th>2</th>\n",
              "      <td>3</td>\n",
              "      <td>9014</td>\n",
              "      <td>The Long Walk</td>\n",
              "    </tr>\n",
              "    <tr>\n",
              "      <th>3</th>\n",
              "      <td>4</td>\n",
              "      <td>8464</td>\n",
              "      <td>NaN</td>\n",
              "    </tr>\n",
              "    <tr>\n",
              "      <th>4</th>\n",
              "      <td>5</td>\n",
              "      <td>6646</td>\n",
              "      <td>NaN</td>\n",
              "    </tr>\n",
              "  </tbody>\n",
              "</table>\n",
              "</div>"
            ],
            "text/plain": [
              "   user_id book_id          title\n",
              "0        1    6285            NaN\n",
              "1        2    8034            NaN\n",
              "2        3    9014  The Long Walk\n",
              "3        4    8464            NaN\n",
              "4        5    6646            NaN"
            ]
          },
          "metadata": {
            "tags": []
          },
          "execution_count": 19
        }
      ]
    },
    {
      "cell_type": "code",
      "metadata": {
        "ExecuteTime": {
          "end_time": "2021-05-20T06:19:14.142926Z",
          "start_time": "2021-05-20T06:19:14.080870Z"
        },
        "id": "stretch-columbus",
        "outputId": "ed22b75e-ed29-45e9-87ab-3db6116f1e5b",
        "colab": {
          "base_uri": "https://localhost:8080/",
          "height": 200
        }
      },
      "source": [
        "# 0. 학습셋에서 제목이 있는 경우에 대해서만 진행\n",
        "tf_train = train[train['title'].notnull()].reset_index(drop=True)\n",
        "tf_train['idx2title'] = tf_train['title'].apply(lambda x: id2book[x])\n",
        "tf_train.head()"
      ],
      "id": "stretch-columbus",
      "execution_count": 20,
      "outputs": [
        {
          "output_type": "execute_result",
          "data": {
            "text/html": [
              "<div>\n",
              "<style scoped>\n",
              "    .dataframe tbody tr th:only-of-type {\n",
              "        vertical-align: middle;\n",
              "    }\n",
              "\n",
              "    .dataframe tbody tr th {\n",
              "        vertical-align: top;\n",
              "    }\n",
              "\n",
              "    .dataframe thead th {\n",
              "        text-align: right;\n",
              "    }\n",
              "</style>\n",
              "<table border=\"1\" class=\"dataframe\">\n",
              "  <thead>\n",
              "    <tr style=\"text-align: right;\">\n",
              "      <th></th>\n",
              "      <th>user_id</th>\n",
              "      <th>book_id</th>\n",
              "      <th>title</th>\n",
              "      <th>idx2title</th>\n",
              "    </tr>\n",
              "  </thead>\n",
              "  <tbody>\n",
              "    <tr>\n",
              "      <th>0</th>\n",
              "      <td>3</td>\n",
              "      <td>9014</td>\n",
              "      <td>The Long Walk</td>\n",
              "      <td>1287</td>\n",
              "    </tr>\n",
              "    <tr>\n",
              "      <th>1</th>\n",
              "      <td>7</td>\n",
              "      <td>4588</td>\n",
              "      <td>Extremely Loud and Incredibly Close</td>\n",
              "      <td>248</td>\n",
              "    </tr>\n",
              "    <tr>\n",
              "      <th>2</th>\n",
              "      <td>7</td>\n",
              "      <td>4588</td>\n",
              "      <td>Extremely Loud and Incredibly Close</td>\n",
              "      <td>248</td>\n",
              "    </tr>\n",
              "    <tr>\n",
              "      <th>3</th>\n",
              "      <td>10</td>\n",
              "      <td>5084</td>\n",
              "      <td>My Life in France</td>\n",
              "      <td>1440</td>\n",
              "    </tr>\n",
              "    <tr>\n",
              "      <th>4</th>\n",
              "      <td>14</td>\n",
              "      <td>7604</td>\n",
              "      <td>Lolita</td>\n",
              "      <td>120</td>\n",
              "    </tr>\n",
              "  </tbody>\n",
              "</table>\n",
              "</div>"
            ],
            "text/plain": [
              "   user_id book_id                                title  idx2title\n",
              "0        3    9014                        The Long Walk       1287\n",
              "1        7    4588  Extremely Loud and Incredibly Close        248\n",
              "2        7    4588  Extremely Loud and Incredibly Close        248\n",
              "3       10    5084                    My Life in France       1440\n",
              "4       14    7604                               Lolita        120"
            ]
          },
          "metadata": {
            "tags": []
          },
          "execution_count": 20
        }
      ]
    },
    {
      "cell_type": "code",
      "metadata": {
        "ExecuteTime": {
          "end_time": "2021-05-20T06:19:45.117554Z",
          "start_time": "2021-05-20T06:19:45.104542Z"
        },
        "id": "biblical-change"
      },
      "source": [
        "idx2title2book = {}\n",
        "for i, j in zip(tf_train['idx2title'].values, tf_train['book_id'].values):\n",
        "    idx2title2book[i] = j"
      ],
      "id": "biblical-change",
      "execution_count": 21,
      "outputs": []
    },
    {
      "cell_type": "code",
      "metadata": {
        "ExecuteTime": {
          "end_time": "2021-05-20T06:20:38.328375Z",
          "start_time": "2021-05-20T06:20:37.192344Z"
        },
        "id": "twenty-reserve",
        "outputId": "26d42d29-22ba-4ee6-d5bd-756fdd28ebc5",
        "colab": {
          "base_uri": "https://localhost:8080/"
        }
      },
      "source": [
        "# 1. 각 유저별로 읽은 책의 목록 수집\n",
        "user = 7\n",
        "read_list = tf_train.groupby(['user_id'])['idx2title'].agg({'unique'}).reset_index()\n",
        "seen = read_list[read_list['user_id'] == user]['unique'].values[0]\n",
        "seen"
      ],
      "id": "twenty-reserve",
      "execution_count": 22,
      "outputs": [
        {
          "output_type": "execute_result",
          "data": {
            "text/plain": [
              "array([248])"
            ]
          },
          "metadata": {
            "tags": []
          },
          "execution_count": 22
        }
      ]
    },
    {
      "cell_type": "code",
      "metadata": {
        "ExecuteTime": {
          "end_time": "2021-05-20T06:21:33.971401Z",
          "start_time": "2021-05-20T06:21:33.960391Z"
        },
        "id": "dress-illinois",
        "outputId": "48c90981-0831-4627-ee6d-ca47a2637b36",
        "colab": {
          "base_uri": "https://localhost:8080/"
        }
      },
      "source": [
        "# 2. 읽은 책과 유사한 책 추출\n",
        "# 248번째 책과 다른 책들간의 유사도\n",
        "cosine_matrix[248]"
      ],
      "id": "dress-illinois",
      "execution_count": 23,
      "outputs": [
        {
          "output_type": "execute_result",
          "data": {
            "text/plain": [
              "array([0., 0., 0., ..., 0., 0., 0.])"
            ]
          },
          "metadata": {
            "tags": []
          },
          "execution_count": 23
        }
      ]
    },
    {
      "cell_type": "code",
      "metadata": {
        "ExecuteTime": {
          "end_time": "2021-05-20T06:22:59.883413Z",
          "start_time": "2021-05-20T06:22:59.880411Z"
        },
        "id": "controversial-minnesota"
      },
      "source": [
        "# 2. 읽은 책과 유사한 책 추출\n",
        "total_cosine_sim = np.zeros(len(book2id))\n",
        "for book_ in seen:\n",
        "    # 3. 모든 책에 대해서 유사도를 더한 값을 계산\n",
        "    total_cosine_sim += cosine_matrix[book_]"
      ],
      "id": "controversial-minnesota",
      "execution_count": 24,
      "outputs": []
    },
    {
      "cell_type": "code",
      "metadata": {
        "ExecuteTime": {
          "end_time": "2021-05-20T06:24:07.824610Z",
          "start_time": "2021-05-20T06:24:07.787577Z"
        },
        "id": "healthy-meeting",
        "outputId": "0d84fd17-6fbb-4e5d-8e3b-6d14237fb173",
        "colab": {
          "base_uri": "https://localhost:8080/"
        }
      },
      "source": [
        "# 4. 3에서 유사도가 가장 높은 순서대로 추출\n",
        "sim_scores = [(i, c) for i, c in enumerate(total_cosine_sim) if i not in seen] # 자기 자신을 제외한 영화들의 유사도 및 인덱스 추출\n",
        "sim_scores = sorted(sim_scores, key = lambda x: x[1], reverse=True) # 유사도가 높은 순서대로 정렬\n",
        "sim_scores[0:5]"
      ],
      "id": "healthy-meeting",
      "execution_count": 25,
      "outputs": [
        {
          "output_type": "execute_result",
          "data": {
            "text/plain": [
              "[(3160, 0.3451654965519055),\n",
              " (9459, 0.33683651502400813),\n",
              " (7969, 0.30892286302140143),\n",
              " (9042, 0.26130119036804794),\n",
              " (6490, 0.2530815324721045)]"
            ]
          },
          "metadata": {
            "tags": []
          },
          "execution_count": 25
        }
      ]
    },
    {
      "cell_type": "code",
      "metadata": {
        "ExecuteTime": {
          "end_time": "2021-05-20T06:24:18.664954Z",
          "start_time": "2021-05-20T06:24:18.651942Z"
        },
        "id": "central-machine",
        "outputId": "bfec0db9-aaf0-4c96-b1d6-ae347190ec6f",
        "colab": {
          "base_uri": "https://localhost:8080/",
          "height": 35
        }
      },
      "source": [
        "book2id[3160]"
      ],
      "id": "central-machine",
      "execution_count": 26,
      "outputs": [
        {
          "output_type": "execute_result",
          "data": {
            "application/vnd.google.colaboratory.intrinsic+json": {
              "type": "string"
            },
            "text/plain": [
              "'Stay Close'"
            ]
          },
          "metadata": {
            "tags": []
          },
          "execution_count": 26
        }
      ]
    },
    {
      "cell_type": "code",
      "metadata": {
        "ExecuteTime": {
          "end_time": "2021-05-20T06:24:31.547674Z",
          "start_time": "2021-05-20T06:24:31.535664Z"
        },
        "id": "contemporary-california",
        "outputId": "62007715-d9d9-4529-e1b3-f5cb6e80efce",
        "colab": {
          "base_uri": "https://localhost:8080/",
          "height": 35
        }
      },
      "source": [
        "bookid2book[book2id[3160]]"
      ],
      "id": "contemporary-california",
      "execution_count": 27,
      "outputs": [
        {
          "output_type": "execute_result",
          "data": {
            "application/vnd.google.colaboratory.intrinsic+json": {
              "type": "string"
            },
            "text/plain": [
              "'11737271'"
            ]
          },
          "metadata": {
            "tags": []
          },
          "execution_count": 27
        }
      ]
    },
    {
      "cell_type": "code",
      "metadata": {
        "ExecuteTime": {
          "end_time": "2021-05-20T06:24:41.892570Z",
          "start_time": "2021-05-20T06:24:41.887566Z"
        },
        "id": "fitting-brown",
        "outputId": "d80f6a18-69d2-4687-8739-fda9b387d5a0",
        "colab": {
          "base_uri": "https://localhost:8080/"
        }
      },
      "source": [
        "tf_train['user_id'].unique()"
      ],
      "id": "fitting-brown",
      "execution_count": 28,
      "outputs": [
        {
          "output_type": "execute_result",
          "data": {
            "text/plain": [
              "array([    3,     7,    10, ..., 53406, 53408, 53420])"
            ]
          },
          "metadata": {
            "tags": []
          },
          "execution_count": 28
        }
      ]
    },
    {
      "cell_type": "code",
      "metadata": {
        "ExecuteTime": {
          "end_time": "2021-05-20T06:24:44.399846Z",
          "start_time": "2021-05-20T06:24:44.391839Z"
        },
        "id": "productive-packaging",
        "outputId": "0474e961-273e-4b3b-da56-b02261966e15",
        "colab": {
          "base_uri": "https://localhost:8080/",
          "height": 200
        }
      },
      "source": [
        "tf_train.head()"
      ],
      "id": "productive-packaging",
      "execution_count": 29,
      "outputs": [
        {
          "output_type": "execute_result",
          "data": {
            "text/html": [
              "<div>\n",
              "<style scoped>\n",
              "    .dataframe tbody tr th:only-of-type {\n",
              "        vertical-align: middle;\n",
              "    }\n",
              "\n",
              "    .dataframe tbody tr th {\n",
              "        vertical-align: top;\n",
              "    }\n",
              "\n",
              "    .dataframe thead th {\n",
              "        text-align: right;\n",
              "    }\n",
              "</style>\n",
              "<table border=\"1\" class=\"dataframe\">\n",
              "  <thead>\n",
              "    <tr style=\"text-align: right;\">\n",
              "      <th></th>\n",
              "      <th>user_id</th>\n",
              "      <th>book_id</th>\n",
              "      <th>title</th>\n",
              "      <th>idx2title</th>\n",
              "    </tr>\n",
              "  </thead>\n",
              "  <tbody>\n",
              "    <tr>\n",
              "      <th>0</th>\n",
              "      <td>3</td>\n",
              "      <td>9014</td>\n",
              "      <td>The Long Walk</td>\n",
              "      <td>1287</td>\n",
              "    </tr>\n",
              "    <tr>\n",
              "      <th>1</th>\n",
              "      <td>7</td>\n",
              "      <td>4588</td>\n",
              "      <td>Extremely Loud and Incredibly Close</td>\n",
              "      <td>248</td>\n",
              "    </tr>\n",
              "    <tr>\n",
              "      <th>2</th>\n",
              "      <td>7</td>\n",
              "      <td>4588</td>\n",
              "      <td>Extremely Loud and Incredibly Close</td>\n",
              "      <td>248</td>\n",
              "    </tr>\n",
              "    <tr>\n",
              "      <th>3</th>\n",
              "      <td>10</td>\n",
              "      <td>5084</td>\n",
              "      <td>My Life in France</td>\n",
              "      <td>1440</td>\n",
              "    </tr>\n",
              "    <tr>\n",
              "      <th>4</th>\n",
              "      <td>14</td>\n",
              "      <td>7604</td>\n",
              "      <td>Lolita</td>\n",
              "      <td>120</td>\n",
              "    </tr>\n",
              "  </tbody>\n",
              "</table>\n",
              "</div>"
            ],
            "text/plain": [
              "   user_id book_id                                title  idx2title\n",
              "0        3    9014                        The Long Walk       1287\n",
              "1        7    4588  Extremely Loud and Incredibly Close        248\n",
              "2        7    4588  Extremely Loud and Incredibly Close        248\n",
              "3       10    5084                    My Life in France       1440\n",
              "4       14    7604                               Lolita        120"
            ]
          },
          "metadata": {
            "tags": []
          },
          "execution_count": 29
        }
      ]
    },
    {
      "cell_type": "code",
      "metadata": {
        "ExecuteTime": {
          "end_time": "2021-05-20T06:45:17.205044Z",
          "start_time": "2021-05-20T06:30:52.743442Z"
        },
        "id": "varying-inside",
        "outputId": "a0e0aab8-a990-401a-8614-6ec3dfd80307",
        "colab": {
          "base_uri": "https://localhost:8080/",
          "height": 67,
          "referenced_widgets": [
            "b1181ce3d62e4365881a15a5fddb9309",
            "28a5ccc4a00348618621dea557ca205a",
            "361666c21b0a4b1ab0d40e725be14428",
            "42e6a260ea5c45c187b77912e5a397c5",
            "f2f1a047cfec416ba391edbbdeb0e418",
            "3cb68a373e184b0fb61371c5715695ff",
            "74664f382a794249900c9d32d5b64c69",
            "ea82d71e0bed4dcaadb62fffb78f8fc4"
          ]
        }
      },
      "source": [
        "# 전체 영화에 대해 진행\n",
        "total_rec_list = {}\n",
        "\n",
        "read_list1 = train.groupby(['user_id'])['book_id'].agg({'unique'}).reset_index()\n",
        "read_list2= tf_train.groupby(['user_id'])['idx2title'].agg({'unique'}).reset_index()\n",
        "\n",
        "for user in tqdm(train['user_id'].unique()):\n",
        "    rec_list = []\n",
        "    \n",
        "    # 만약 Tf-idf 소속의 추천대상이라면 콘텐츠 기반의 추천\n",
        "    if user in tf_train['user_id'].unique():\n",
        "        # 1. 각 유저별로 읽은 책의 목록 수집\n",
        "        seen = read_list2[read_list2['user_id'] == user]['unique'].values[0]\n",
        "        # 2. 읽은 책과 유사한 책 추출\n",
        "        total_cosine_sim = np.zeros(len(book2id))\n",
        "        for book_ in seen:\n",
        "            # 3. 모든 책에 대해 유사도를 더한 값을 계산\n",
        "            total_cosine_sim += cosine_matrix[book_]\n",
        "            \n",
        "        # 4. 3에서 유사도가 가장 높은 순서대로 추출\n",
        "        sim_scores = [(bookid2book[book2id[i]], c) for i, c in enumerate(total_cosine_sim) if i not in seen]\n",
        "        recs = sorted(sim_scores, key = lambda x: x[1], reverse=True)[0:300]\n",
        "        for rec in recs:\n",
        "            if rec not in seen:\n",
        "                rec_list.append(rec)\n",
        "                \n",
        "    # 그렇지 않으면 인기도 기반의 추천\n",
        "    else:\n",
        "        seen = read_list1[read_list1['user_id'] == user]['unique'].values[0]\n",
        "        for rec in popular_rec_model[0:400]:\n",
        "            if rec not in seen:\n",
        "                rec_list.append(rec)\n",
        "                \n",
        "    total_rec_list[user] = rec_list[0:200]\n",
        "            "
      ],
      "id": "varying-inside",
      "execution_count": 30,
      "outputs": [
        {
          "output_type": "display_data",
          "data": {
            "application/vnd.jupyter.widget-view+json": {
              "model_id": "b1181ce3d62e4365881a15a5fddb9309",
              "version_minor": 0,
              "version_major": 2
            },
            "text/plain": [
              "HBox(children=(FloatProgress(value=0.0, max=53382.0), HTML(value='')))"
            ]
          },
          "metadata": {
            "tags": []
          }
        },
        {
          "output_type": "stream",
          "text": [
            "\n"
          ],
          "name": "stdout"
        }
      ]
    },
    {
      "cell_type": "code",
      "metadata": {
        "ExecuteTime": {
          "end_time": "2021-05-20T06:45:23.632878Z",
          "start_time": "2021-05-20T06:45:23.619866Z"
        },
        "id": "raised-ownership"
      },
      "source": [
        "import six\n",
        "import math\n",
        "\n",
        "# https://github.com/kakao-arena/brunch-article-recommendation/blob/master/evaluate.py\n",
        "\n",
        "class evaluate():\n",
        "    def __init__(self, recs, gt, topn=100):\n",
        "        self.recs = recs\n",
        "        self.gt = gt \n",
        "        self.topn = topn \n",
        "        \n",
        "    def _ndcg(self):\n",
        "        Q, S = 0.0, 0.0\n",
        "        for u, seen in six.iteritems(self.gt):\n",
        "            seen = list(set(seen))\n",
        "            rec = self.recs.get(u, [])\n",
        "            if not rec or len(seen) == 0:\n",
        "                continue\n",
        "\n",
        "            dcg = 0.0\n",
        "            idcg = sum([1.0 / math.log(i + 2, 2) for i in range(min(len(seen), len(rec)))])\n",
        "            for i, r in enumerate(rec):\n",
        "                if r not in seen:\n",
        "                    continue\n",
        "                rank = i + 1\n",
        "                dcg += 1.0 / math.log(rank + 1, 2)\n",
        "            ndcg = dcg / idcg\n",
        "            S += ndcg\n",
        "            Q += 1\n",
        "        return S / Q\n",
        "\n",
        "\n",
        "    def _map(self):\n",
        "        n, ap = 0.0, 0.0\n",
        "        for u, seen in six.iteritems(self.gt):\n",
        "            seen = list(set(seen))\n",
        "            rec = self.recs.get(u, [])\n",
        "            if not rec or len(seen) == 0:\n",
        "                continue\n",
        "\n",
        "            _ap, correct = 0.0, 0.0\n",
        "            for i, r in enumerate(rec):\n",
        "                if r in seen:\n",
        "                    correct += 1\n",
        "                    _ap += (correct / (i + 1.0))\n",
        "            _ap /= min(len(seen), len(rec))\n",
        "            ap += _ap\n",
        "            n += 1.0\n",
        "        return ap / n\n",
        "\n",
        "\n",
        "    def _entropy_diversity(self):\n",
        "        sz = float(len(self.recs)) * self.topn\n",
        "        freq = {}\n",
        "        for u, rec in six.iteritems(self.recs):\n",
        "            for r in rec:\n",
        "                freq[r] = freq.get(r, 0) + 1\n",
        "        ent = -sum([v / sz * math.log(v / sz) for v in six.itervalues(freq)])\n",
        "        return ent\n",
        "    \n",
        "    def _evaluate(self):\n",
        "        print('MAP@%s: %s' % (self.topn, self._map()))\n",
        "        print('NDCG@%s: %s' % (self.topn, self._ndcg()))\n",
        "        print('EntDiv@%s: %s' % (self.topn, self._entropy_diversity()))"
      ],
      "id": "raised-ownership",
      "execution_count": 31,
      "outputs": []
    },
    {
      "cell_type": "code",
      "metadata": {
        "ExecuteTime": {
          "end_time": "2021-05-20T06:45:37.209212Z",
          "start_time": "2021-05-20T06:45:30.001164Z"
        },
        "id": "recreational-server",
        "outputId": "eb00b185-dfc1-4902-fd5a-808ccf7f4cb0",
        "colab": {
          "base_uri": "https://localhost:8080/"
        }
      },
      "source": [
        "evaluate_func = evaluate(recs=total_rec_list, gt=gt, topn=200)\n",
        "evaluate_func._evaluate()"
      ],
      "id": "recreational-server",
      "execution_count": 32,
      "outputs": [
        {
          "output_type": "stream",
          "text": [
            "MAP@200: 8.792647421603096e-05\n",
            "NDCG@200: 0.0008922079511553609\n",
            "EntDiv@200: 6.916300598784509\n"
          ],
          "name": "stdout"
        }
      ]
    },
    {
      "cell_type": "markdown",
      "metadata": {
        "id": "virtual-minnesota"
      },
      "source": [
        "### Word2Vec을 이용한 추천시스템\n",
        "- Tag 간 유사도\n",
        "- 제목간의 유사도\n",
        "- 책의 읽은 순서를 통한 유사도"
      ],
      "id": "virtual-minnesota"
    },
    {
      "cell_type": "code",
      "metadata": {
        "id": "reasonable-transportation",
        "outputId": "ff187a5a-66c7-4545-ecc6-ef056e9d67f9",
        "colab": {
          "base_uri": "https://localhost:8080/",
          "height": 230
        }
      },
      "source": [
        "agg = train.groupby(['user_id'])['book_id'].agg({'unique'})\n",
        "agg.head()"
      ],
      "id": "reasonable-transportation",
      "execution_count": 33,
      "outputs": [
        {
          "output_type": "execute_result",
          "data": {
            "text/html": [
              "<div>\n",
              "<style scoped>\n",
              "    .dataframe tbody tr th:only-of-type {\n",
              "        vertical-align: middle;\n",
              "    }\n",
              "\n",
              "    .dataframe tbody tr th {\n",
              "        vertical-align: top;\n",
              "    }\n",
              "\n",
              "    .dataframe thead th {\n",
              "        text-align: right;\n",
              "    }\n",
              "</style>\n",
              "<table border=\"1\" class=\"dataframe\">\n",
              "  <thead>\n",
              "    <tr style=\"text-align: right;\">\n",
              "      <th></th>\n",
              "      <th>unique</th>\n",
              "    </tr>\n",
              "    <tr>\n",
              "      <th>user_id</th>\n",
              "      <th></th>\n",
              "    </tr>\n",
              "  </thead>\n",
              "  <tbody>\n",
              "    <tr>\n",
              "      <th>1</th>\n",
              "      <td>[6285]</td>\n",
              "    </tr>\n",
              "    <tr>\n",
              "      <th>2</th>\n",
              "      <td>[8034]</td>\n",
              "    </tr>\n",
              "    <tr>\n",
              "      <th>3</th>\n",
              "      <td>[9014]</td>\n",
              "    </tr>\n",
              "    <tr>\n",
              "      <th>4</th>\n",
              "      <td>[8464]</td>\n",
              "    </tr>\n",
              "    <tr>\n",
              "      <th>5</th>\n",
              "      <td>[6646, 4829]</td>\n",
              "    </tr>\n",
              "  </tbody>\n",
              "</table>\n",
              "</div>"
            ],
            "text/plain": [
              "               unique\n",
              "user_id              \n",
              "1              [6285]\n",
              "2              [8034]\n",
              "3              [9014]\n",
              "4              [8464]\n",
              "5        [6646, 4829]"
            ]
          },
          "metadata": {
            "tags": []
          },
          "execution_count": 33
        }
      ]
    },
    {
      "cell_type": "code",
      "metadata": {
        "id": "identified-tamil"
      },
      "source": [
        "# int 형식은 word2vec에서 학습이 되지 않아 string으로 변경\n",
        "sentence = []\n",
        "for user_sentence in agg['unique'].values:\n",
        "    sentence.append(list(map(str, user_sentence)))"
      ],
      "id": "identified-tamil",
      "execution_count": 34,
      "outputs": []
    },
    {
      "cell_type": "code",
      "metadata": {
        "id": "formal-omega"
      },
      "source": [
        "# word2vec 학습 진행\n",
        "from gensim.models import Word2Vec\n",
        "embedding_model = Word2Vec(sentence, size=20, window=5,\n",
        "                           min_count=1, workers=4, iter=200, sg=1)"
      ],
      "id": "formal-omega",
      "execution_count": 35,
      "outputs": []
    },
    {
      "cell_type": "code",
      "metadata": {
        "id": "level-sacramento",
        "outputId": "0166b88e-555c-4e0e-d3ff-8ca37c40d20c",
        "colab": {
          "base_uri": "https://localhost:8080/"
        }
      },
      "source": [
        "embedding_model.wv.most_similar(positive=['4893'], topn=10)\n",
        "\"\"\"[('7264', 0.8029036521911621),\n",
        " ('8470', 0.8020585179328918),\n",
        " ('9864', 0.7978218793869019),\n",
        " ('8923', 0.7909978628158569),\n",
        " ('3734', 0.7892516851425171),\n",
        " ('8508', 0.7859364748001099),\n",
        " ('9537', 0.783882737159729),\n",
        " ('9323', 0.7777514457702637),\n",
        " ('462', 0.7774814367294312),\n",
        " ('9280', 0.7748066186904907)]\"\"\"\n",
        "for i in embedding_model.wv.most_similar(positive=['4893'], topn=5):\n",
        "     print(i[0])"
      ],
      "id": "level-sacramento",
      "execution_count": 46,
      "outputs": [
        {
          "output_type": "stream",
          "text": [
            "7264\n",
            "8470\n",
            "9864\n",
            "8923\n",
            "3734\n"
          ],
          "name": "stdout"
        }
      ]
    },
    {
      "cell_type": "code",
      "metadata": {
        "id": "continuous-jewel",
        "outputId": "c7cab5a0-6486-4e00-c4b8-33dc2b4f6e2a",
        "colab": {
          "base_uri": "https://localhost:8080/",
          "height": 86,
          "referenced_widgets": [
            "5d9f2525aa5540a3b8c73dcf0757b0a7",
            "782350092c07474f9b5d48d46a36bd53",
            "a24c447c5ef4486a9c688ede50a8b799",
            "61505451fd1940b6a180babc10ff4537",
            "a1ab014b118c42aa98b5f7867a2b8059",
            "55266e2df33346378292acb9cb3a28cc",
            "dfda3572b58c40529af01428d33e2396",
            "6c39e41b450c4d45b5f35f80ad3f9537"
          ]
        }
      },
      "source": [
        "# 전체 영화에 대해 진행\n",
        "total_rec_list = {}\n",
        "\n",
        "read_list = train.groupby(['user_id'])['book_id'].agg({'unique'}).reset_index()\n",
        "for user in tqdm(train['user_id'].unique()):\n",
        "    rec_list = []\n",
        "    seen = read_list[read_list['user_id'] == user]['unique'].values[0]\n",
        "    word2vec_dict = {}\n",
        "    for book in seen: # 본 책과 유사한 300 개의 책을 뽑는 word2vec 모델\n",
        "        for i in embedding_model.wv.most_similar(positive=[book], topn=300):\n",
        "            if i[0] not in seen: # 본 책이 아닐 때\n",
        "                if i[0] not in word2vec_dict.keys(): # 이전에 word2vec으로 추천한 적이 없는 경우\n",
        "                    word2vec_dict[i[0]] = i[1] # word2vec_dict에 키와 값 추가\n",
        "                else: # 이전에 word2vec으로 추천한 적이 있는 경우\n",
        "                    word2vec_dict[i[0]] += i[1] # 해당 책의 확률을 증가 시킴\n",
        "\n",
        "    rec_list = list(dict(sorted(word2vec_dict.items(), # 해당 책의 확률 내림차순으로 정렬\n",
        "                                key = lambda x: x[1], reverse=True)).keys())\n",
        "    \n",
        "    total_rec_list[user] = rec_list[0:200] # 200권 저장"
      ],
      "id": "continuous-jewel",
      "execution_count": 48,
      "outputs": [
        {
          "output_type": "stream",
          "text": [
            "\n"
          ],
          "name": "stdout"
        },
        {
          "output_type": "display_data",
          "data": {
            "application/vnd.jupyter.widget-view+json": {
              "model_id": "5d9f2525aa5540a3b8c73dcf0757b0a7",
              "version_minor": 0,
              "version_major": 2
            },
            "text/plain": [
              "HBox(children=(FloatProgress(value=0.0, max=53382.0), HTML(value='')))"
            ]
          },
          "metadata": {
            "tags": []
          }
        },
        {
          "output_type": "stream",
          "text": [
            "\n"
          ],
          "name": "stdout"
        }
      ]
    },
    {
      "cell_type": "code",
      "metadata": {
        "id": "fuzzy-narrow",
        "outputId": "8d90416a-194d-4d3d-951d-01b04fa36421",
        "colab": {
          "base_uri": "https://localhost:8080/"
        }
      },
      "source": [
        "evaluate_func = evaluate(recs=total_rec_list, gt=gt, topn=200)\n",
        "evaluate_func._evaluate()"
      ],
      "id": "fuzzy-narrow",
      "execution_count": 50,
      "outputs": [
        {
          "output_type": "stream",
          "text": [
            "MAP@200: 0.06373362702004991\n",
            "NDCG@200: 0.19406269857668312\n",
            "EntDiv@200: 8.904332683259623\n"
          ],
          "name": "stdout"
        }
      ]
    },
    {
      "cell_type": "markdown",
      "metadata": {
        "id": "yellow-ground"
      },
      "source": [
        "### 태그를 통한 유사도 계산"
      ],
      "id": "yellow-ground"
    },
    {
      "cell_type": "code",
      "metadata": {
        "id": "virtual-portsmouth",
        "outputId": "df510d02-1287-4ab1-9bfa-8177fe1fc1be",
        "colab": {
          "base_uri": "https://localhost:8080/",
          "height": 200
        }
      },
      "source": [
        "book_tags.columns = ['book_id', 'tag_id', 'count']\n",
        "book_tags['book_id'] = book_tags['book_id'].astype(str)\n",
        "book_tags['tag_id'] = book_tags['tag_id'].astype(str)\n",
        "\n",
        "tags['tag_id'] = tags['tag_id'].astype(str)\n",
        "\n",
        "book_tags = pd.merge(book_tags, tags, how='left', on='tag_id')\n",
        "book_tags.head()"
      ],
      "id": "virtual-portsmouth",
      "execution_count": 52,
      "outputs": [
        {
          "output_type": "execute_result",
          "data": {
            "text/html": [
              "<div>\n",
              "<style scoped>\n",
              "    .dataframe tbody tr th:only-of-type {\n",
              "        vertical-align: middle;\n",
              "    }\n",
              "\n",
              "    .dataframe tbody tr th {\n",
              "        vertical-align: top;\n",
              "    }\n",
              "\n",
              "    .dataframe thead th {\n",
              "        text-align: right;\n",
              "    }\n",
              "</style>\n",
              "<table border=\"1\" class=\"dataframe\">\n",
              "  <thead>\n",
              "    <tr style=\"text-align: right;\">\n",
              "      <th></th>\n",
              "      <th>book_id</th>\n",
              "      <th>tag_id</th>\n",
              "      <th>count</th>\n",
              "      <th>tag_name</th>\n",
              "    </tr>\n",
              "  </thead>\n",
              "  <tbody>\n",
              "    <tr>\n",
              "      <th>0</th>\n",
              "      <td>1</td>\n",
              "      <td>30574</td>\n",
              "      <td>167697</td>\n",
              "      <td>to-read</td>\n",
              "    </tr>\n",
              "    <tr>\n",
              "      <th>1</th>\n",
              "      <td>1</td>\n",
              "      <td>11305</td>\n",
              "      <td>37174</td>\n",
              "      <td>fantasy</td>\n",
              "    </tr>\n",
              "    <tr>\n",
              "      <th>2</th>\n",
              "      <td>1</td>\n",
              "      <td>11557</td>\n",
              "      <td>34173</td>\n",
              "      <td>favorites</td>\n",
              "    </tr>\n",
              "    <tr>\n",
              "      <th>3</th>\n",
              "      <td>1</td>\n",
              "      <td>8717</td>\n",
              "      <td>12986</td>\n",
              "      <td>currently-reading</td>\n",
              "    </tr>\n",
              "    <tr>\n",
              "      <th>4</th>\n",
              "      <td>1</td>\n",
              "      <td>33114</td>\n",
              "      <td>12716</td>\n",
              "      <td>young-adult</td>\n",
              "    </tr>\n",
              "  </tbody>\n",
              "</table>\n",
              "</div>"
            ],
            "text/plain": [
              "  book_id tag_id   count           tag_name\n",
              "0       1  30574  167697            to-read\n",
              "1       1  11305   37174            fantasy\n",
              "2       1  11557   34173          favorites\n",
              "3       1   8717   12986  currently-reading\n",
              "4       1  33114   12716        young-adult"
            ]
          },
          "metadata": {
            "tags": []
          },
          "execution_count": 52
        }
      ]
    },
    {
      "cell_type": "code",
      "metadata": {
        "id": "suited-printing",
        "outputId": "91d0a3c2-3dc7-474a-f8f1-2767976eec79",
        "colab": {
          "base_uri": "https://localhost:8080/",
          "height": 200
        }
      },
      "source": [
        "agg = book_tags.groupby(['book_id'])['tag_name'].agg({'unique'}).reset_index()\n",
        "agg.head()"
      ],
      "id": "suited-printing",
      "execution_count": 53,
      "outputs": [
        {
          "output_type": "execute_result",
          "data": {
            "text/html": [
              "<div>\n",
              "<style scoped>\n",
              "    .dataframe tbody tr th:only-of-type {\n",
              "        vertical-align: middle;\n",
              "    }\n",
              "\n",
              "    .dataframe tbody tr th {\n",
              "        vertical-align: top;\n",
              "    }\n",
              "\n",
              "    .dataframe thead th {\n",
              "        text-align: right;\n",
              "    }\n",
              "</style>\n",
              "<table border=\"1\" class=\"dataframe\">\n",
              "  <thead>\n",
              "    <tr style=\"text-align: right;\">\n",
              "      <th></th>\n",
              "      <th>book_id</th>\n",
              "      <th>unique</th>\n",
              "    </tr>\n",
              "  </thead>\n",
              "  <tbody>\n",
              "    <tr>\n",
              "      <th>0</th>\n",
              "      <td>1</td>\n",
              "      <td>[to-read, fantasy, favorites, currently-readin...</td>\n",
              "    </tr>\n",
              "    <tr>\n",
              "      <th>1</th>\n",
              "      <td>10</td>\n",
              "      <td>[to-read, favorites, fantasy, currently-readin...</td>\n",
              "    </tr>\n",
              "    <tr>\n",
              "      <th>2</th>\n",
              "      <td>10006</td>\n",
              "      <td>[to-read, fiction, currently-reading, rory-gil...</td>\n",
              "    </tr>\n",
              "    <tr>\n",
              "      <th>3</th>\n",
              "      <td>1000751</td>\n",
              "      <td>[to-read, classics, childrens, fiction, curren...</td>\n",
              "    </tr>\n",
              "    <tr>\n",
              "      <th>4</th>\n",
              "      <td>10008056</td>\n",
              "      <td>[to-read, default, currently-reading, krimi, c...</td>\n",
              "    </tr>\n",
              "  </tbody>\n",
              "</table>\n",
              "</div>"
            ],
            "text/plain": [
              "    book_id                                             unique\n",
              "0         1  [to-read, fantasy, favorites, currently-readin...\n",
              "1        10  [to-read, favorites, fantasy, currently-readin...\n",
              "2     10006  [to-read, fiction, currently-reading, rory-gil...\n",
              "3   1000751  [to-read, classics, childrens, fiction, curren...\n",
              "4  10008056  [to-read, default, currently-reading, krimi, c..."
            ]
          },
          "metadata": {
            "tags": []
          },
          "execution_count": 53
        }
      ]
    },
    {
      "cell_type": "code",
      "metadata": {
        "id": "toxic-sculpture"
      },
      "source": [
        "# 태그간 유사도 계산\n",
        "sentence = []\n",
        "for user_sentence in agg['unique'].values:\n",
        "    sentence.append(list(map(str, user_sentence)))"
      ],
      "id": "toxic-sculpture",
      "execution_count": 54,
      "outputs": []
    },
    {
      "cell_type": "code",
      "metadata": {
        "id": "elementary-mapping"
      },
      "source": [
        "from gensim.models import doc2vec\n",
        "doc_vectorizer = doc2vec.Doc2Vec(\n",
        "    dm = 0, # PV-DBOW / default 1\n",
        "    dbow_words = 1, # w2v와 동시에 진행\n",
        "    window = 10, # 이웃 단어 10개\n",
        "    size = 100, # 벡터 사이즈 100\n",
        "    alpha = 0.025, # 학습률 0.025\n",
        "    seed = 1234, # 시드값\n",
        "    min_count = 5, # 빈도 낮은건 무시\n",
        "    min_alpha = 0.025,  # 최소 학습률\n",
        "    workers = 4, # cpu 코어수\n",
        "    hs = 1, # hierar chical 소프트맥스\n",
        "    negative = 10 # negative 샘플링\n",
        ")"
      ],
      "id": "elementary-mapping",
      "execution_count": 55,
      "outputs": []
    },
    {
      "cell_type": "code",
      "metadata": {
        "id": "M3YthzDoxOJJ"
      },
      "source": [
        "from collections import namedtuple\n",
        "TaggedDocument = namedtuple('TaggedDocument', 'words tags')\n",
        "tagged_train_docs = [TaggedDocument(c, [d]) for c, d in agg[['unique', 'book_id']].values]"
      ],
      "id": "M3YthzDoxOJJ",
      "execution_count": 56,
      "outputs": []
    },
    {
      "cell_type": "code",
      "metadata": {
        "id": "G-XMiUpsxb21",
        "outputId": "e409e63f-1597-4ff7-9437-162ec91fe0fc",
        "colab": {
          "base_uri": "https://localhost:8080/"
        }
      },
      "source": [
        "doc_vectorizer.build_vocab(tagged_train_docs)\n",
        "print(str(doc_vectorizer))"
      ],
      "id": "G-XMiUpsxb21",
      "execution_count": 59,
      "outputs": [
        {
          "output_type": "stream",
          "text": [
            "Doc2Vec(dbow+w,d100,n10,hs,w10,mc5,s0.001,t4)\n"
          ],
          "name": "stdout"
        }
      ]
    },
    {
      "cell_type": "code",
      "metadata": {
        "id": "0iDvpBRHxnEB",
        "outputId": "5c173d57-dd45-4d3d-c8ea-e1f3d685aadb",
        "colab": {
          "base_uri": "https://localhost:8080/",
          "height": 86,
          "referenced_widgets": [
            "bf73aeef96594707a3bb67f76cabd16d",
            "1d8ad62e20c24632a78bd36e0c67c6ec",
            "aaf7a31699324412a17da5f76dd15d48",
            "1464fb88f2a6401eb70d304a55a2a4d4",
            "b25348d123e64c23a2cfcbaa5a13a898",
            "a67398f815ad430a8b22397d95c6e50d",
            "0ded6181db9b4371b83c3d2c7ce8bea0",
            "2fb5601b163d477fa99f7d636cce9421"
          ]
        }
      },
      "source": [
        "# 벡터 문서 학습\n",
        "from time import time\n",
        "start = time()\n",
        "for epoch in tqdm(range(5)):\n",
        "    doc_vectorizer.train(tagged_train_docs, total_examples=doc_vectorizer.corpus_count, \n",
        "                         epochs=doc_vectorizer.iter)\n",
        "    doc_vectorizer.alpha -= 0.002\n",
        "    doc_vectorizer.min_alpha = doc_vectorizer.alpha\n",
        "\n",
        "end = time()\n",
        "print('During Time: {}'.format(end - start))"
      ],
      "id": "0iDvpBRHxnEB",
      "execution_count": 60,
      "outputs": [
        {
          "output_type": "display_data",
          "data": {
            "application/vnd.jupyter.widget-view+json": {
              "model_id": "bf73aeef96594707a3bb67f76cabd16d",
              "version_minor": 0,
              "version_major": 2
            },
            "text/plain": [
              "HBox(children=(FloatProgress(value=0.0, max=5.0), HTML(value='')))"
            ]
          },
          "metadata": {
            "tags": []
          }
        },
        {
          "output_type": "stream",
          "text": [
            "\n",
            "During Time: 511.6239986419678\n"
          ],
          "name": "stdout"
        }
      ]
    },
    {
      "cell_type": "code",
      "metadata": {
        "id": "iypMhBLix-pZ",
        "outputId": "df01139d-a742-41d3-d55d-47d410a563f4",
        "colab": {
          "base_uri": "https://localhost:8080/"
        }
      },
      "source": [
        "doc_vectorizer.docvecs.most_similar('1', topn=20)"
      ],
      "id": "iypMhBLix-pZ",
      "execution_count": 61,
      "outputs": [
        {
          "output_type": "execute_result",
          "data": {
            "text/plain": [
              "[('136251', 0.8377048969268799),\n",
              " ('15881', 0.8329390287399292),\n",
              " ('3', 0.8081457614898682),\n",
              " ('5', 0.7997579574584961),\n",
              " ('6', 0.7975836396217346),\n",
              " ('10', 0.7586697340011597),\n",
              " ('862041', 0.7193409204483032),\n",
              " ('2', 0.7020633220672607),\n",
              " ('28187', 0.6340987682342529),\n",
              " ('111450', 0.6320762634277344),\n",
              " ('6294', 0.6319012641906738),\n",
              " ('3950967', 0.628352165222168),\n",
              " ('1317181', 0.6273409128189087),\n",
              " ('12127750', 0.6234869360923767),\n",
              " ('100464', 0.6106216907501221),\n",
              " ('99298', 0.6094565391540527),\n",
              " ('6164358', 0.6073373556137085),\n",
              " ('2120932', 0.603802502155304),\n",
              " ('4502507', 0.6030881404876709),\n",
              " ('5907', 0.5954141616821289)]"
            ]
          },
          "metadata": {
            "tags": []
          },
          "execution_count": 61
        }
      ]
    },
    {
      "cell_type": "code",
      "metadata": {
        "id": "-WNiHU9k1iWU",
        "outputId": "da90a4f2-ec9b-436b-89e3-a2bce58a5200",
        "colab": {
          "base_uri": "https://localhost:8080/",
          "height": 200
        }
      },
      "source": [
        "train.head()"
      ],
      "id": "-WNiHU9k1iWU",
      "execution_count": 62,
      "outputs": [
        {
          "output_type": "execute_result",
          "data": {
            "text/html": [
              "<div>\n",
              "<style scoped>\n",
              "    .dataframe tbody tr th:only-of-type {\n",
              "        vertical-align: middle;\n",
              "    }\n",
              "\n",
              "    .dataframe tbody tr th {\n",
              "        vertical-align: top;\n",
              "    }\n",
              "\n",
              "    .dataframe thead th {\n",
              "        text-align: right;\n",
              "    }\n",
              "</style>\n",
              "<table border=\"1\" class=\"dataframe\">\n",
              "  <thead>\n",
              "    <tr style=\"text-align: right;\">\n",
              "      <th></th>\n",
              "      <th>user_id</th>\n",
              "      <th>book_id</th>\n",
              "      <th>title</th>\n",
              "    </tr>\n",
              "  </thead>\n",
              "  <tbody>\n",
              "    <tr>\n",
              "      <th>0</th>\n",
              "      <td>1</td>\n",
              "      <td>6285</td>\n",
              "      <td>NaN</td>\n",
              "    </tr>\n",
              "    <tr>\n",
              "      <th>1</th>\n",
              "      <td>2</td>\n",
              "      <td>8034</td>\n",
              "      <td>NaN</td>\n",
              "    </tr>\n",
              "    <tr>\n",
              "      <th>2</th>\n",
              "      <td>3</td>\n",
              "      <td>9014</td>\n",
              "      <td>The Long Walk</td>\n",
              "    </tr>\n",
              "    <tr>\n",
              "      <th>3</th>\n",
              "      <td>4</td>\n",
              "      <td>8464</td>\n",
              "      <td>NaN</td>\n",
              "    </tr>\n",
              "    <tr>\n",
              "      <th>4</th>\n",
              "      <td>5</td>\n",
              "      <td>6646</td>\n",
              "      <td>NaN</td>\n",
              "    </tr>\n",
              "  </tbody>\n",
              "</table>\n",
              "</div>"
            ],
            "text/plain": [
              "   user_id book_id          title\n",
              "0        1    6285            NaN\n",
              "1        2    8034            NaN\n",
              "2        3    9014  The Long Walk\n",
              "3        4    8464            NaN\n",
              "4        5    6646            NaN"
            ]
          },
          "metadata": {
            "tags": []
          },
          "execution_count": 62
        }
      ]
    },
    {
      "cell_type": "code",
      "metadata": {
        "id": "IIcLmrIM1j5p"
      },
      "source": [
        "# tag 정보가 있는 책이 있고 없는 책이 있어 해당 책만 추출\n",
        "agg['type'] = '1'\n",
        "train = pd.merge(train, agg, how='left', on='book_id')"
      ],
      "id": "IIcLmrIM1j5p",
      "execution_count": 63,
      "outputs": []
    },
    {
      "cell_type": "code",
      "metadata": {
        "id": "fA8fMT371rsn",
        "outputId": "61608f50-b9ca-47da-9ea4-d82a924d8da3",
        "colab": {
          "base_uri": "https://localhost:8080/",
          "height": 67,
          "referenced_widgets": [
            "6c1d1cc9c27f48e5a4c412c449c0cfa0",
            "6f471cea3b0a45b8bbd4d22bd32b3191",
            "e753c036181c4892a73b44d7b3481512",
            "10ce87ea7709495689485490e73f4392",
            "fa5cb8288c9f43af8862c8f4e287edfb",
            "497134d906f0480cab645a98d1477cf6",
            "54acd28b01ff4f989999f1286b396637",
            "e24d1dfc9fd44ac08aaf360888e4a3bd"
          ]
        }
      },
      "source": [
        "# 전체 영화에 대해 진행\n",
        "total_rec_list = {}\n",
        "read_list1 = train.groupby(['user_id'])['book_id'].agg({'unique'}).reset_index()\n",
        "read_list2 = train[train['type'] == '1'].groupby(['user_id'])['book_id'].agg({'unique'}).reset_index()\n",
        "for user in tqdm(train['user_id'].unique()):\n",
        "    rec_list = []\n",
        "    if user in read_list2['user_id'].unique():\n",
        "        seen = read_list2[read_list2['user_id'] == user]['unique'].values[0]\n",
        "        doc2vec_dict = {}\n",
        "        for book in seen:\n",
        "            for i in doc_vectorizer.docvecs.most_similar(positive=[book], topn=300):\n",
        "                if i[0] not in doc2vec_dict.keys():\n",
        "                    doc2vec_dict[i[0]] = i[1]\n",
        "                else:\n",
        "                    doc2vec_dict[i[0]] += i[1]\n",
        "\n",
        "        rec_list = list(dict(sorted(doc2vec_dict.items(), \n",
        "                                    key = lambda x: x[1], reverse = True)).keys())\n",
        "    else:\n",
        "        seen = read_list1[read_list1['user_id'] == user]['unique'].values[0]\n",
        "        for rec in popular_rec_model[0:300]:\n",
        "            if rec not in seen:\n",
        "                rec_list.append(rec)\n",
        "    total_rec_list[user] = rec_list[0:200]"
      ],
      "id": "fA8fMT371rsn",
      "execution_count": 65,
      "outputs": [
        {
          "output_type": "display_data",
          "data": {
            "application/vnd.jupyter.widget-view+json": {
              "model_id": "6c1d1cc9c27f48e5a4c412c449c0cfa0",
              "version_minor": 0,
              "version_major": 2
            },
            "text/plain": [
              "HBox(children=(FloatProgress(value=0.0, max=53382.0), HTML(value='')))"
            ]
          },
          "metadata": {
            "tags": []
          }
        },
        {
          "output_type": "stream",
          "text": [
            "\n"
          ],
          "name": "stdout"
        }
      ]
    },
    {
      "cell_type": "code",
      "metadata": {
        "id": "fApUYO5O4U6e",
        "outputId": "66a3e264-640a-475f-e6a0-8ae2ecc8f79c",
        "colab": {
          "base_uri": "https://localhost:8080/"
        }
      },
      "source": [
        "evaluate_func = evaluate(recs=total_rec_list, gt=gt, topn=200)\n",
        "evaluate_func._evaluate()"
      ],
      "id": "fApUYO5O4U6e",
      "execution_count": 66,
      "outputs": [
        {
          "output_type": "stream",
          "text": [
            "MAP@200: 0.00017676487652534752\n",
            "NDCG@200: 0.0017342819446356426\n",
            "EntDiv@200: 6.98203375757848\n"
          ],
          "name": "stdout"
        }
      ]
    },
    {
      "cell_type": "code",
      "metadata": {
        "id": "0XCXZiep2vBG"
      },
      "source": [
        ""
      ],
      "id": "0XCXZiep2vBG",
      "execution_count": null,
      "outputs": []
    }
  ]
}