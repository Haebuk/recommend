{
 "cells": [
  {
   "cell_type": "markdown",
   "id": "461be103",
   "metadata": {
    "ExecuteTime": {
     "end_time": "2021-05-13T08:39:12.708361Z",
     "start_time": "2021-05-13T08:39:12.701378Z"
    }
   },
   "source": [
    "https://www.kaggle.com/chocozzz/01-goodbooks-10k-data-exploratory-analysis"
   ]
  },
  {
   "cell_type": "code",
   "execution_count": 39,
   "id": "3d7b00b5",
   "metadata": {
    "ExecuteTime": {
     "end_time": "2021-05-13T07:36:09.675601Z",
     "start_time": "2021-05-13T07:36:09.665661Z"
    }
   },
   "outputs": [],
   "source": [
    "import pandas as pd\n",
    "import numpy as np\n",
    "import os, sys, gc\n",
    "from tqdm.notebook import tqdm\n",
    "from PIL import Image\n",
    "import urllib.request as request\n",
    "from io import BytesIO\n",
    "import matplotlib.pyplot as plt\n",
    "import seaborn as sns\n",
    "\n",
    "plt.style.use('ggplot')"
   ]
  },
  {
   "cell_type": "code",
   "execution_count": 2,
   "id": "644ea1a7",
   "metadata": {
    "ExecuteTime": {
     "end_time": "2021-05-13T07:13:02.100014Z",
     "start_time": "2021-05-13T07:13:02.095027Z"
    }
   },
   "outputs": [],
   "source": [
    "path = './input/'"
   ]
  },
  {
   "cell_type": "code",
   "execution_count": 3,
   "id": "58614137",
   "metadata": {
    "ExecuteTime": {
     "end_time": "2021-05-13T07:13:32.908298Z",
     "start_time": "2021-05-13T07:13:31.714493Z"
    }
   },
   "outputs": [],
   "source": [
    "books = pd.read_csv(path + \"books.csv\")\n",
    "book_tags = pd.read_csv(path + \"book_tags.csv\")\n",
    "ratings = pd.read_csv(path + \"ratings.csv\")\n",
    "tags = pd.read_csv(path + \"tags.csv\")\n",
    "to_read = pd.read_csv(path + \"to_read.csv\")"
   ]
  },
  {
   "cell_type": "markdown",
   "id": "a7611e2e",
   "metadata": {},
   "source": [
    "- books.csv : 책의 메타정보\n",
    "- book_tags.csv : 책-태그의 매핑정보\n",
    "- ratings.csv : 사용자가 책에 대해 점수를 준 평점정보\n",
    "- tags.csv : 태그의 정보\n",
    "- to_read.csv : 사용자가 읽으려고 기록해둔 책 (장바구니)"
   ]
  },
  {
   "cell_type": "markdown",
   "id": "3f9e23fd",
   "metadata": {},
   "source": [
    "## books의 메타정보 확인"
   ]
  },
  {
   "cell_type": "code",
   "execution_count": 4,
   "id": "9cda7405",
   "metadata": {
    "ExecuteTime": {
     "end_time": "2021-05-13T07:14:19.119390Z",
     "start_time": "2021-05-13T07:14:19.036611Z"
    }
   },
   "outputs": [
    {
     "data": {
      "text/html": [
       "<div>\n",
       "<style scoped>\n",
       "    .dataframe tbody tr th:only-of-type {\n",
       "        vertical-align: middle;\n",
       "    }\n",
       "\n",
       "    .dataframe tbody tr th {\n",
       "        vertical-align: top;\n",
       "    }\n",
       "\n",
       "    .dataframe thead th {\n",
       "        text-align: right;\n",
       "    }\n",
       "</style>\n",
       "<table border=\"1\" class=\"dataframe\">\n",
       "  <thead>\n",
       "    <tr style=\"text-align: right;\">\n",
       "      <th></th>\n",
       "      <th>id</th>\n",
       "      <th>book_id</th>\n",
       "      <th>best_book_id</th>\n",
       "      <th>work_id</th>\n",
       "      <th>books_count</th>\n",
       "      <th>isbn</th>\n",
       "      <th>isbn13</th>\n",
       "      <th>authors</th>\n",
       "      <th>original_publication_year</th>\n",
       "      <th>original_title</th>\n",
       "      <th>...</th>\n",
       "      <th>ratings_count</th>\n",
       "      <th>work_ratings_count</th>\n",
       "      <th>work_text_reviews_count</th>\n",
       "      <th>ratings_1</th>\n",
       "      <th>ratings_2</th>\n",
       "      <th>ratings_3</th>\n",
       "      <th>ratings_4</th>\n",
       "      <th>ratings_5</th>\n",
       "      <th>image_url</th>\n",
       "      <th>small_image_url</th>\n",
       "    </tr>\n",
       "  </thead>\n",
       "  <tbody>\n",
       "    <tr>\n",
       "      <th>0</th>\n",
       "      <td>1</td>\n",
       "      <td>2767052</td>\n",
       "      <td>2767052</td>\n",
       "      <td>2792775</td>\n",
       "      <td>272</td>\n",
       "      <td>439023483</td>\n",
       "      <td>9.780439e+12</td>\n",
       "      <td>Suzanne Collins</td>\n",
       "      <td>2008.0</td>\n",
       "      <td>The Hunger Games</td>\n",
       "      <td>...</td>\n",
       "      <td>4780653</td>\n",
       "      <td>4942365</td>\n",
       "      <td>155254</td>\n",
       "      <td>66715</td>\n",
       "      <td>127936</td>\n",
       "      <td>560092</td>\n",
       "      <td>1481305</td>\n",
       "      <td>2706317</td>\n",
       "      <td>https://images.gr-assets.com/books/1447303603m...</td>\n",
       "      <td>https://images.gr-assets.com/books/1447303603s...</td>\n",
       "    </tr>\n",
       "    <tr>\n",
       "      <th>1</th>\n",
       "      <td>2</td>\n",
       "      <td>3</td>\n",
       "      <td>3</td>\n",
       "      <td>4640799</td>\n",
       "      <td>491</td>\n",
       "      <td>439554934</td>\n",
       "      <td>9.780440e+12</td>\n",
       "      <td>J.K. Rowling, Mary GrandPré</td>\n",
       "      <td>1997.0</td>\n",
       "      <td>Harry Potter and the Philosopher's Stone</td>\n",
       "      <td>...</td>\n",
       "      <td>4602479</td>\n",
       "      <td>4800065</td>\n",
       "      <td>75867</td>\n",
       "      <td>75504</td>\n",
       "      <td>101676</td>\n",
       "      <td>455024</td>\n",
       "      <td>1156318</td>\n",
       "      <td>3011543</td>\n",
       "      <td>https://images.gr-assets.com/books/1474154022m...</td>\n",
       "      <td>https://images.gr-assets.com/books/1474154022s...</td>\n",
       "    </tr>\n",
       "    <tr>\n",
       "      <th>2</th>\n",
       "      <td>3</td>\n",
       "      <td>41865</td>\n",
       "      <td>41865</td>\n",
       "      <td>3212258</td>\n",
       "      <td>226</td>\n",
       "      <td>316015849</td>\n",
       "      <td>9.780316e+12</td>\n",
       "      <td>Stephenie Meyer</td>\n",
       "      <td>2005.0</td>\n",
       "      <td>Twilight</td>\n",
       "      <td>...</td>\n",
       "      <td>3866839</td>\n",
       "      <td>3916824</td>\n",
       "      <td>95009</td>\n",
       "      <td>456191</td>\n",
       "      <td>436802</td>\n",
       "      <td>793319</td>\n",
       "      <td>875073</td>\n",
       "      <td>1355439</td>\n",
       "      <td>https://images.gr-assets.com/books/1361039443m...</td>\n",
       "      <td>https://images.gr-assets.com/books/1361039443s...</td>\n",
       "    </tr>\n",
       "    <tr>\n",
       "      <th>3</th>\n",
       "      <td>4</td>\n",
       "      <td>2657</td>\n",
       "      <td>2657</td>\n",
       "      <td>3275794</td>\n",
       "      <td>487</td>\n",
       "      <td>61120081</td>\n",
       "      <td>9.780061e+12</td>\n",
       "      <td>Harper Lee</td>\n",
       "      <td>1960.0</td>\n",
       "      <td>To Kill a Mockingbird</td>\n",
       "      <td>...</td>\n",
       "      <td>3198671</td>\n",
       "      <td>3340896</td>\n",
       "      <td>72586</td>\n",
       "      <td>60427</td>\n",
       "      <td>117415</td>\n",
       "      <td>446835</td>\n",
       "      <td>1001952</td>\n",
       "      <td>1714267</td>\n",
       "      <td>https://images.gr-assets.com/books/1361975680m...</td>\n",
       "      <td>https://images.gr-assets.com/books/1361975680s...</td>\n",
       "    </tr>\n",
       "    <tr>\n",
       "      <th>4</th>\n",
       "      <td>5</td>\n",
       "      <td>4671</td>\n",
       "      <td>4671</td>\n",
       "      <td>245494</td>\n",
       "      <td>1356</td>\n",
       "      <td>743273567</td>\n",
       "      <td>9.780743e+12</td>\n",
       "      <td>F. Scott Fitzgerald</td>\n",
       "      <td>1925.0</td>\n",
       "      <td>The Great Gatsby</td>\n",
       "      <td>...</td>\n",
       "      <td>2683664</td>\n",
       "      <td>2773745</td>\n",
       "      <td>51992</td>\n",
       "      <td>86236</td>\n",
       "      <td>197621</td>\n",
       "      <td>606158</td>\n",
       "      <td>936012</td>\n",
       "      <td>947718</td>\n",
       "      <td>https://images.gr-assets.com/books/1490528560m...</td>\n",
       "      <td>https://images.gr-assets.com/books/1490528560s...</td>\n",
       "    </tr>\n",
       "  </tbody>\n",
       "</table>\n",
       "<p>5 rows × 23 columns</p>\n",
       "</div>"
      ],
      "text/plain": [
       "   id  book_id  best_book_id  work_id  books_count       isbn        isbn13  \\\n",
       "0   1  2767052       2767052  2792775          272  439023483  9.780439e+12   \n",
       "1   2        3             3  4640799          491  439554934  9.780440e+12   \n",
       "2   3    41865         41865  3212258          226  316015849  9.780316e+12   \n",
       "3   4     2657          2657  3275794          487   61120081  9.780061e+12   \n",
       "4   5     4671          4671   245494         1356  743273567  9.780743e+12   \n",
       "\n",
       "                       authors  original_publication_year  \\\n",
       "0              Suzanne Collins                     2008.0   \n",
       "1  J.K. Rowling, Mary GrandPré                     1997.0   \n",
       "2              Stephenie Meyer                     2005.0   \n",
       "3                   Harper Lee                     1960.0   \n",
       "4          F. Scott Fitzgerald                     1925.0   \n",
       "\n",
       "                             original_title  ... ratings_count  \\\n",
       "0                          The Hunger Games  ...       4780653   \n",
       "1  Harry Potter and the Philosopher's Stone  ...       4602479   \n",
       "2                                  Twilight  ...       3866839   \n",
       "3                     To Kill a Mockingbird  ...       3198671   \n",
       "4                          The Great Gatsby  ...       2683664   \n",
       "\n",
       "  work_ratings_count  work_text_reviews_count  ratings_1  ratings_2  \\\n",
       "0            4942365                   155254      66715     127936   \n",
       "1            4800065                    75867      75504     101676   \n",
       "2            3916824                    95009     456191     436802   \n",
       "3            3340896                    72586      60427     117415   \n",
       "4            2773745                    51992      86236     197621   \n",
       "\n",
       "   ratings_3  ratings_4  ratings_5  \\\n",
       "0     560092    1481305    2706317   \n",
       "1     455024    1156318    3011543   \n",
       "2     793319     875073    1355439   \n",
       "3     446835    1001952    1714267   \n",
       "4     606158     936012     947718   \n",
       "\n",
       "                                           image_url  \\\n",
       "0  https://images.gr-assets.com/books/1447303603m...   \n",
       "1  https://images.gr-assets.com/books/1474154022m...   \n",
       "2  https://images.gr-assets.com/books/1361039443m...   \n",
       "3  https://images.gr-assets.com/books/1361975680m...   \n",
       "4  https://images.gr-assets.com/books/1490528560m...   \n",
       "\n",
       "                                     small_image_url  \n",
       "0  https://images.gr-assets.com/books/1447303603s...  \n",
       "1  https://images.gr-assets.com/books/1474154022s...  \n",
       "2  https://images.gr-assets.com/books/1361039443s...  \n",
       "3  https://images.gr-assets.com/books/1361975680s...  \n",
       "4  https://images.gr-assets.com/books/1490528560s...  \n",
       "\n",
       "[5 rows x 23 columns]"
      ]
     },
     "execution_count": 4,
     "metadata": {},
     "output_type": "execute_result"
    }
   ],
   "source": [
    "books.head()"
   ]
  },
  {
   "cell_type": "code",
   "execution_count": 5,
   "id": "e9f8d792",
   "metadata": {
    "ExecuteTime": {
     "end_time": "2021-05-13T07:14:28.179149Z",
     "start_time": "2021-05-13T07:14:28.171173Z"
    }
   },
   "outputs": [
    {
     "data": {
      "text/plain": [
       "Index(['id', 'book_id', 'best_book_id', 'work_id', 'books_count', 'isbn',\n",
       "       'isbn13', 'authors', 'original_publication_year', 'original_title',\n",
       "       'title', 'language_code', 'average_rating', 'ratings_count',\n",
       "       'work_ratings_count', 'work_text_reviews_count', 'ratings_1',\n",
       "       'ratings_2', 'ratings_3', 'ratings_4', 'ratings_5', 'image_url',\n",
       "       'small_image_url'],\n",
       "      dtype='object')"
      ]
     },
     "execution_count": 5,
     "metadata": {},
     "output_type": "execute_result"
    }
   ],
   "source": [
    "books.columns"
   ]
  },
  {
   "cell_type": "code",
   "execution_count": 18,
   "id": "01e17a15",
   "metadata": {
    "ExecuteTime": {
     "end_time": "2021-05-13T07:19:21.007227Z",
     "start_time": "2021-05-13T07:19:20.005384Z"
    }
   },
   "outputs": [
    {
     "data": {
      "image/png": "[encoded data removed]",
      "text/plain": [
       "<PIL.JpegImagePlugin.JpegImageFile image mode=RGB size=50x74 at 0x2489233B988>"
      ]
     },
     "execution_count": 18,
     "metadata": {},
     "output_type": "execute_result"
    }
   ],
   "source": [
    "req = request.Request(books['small_image_url'].values[0], headers = {\"User-Agent\" : \"Mozilla/5.0\"})\n",
    "res = request.urlopen(req).read()\n",
    "Image.open(BytesIO(res))"
   ]
  },
  {
   "cell_type": "markdown",
   "id": "025dd6dd",
   "metadata": {},
   "source": [
    "책같은 경우에는 표지의 영향을 많이 받아서, 해당 이미지의 표지에서 특징을 추출해서 CNN 같은 모델로 유사한 책을 찾는 Contents Based Recommendation도 가능\n",
    "\n",
    "-> Challenge!"
   ]
  },
  {
   "cell_type": "code",
   "execution_count": 19,
   "id": "91b35291",
   "metadata": {
    "ExecuteTime": {
     "end_time": "2021-05-13T07:19:50.962796Z",
     "start_time": "2021-05-13T07:19:50.952823Z"
    }
   },
   "outputs": [],
   "source": [
    "# 필요한 변수들만 사용 \n",
    "books = books[['book_id', 'authors', 'title', 'ratings_count', 'average_rating', 'language_code']].reset_index(drop=True)"
   ]
  },
  {
   "cell_type": "code",
   "execution_count": 40,
   "id": "7bb7a692",
   "metadata": {
    "ExecuteTime": {
     "end_time": "2021-05-13T07:36:12.506601Z",
     "start_time": "2021-05-13T07:36:12.050820Z"
    }
   },
   "outputs": [
    {
     "data": {
      "image/png": "[encoded data removed]",
      "text/plain": [
       "<Figure size 576x576 with 1 Axes>"
      ]
     },
     "metadata": {},
     "output_type": "display_data"
    }
   ],
   "source": [
    "agg = books.groupby('authors')['authors'].agg({'count'})\n",
    "plt.figure(figsize=(8,8))\n",
    "sns.countplot(data=agg, x='count')\n",
    "plt.xlabel('Book Count')\n",
    "plt.ylabel('Author Count')\n",
    "plt.show()"
   ]
  },
  {
   "cell_type": "code",
   "execution_count": 29,
   "id": "f96f54af",
   "metadata": {
    "ExecuteTime": {
     "end_time": "2021-05-13T07:22:33.043832Z",
     "start_time": "2021-05-13T07:22:33.010920Z"
    }
   },
   "outputs": [
    {
     "name": "stdout",
     "output_type": "stream",
     "text": [
      "책의 숫자: 10000\n",
      "저자의 숫자: 4664 \n",
      "\n",
      "        count      mean       std  min  25%  50%  75%   max\n",
      "count  4664.0  2.144082  3.414442  1.0  1.0  1.0  2.0  60.0\n"
     ]
    }
   ],
   "source": [
    "print(\"책의 숫자:\", books['book_id'].nunique())\n",
    "print(\"저자의 숫자:\", books['authors'].nunique(), \"\\n\")\n",
    "print(pd.DataFrame(agg['count'].describe()).T)"
   ]
  },
  {
   "cell_type": "code",
   "execution_count": 46,
   "id": "324f7968",
   "metadata": {
    "ExecuteTime": {
     "end_time": "2021-05-13T07:37:10.888086Z",
     "start_time": "2021-05-13T07:37:10.700578Z"
    }
   },
   "outputs": [
    {
     "data": {
      "image/png": "[encoded data removed]",
      "text/plain": [
       "<Figure size 576x576 with 1 Axes>"
      ]
     },
     "metadata": {},
     "output_type": "display_data"
    }
   ],
   "source": [
    "plt.figure(figsize=(8,8))\n",
    "plt.hist(data=books, x='average_rating', bins=20)\n",
    "plt.ylabel('Book Count')\n",
    "plt.title('Average Rating of the Books')\n",
    "plt.xticks(np.arange(2.5,5,0.5))\n",
    "plt.yticks(np.arange(0,2000,500))\n",
    "plt.show()"
   ]
  },
  {
   "cell_type": "code",
   "execution_count": 47,
   "id": "f970f54f",
   "metadata": {
    "ExecuteTime": {
     "end_time": "2021-05-13T07:37:27.660064Z",
     "start_time": "2021-05-13T07:37:27.619172Z"
    }
   },
   "outputs": [
    {
     "data": {
      "text/plain": [
       "14"
      ]
     },
     "execution_count": 47,
     "metadata": {},
     "output_type": "execute_result"
    }
   ],
   "source": [
    "books[books['average_rating'] <= 3].shape[0]"
   ]
  },
  {
   "cell_type": "markdown",
   "id": "906af8f4",
   "metadata": {},
   "source": [
    "- 3점이하의 평점이 낮은 책들은 유사도가 높더라도 추천을 안하는게 좋을 수 있음"
   ]
  },
  {
   "cell_type": "code",
   "execution_count": 48,
   "id": "bd04cc29",
   "metadata": {
    "ExecuteTime": {
     "end_time": "2021-05-13T07:37:37.979260Z",
     "start_time": "2021-05-13T07:37:37.954326Z"
    }
   },
   "outputs": [
    {
     "data": {
      "text/html": [
       "<div>\n",
       "<style scoped>\n",
       "    .dataframe tbody tr th:only-of-type {\n",
       "        vertical-align: middle;\n",
       "    }\n",
       "\n",
       "    .dataframe tbody tr th {\n",
       "        vertical-align: top;\n",
       "    }\n",
       "\n",
       "    .dataframe thead th {\n",
       "        text-align: right;\n",
       "    }\n",
       "</style>\n",
       "<table border=\"1\" class=\"dataframe\">\n",
       "  <thead>\n",
       "    <tr style=\"text-align: right;\">\n",
       "      <th></th>\n",
       "      <th>book_id</th>\n",
       "      <th>authors</th>\n",
       "      <th>title</th>\n",
       "      <th>ratings_count</th>\n",
       "      <th>average_rating</th>\n",
       "      <th>language_code</th>\n",
       "    </tr>\n",
       "  </thead>\n",
       "  <tbody>\n",
       "    <tr>\n",
       "      <th>3627</th>\n",
       "      <td>24812</td>\n",
       "      <td>Bill Watterson</td>\n",
       "      <td>The Complete Calvin and Hobbes</td>\n",
       "      <td>28900</td>\n",
       "      <td>4.82</td>\n",
       "      <td>eng</td>\n",
       "    </tr>\n",
       "    <tr>\n",
       "      <th>3274</th>\n",
       "      <td>8</td>\n",
       "      <td>J.K. Rowling, Mary GrandPré</td>\n",
       "      <td>Harry Potter Boxed Set, Books 1-5 (Harry Potte...</td>\n",
       "      <td>33220</td>\n",
       "      <td>4.77</td>\n",
       "      <td>eng</td>\n",
       "    </tr>\n",
       "    <tr>\n",
       "      <th>861</th>\n",
       "      <td>17332218</td>\n",
       "      <td>Brandon Sanderson</td>\n",
       "      <td>Words of Radiance (The Stormlight Archive, #2)</td>\n",
       "      <td>73572</td>\n",
       "      <td>4.77</td>\n",
       "      <td>eng</td>\n",
       "    </tr>\n",
       "    <tr>\n",
       "      <th>8853</th>\n",
       "      <td>95602</td>\n",
       "      <td>Francine Rivers</td>\n",
       "      <td>Mark of the Lion Trilogy</td>\n",
       "      <td>9081</td>\n",
       "      <td>4.76</td>\n",
       "      <td>en-US</td>\n",
       "    </tr>\n",
       "    <tr>\n",
       "      <th>7946</th>\n",
       "      <td>5031805</td>\n",
       "      <td>Anonymous, Lane T. Dennis, Wayne A. Grudem</td>\n",
       "      <td>ESV Study Bible</td>\n",
       "      <td>8953</td>\n",
       "      <td>4.76</td>\n",
       "      <td>eng</td>\n",
       "    </tr>\n",
       "  </tbody>\n",
       "</table>\n",
       "</div>"
      ],
      "text/plain": [
       "       book_id                                     authors  \\\n",
       "3627     24812                              Bill Watterson   \n",
       "3274         8                 J.K. Rowling, Mary GrandPré   \n",
       "861   17332218                           Brandon Sanderson   \n",
       "8853     95602                             Francine Rivers   \n",
       "7946   5031805  Anonymous, Lane T. Dennis, Wayne A. Grudem   \n",
       "\n",
       "                                                  title  ratings_count  \\\n",
       "3627                     The Complete Calvin and Hobbes          28900   \n",
       "3274  Harry Potter Boxed Set, Books 1-5 (Harry Potte...          33220   \n",
       "861      Words of Radiance (The Stormlight Archive, #2)          73572   \n",
       "8853                           Mark of the Lion Trilogy           9081   \n",
       "7946                                    ESV Study Bible           8953   \n",
       "\n",
       "      average_rating language_code  \n",
       "3627            4.82           eng  \n",
       "3274            4.77           eng  \n",
       "861             4.77           eng  \n",
       "8853            4.76         en-US  \n",
       "7946            4.76           eng  "
      ]
     },
     "execution_count": 48,
     "metadata": {},
     "output_type": "execute_result"
    }
   ],
   "source": [
    "books.sort_values(by='average_rating', ascending=False).head()"
   ]
  },
  {
   "cell_type": "markdown",
   "id": "09a2ea75",
   "metadata": {},
   "source": [
    "- 평점이 높은 책들은 우선적으로 추천해주는게 좋음 하지만, 평점이 높더라도 사람들이 많이 보지않은 책일 수도 있음"
   ]
  },
  {
   "cell_type": "code",
   "execution_count": 63,
   "id": "0fb687c7",
   "metadata": {
    "ExecuteTime": {
     "end_time": "2021-05-13T07:43:37.617367Z",
     "start_time": "2021-05-13T07:43:36.133333Z"
    }
   },
   "outputs": [
    {
     "data": {
      "image/png": "[encoded data removed]",
      "text/plain": [
       "<Figure size 576x288 with 1 Axes>"
      ]
     },
     "metadata": {},
     "output_type": "display_data"
    }
   ],
   "source": [
    "plt.figure(figsize=(8, 4))\n",
    "plt.hist(data=books, x='ratings_count', bins=500)\n",
    "plt.xlabel('Ratings Count')\n",
    "plt.ylabel('Book Count')\n",
    "plt.title('Ratings Count of the Books')\n",
    "plt.show()"
   ]
  },
  {
   "cell_type": "code",
   "execution_count": 57,
   "id": "ad90bf09",
   "metadata": {
    "ExecuteTime": {
     "end_time": "2021-05-13T07:41:37.589230Z",
     "start_time": "2021-05-13T07:41:37.561305Z"
    }
   },
   "outputs": [
    {
     "data": {
      "text/html": [
       "<div>\n",
       "<style scoped>\n",
       "    .dataframe tbody tr th:only-of-type {\n",
       "        vertical-align: middle;\n",
       "    }\n",
       "\n",
       "    .dataframe tbody tr th {\n",
       "        vertical-align: top;\n",
       "    }\n",
       "\n",
       "    .dataframe thead th {\n",
       "        text-align: right;\n",
       "    }\n",
       "</style>\n",
       "<table border=\"1\" class=\"dataframe\">\n",
       "  <thead>\n",
       "    <tr style=\"text-align: right;\">\n",
       "      <th></th>\n",
       "      <th>count</th>\n",
       "      <th>mean</th>\n",
       "      <th>std</th>\n",
       "      <th>min</th>\n",
       "      <th>25%</th>\n",
       "      <th>50%</th>\n",
       "      <th>75%</th>\n",
       "      <th>max</th>\n",
       "    </tr>\n",
       "  </thead>\n",
       "  <tbody>\n",
       "    <tr>\n",
       "      <th>ratings_count</th>\n",
       "      <td>10000.0</td>\n",
       "      <td>54001.2351</td>\n",
       "      <td>157369.956436</td>\n",
       "      <td>2716.0</td>\n",
       "      <td>13568.75</td>\n",
       "      <td>21155.5</td>\n",
       "      <td>41053.5</td>\n",
       "      <td>4780653.0</td>\n",
       "    </tr>\n",
       "  </tbody>\n",
       "</table>\n",
       "</div>"
      ],
      "text/plain": [
       "                 count        mean            std     min       25%      50%  \\\n",
       "ratings_count  10000.0  54001.2351  157369.956436  2716.0  13568.75  21155.5   \n",
       "\n",
       "                   75%        max  \n",
       "ratings_count  41053.5  4780653.0  "
      ]
     },
     "execution_count": 57,
     "metadata": {},
     "output_type": "execute_result"
    }
   ],
   "source": [
    "pd.DataFrame(books['ratings_count'].describe()).T"
   ]
  },
  {
   "cell_type": "code",
   "execution_count": 61,
   "id": "7d9d392b",
   "metadata": {
    "ExecuteTime": {
     "end_time": "2021-05-13T07:43:16.040514Z",
     "start_time": "2021-05-13T07:43:15.674494Z"
    }
   },
   "outputs": [
    {
     "data": {
      "image/png": "[encoded data removed]",
      "text/plain": [
       "<Figure size 576x432 with 1 Axes>"
      ]
     },
     "metadata": {},
     "output_type": "display_data"
    }
   ],
   "source": [
    "plt.figure(figsize=(8, 6))\n",
    "plt.hist(data=books[books['ratings_count'] < 1000000], x='ratings_count', bins=100)\n",
    "plt.xlabel('Ratings Count')\n",
    "plt.ylabel('Book Count')\n",
    "plt.title('Ratings Count of the Books')\n",
    "plt.show()"
   ]
  },
  {
   "cell_type": "code",
   "execution_count": 64,
   "id": "85427a26",
   "metadata": {
    "ExecuteTime": {
     "end_time": "2021-05-13T07:44:15.353422Z",
     "start_time": "2021-05-13T07:44:15.328486Z"
    }
   },
   "outputs": [
    {
     "data": {
      "text/html": [
       "<div>\n",
       "<style scoped>\n",
       "    .dataframe tbody tr th:only-of-type {\n",
       "        vertical-align: middle;\n",
       "    }\n",
       "\n",
       "    .dataframe tbody tr th {\n",
       "        vertical-align: top;\n",
       "    }\n",
       "\n",
       "    .dataframe thead th {\n",
       "        text-align: right;\n",
       "    }\n",
       "</style>\n",
       "<table border=\"1\" class=\"dataframe\">\n",
       "  <thead>\n",
       "    <tr style=\"text-align: right;\">\n",
       "      <th></th>\n",
       "      <th>book_id</th>\n",
       "      <th>authors</th>\n",
       "      <th>title</th>\n",
       "      <th>ratings_count</th>\n",
       "      <th>average_rating</th>\n",
       "      <th>language_code</th>\n",
       "    </tr>\n",
       "  </thead>\n",
       "  <tbody>\n",
       "    <tr>\n",
       "      <th>0</th>\n",
       "      <td>2767052</td>\n",
       "      <td>Suzanne Collins</td>\n",
       "      <td>The Hunger Games (The Hunger Games, #1)</td>\n",
       "      <td>4780653</td>\n",
       "      <td>4.34</td>\n",
       "      <td>eng</td>\n",
       "    </tr>\n",
       "    <tr>\n",
       "      <th>1</th>\n",
       "      <td>3</td>\n",
       "      <td>J.K. Rowling, Mary GrandPré</td>\n",
       "      <td>Harry Potter and the Sorcerer's Stone (Harry P...</td>\n",
       "      <td>4602479</td>\n",
       "      <td>4.44</td>\n",
       "      <td>eng</td>\n",
       "    </tr>\n",
       "    <tr>\n",
       "      <th>2</th>\n",
       "      <td>41865</td>\n",
       "      <td>Stephenie Meyer</td>\n",
       "      <td>Twilight (Twilight, #1)</td>\n",
       "      <td>3866839</td>\n",
       "      <td>3.57</td>\n",
       "      <td>en-US</td>\n",
       "    </tr>\n",
       "    <tr>\n",
       "      <th>3</th>\n",
       "      <td>2657</td>\n",
       "      <td>Harper Lee</td>\n",
       "      <td>To Kill a Mockingbird</td>\n",
       "      <td>3198671</td>\n",
       "      <td>4.25</td>\n",
       "      <td>eng</td>\n",
       "    </tr>\n",
       "    <tr>\n",
       "      <th>4</th>\n",
       "      <td>4671</td>\n",
       "      <td>F. Scott Fitzgerald</td>\n",
       "      <td>The Great Gatsby</td>\n",
       "      <td>2683664</td>\n",
       "      <td>3.89</td>\n",
       "      <td>eng</td>\n",
       "    </tr>\n",
       "  </tbody>\n",
       "</table>\n",
       "</div>"
      ],
      "text/plain": [
       "   book_id                      authors  \\\n",
       "0  2767052              Suzanne Collins   \n",
       "1        3  J.K. Rowling, Mary GrandPré   \n",
       "2    41865              Stephenie Meyer   \n",
       "3     2657                   Harper Lee   \n",
       "4     4671          F. Scott Fitzgerald   \n",
       "\n",
       "                                               title  ratings_count  \\\n",
       "0            The Hunger Games (The Hunger Games, #1)        4780653   \n",
       "1  Harry Potter and the Sorcerer's Stone (Harry P...        4602479   \n",
       "2                            Twilight (Twilight, #1)        3866839   \n",
       "3                              To Kill a Mockingbird        3198671   \n",
       "4                                   The Great Gatsby        2683664   \n",
       "\n",
       "   average_rating language_code  \n",
       "0            4.34           eng  \n",
       "1            4.44           eng  \n",
       "2            3.57         en-US  \n",
       "3            4.25           eng  \n",
       "4            3.89           eng  "
      ]
     },
     "execution_count": 64,
     "metadata": {},
     "output_type": "execute_result"
    }
   ],
   "source": [
    "books.sort_values(by='ratings_count', ascending=False).head()"
   ]
  },
  {
   "cell_type": "markdown",
   "id": "b9e007d5",
   "metadata": {},
   "source": [
    "- Twilight (Twilight, #1)은 ratings_count는 높지만, average_rating은 낮은 편"
   ]
  },
  {
   "cell_type": "code",
   "execution_count": 65,
   "id": "6d503054",
   "metadata": {
    "ExecuteTime": {
     "end_time": "2021-05-13T07:44:51.908067Z",
     "start_time": "2021-05-13T07:44:51.897097Z"
    }
   },
   "outputs": [],
   "source": [
    "agg = pd.DataFrame(books['language_code'].value_counts()).reset_index()\n",
    "agg.columns = ['language_code', 'count'] "
   ]
  },
  {
   "cell_type": "code",
   "execution_count": 73,
   "id": "c8ec8215",
   "metadata": {
    "ExecuteTime": {
     "end_time": "2021-05-13T07:48:22.643030Z",
     "start_time": "2021-05-13T07:48:22.636046Z"
    }
   },
   "outputs": [],
   "source": [
    "books[\"language_code\"] = books['language_code'].fillna('NaN')"
   ]
  },
  {
   "cell_type": "code",
   "execution_count": 74,
   "id": "57823632",
   "metadata": {
    "ExecuteTime": {
     "end_time": "2021-05-13T07:48:24.119936Z",
     "start_time": "2021-05-13T07:48:23.782804Z"
    }
   },
   "outputs": [
    {
     "data": {
      "image/png": "[encoded data removed]",
      "text/plain": [
       "<Figure size 720x432 with 1 Axes>"
      ]
     },
     "metadata": {},
     "output_type": "display_data"
    }
   ],
   "source": [
    "plt.figure(figsize=(10, 6))\n",
    "sns.countplot(data=books, x='language_code')\n",
    "plt.xlabel('Ratings Count')\n",
    "plt.ylabel('Book Count')\n",
    "plt.title('Ratings Count of the Books')\n",
    "plt.xticks(rotation=60)\n",
    "plt.show()"
   ]
  },
  {
   "cell_type": "code",
   "execution_count": 71,
   "id": "0647404b",
   "metadata": {
    "ExecuteTime": {
     "end_time": "2021-05-13T07:46:47.191104Z",
     "start_time": "2021-05-13T07:46:47.184126Z"
    }
   },
   "outputs": [
    {
     "data": {
      "text/plain": [
       "array(['eng', 'en-US', 'en-CA', nan, 'spa', 'en-GB', 'fre', 'nl', 'ara',\n",
       "       'por', 'ger', 'nor', 'jpn', 'en', 'vie', 'ind', 'pol', 'tur',\n",
       "       'dan', 'fil', 'ita', 'per', 'swe', 'rum', 'mul', 'rus'],\n",
       "      dtype=object)"
      ]
     },
     "execution_count": 71,
     "metadata": {},
     "output_type": "execute_result"
    }
   ],
   "source": [
    "books['language_code'].unique()"
   ]
  },
  {
   "cell_type": "code",
   "execution_count": 72,
   "id": "7cef2b08",
   "metadata": {
    "ExecuteTime": {
     "end_time": "2021-05-13T07:46:52.492488Z",
     "start_time": "2021-05-13T07:46:52.479524Z"
    }
   },
   "outputs": [
    {
     "data": {
      "text/plain": [
       "book_id              0\n",
       "authors              0\n",
       "title                0\n",
       "ratings_count        0\n",
       "average_rating       0\n",
       "language_code     1084\n",
       "dtype: int64"
      ]
     },
     "execution_count": 72,
     "metadata": {},
     "output_type": "execute_result"
    }
   ],
   "source": [
    "books.isnull().sum()"
   ]
  },
  {
   "cell_type": "code",
   "execution_count": 76,
   "id": "e2a2016b",
   "metadata": {
    "ExecuteTime": {
     "end_time": "2021-05-13T07:52:03.084142Z",
     "start_time": "2021-05-13T07:52:03.047738Z"
    }
   },
   "outputs": [
    {
     "data": {
      "text/plain": [
       "9188"
      ]
     },
     "execution_count": 76,
     "metadata": {},
     "output_type": "execute_result"
    }
   ],
   "source": [
    "len(set(ratings['book_id'].unique()).difference(set(books['book_id'].unique())))"
   ]
  },
  {
   "cell_type": "markdown",
   "id": "8480d956",
   "metadata": {},
   "source": [
    "- 평점을 부여받고 메타정보에 있는 책은 812건밖에 되지 않음\n",
    "- 콘텐츠 기반 추천시스템은 성능이 안좋을 것으로 예상(협업필터링이 나을지도)"
   ]
  },
  {
   "cell_type": "markdown",
   "id": "75900f2f",
   "metadata": {},
   "source": [
    "## book의 tag 정보 확인\n",
    "- book_tags : book_id에 매핑된 tag_id의 정보\n",
    "- tags : tag_id와 tag_name에 대한 매핑정보"
   ]
  },
  {
   "cell_type": "code",
   "execution_count": 77,
   "id": "f267b859",
   "metadata": {
    "ExecuteTime": {
     "end_time": "2021-05-13T07:53:24.571954Z",
     "start_time": "2021-05-13T07:53:24.557991Z"
    }
   },
   "outputs": [
    {
     "data": {
      "text/html": [
       "<div>\n",
       "<style scoped>\n",
       "    .dataframe tbody tr th:only-of-type {\n",
       "        vertical-align: middle;\n",
       "    }\n",
       "\n",
       "    .dataframe tbody tr th {\n",
       "        vertical-align: top;\n",
       "    }\n",
       "\n",
       "    .dataframe thead th {\n",
       "        text-align: right;\n",
       "    }\n",
       "</style>\n",
       "<table border=\"1\" class=\"dataframe\">\n",
       "  <thead>\n",
       "    <tr style=\"text-align: right;\">\n",
       "      <th></th>\n",
       "      <th>goodreads_book_id</th>\n",
       "      <th>tag_id</th>\n",
       "      <th>count</th>\n",
       "    </tr>\n",
       "  </thead>\n",
       "  <tbody>\n",
       "    <tr>\n",
       "      <th>0</th>\n",
       "      <td>1</td>\n",
       "      <td>30574</td>\n",
       "      <td>167697</td>\n",
       "    </tr>\n",
       "    <tr>\n",
       "      <th>1</th>\n",
       "      <td>1</td>\n",
       "      <td>11305</td>\n",
       "      <td>37174</td>\n",
       "    </tr>\n",
       "    <tr>\n",
       "      <th>2</th>\n",
       "      <td>1</td>\n",
       "      <td>11557</td>\n",
       "      <td>34173</td>\n",
       "    </tr>\n",
       "    <tr>\n",
       "      <th>3</th>\n",
       "      <td>1</td>\n",
       "      <td>8717</td>\n",
       "      <td>12986</td>\n",
       "    </tr>\n",
       "    <tr>\n",
       "      <th>4</th>\n",
       "      <td>1</td>\n",
       "      <td>33114</td>\n",
       "      <td>12716</td>\n",
       "    </tr>\n",
       "  </tbody>\n",
       "</table>\n",
       "</div>"
      ],
      "text/plain": [
       "   goodreads_book_id  tag_id   count\n",
       "0                  1   30574  167697\n",
       "1                  1   11305   37174\n",
       "2                  1   11557   34173\n",
       "3                  1    8717   12986\n",
       "4                  1   33114   12716"
      ]
     },
     "execution_count": 77,
     "metadata": {},
     "output_type": "execute_result"
    }
   ],
   "source": [
    "book_tags.head()"
   ]
  },
  {
   "cell_type": "code",
   "execution_count": 78,
   "id": "c4115545",
   "metadata": {
    "ExecuteTime": {
     "end_time": "2021-05-13T07:53:51.525473Z",
     "start_time": "2021-05-13T07:53:51.511510Z"
    }
   },
   "outputs": [
    {
     "data": {
      "text/html": [
       "<div>\n",
       "<style scoped>\n",
       "    .dataframe tbody tr th:only-of-type {\n",
       "        vertical-align: middle;\n",
       "    }\n",
       "\n",
       "    .dataframe tbody tr th {\n",
       "        vertical-align: top;\n",
       "    }\n",
       "\n",
       "    .dataframe thead th {\n",
       "        text-align: right;\n",
       "    }\n",
       "</style>\n",
       "<table border=\"1\" class=\"dataframe\">\n",
       "  <thead>\n",
       "    <tr style=\"text-align: right;\">\n",
       "      <th></th>\n",
       "      <th>tag_id</th>\n",
       "      <th>tag_name</th>\n",
       "    </tr>\n",
       "  </thead>\n",
       "  <tbody>\n",
       "    <tr>\n",
       "      <th>0</th>\n",
       "      <td>0</td>\n",
       "      <td>-</td>\n",
       "    </tr>\n",
       "    <tr>\n",
       "      <th>1</th>\n",
       "      <td>1</td>\n",
       "      <td>--1-</td>\n",
       "    </tr>\n",
       "    <tr>\n",
       "      <th>2</th>\n",
       "      <td>2</td>\n",
       "      <td>--10-</td>\n",
       "    </tr>\n",
       "    <tr>\n",
       "      <th>3</th>\n",
       "      <td>3</td>\n",
       "      <td>--12-</td>\n",
       "    </tr>\n",
       "    <tr>\n",
       "      <th>4</th>\n",
       "      <td>4</td>\n",
       "      <td>--122-</td>\n",
       "    </tr>\n",
       "  </tbody>\n",
       "</table>\n",
       "</div>"
      ],
      "text/plain": [
       "   tag_id tag_name\n",
       "0       0        -\n",
       "1       1     --1-\n",
       "2       2    --10-\n",
       "3       3    --12-\n",
       "4       4   --122-"
      ]
     },
     "execution_count": 78,
     "metadata": {},
     "output_type": "execute_result"
    }
   ],
   "source": [
    "tags.head()"
   ]
  },
  {
   "cell_type": "code",
   "execution_count": 79,
   "id": "e36aa852",
   "metadata": {
    "ExecuteTime": {
     "end_time": "2021-05-13T07:54:15.674971Z",
     "start_time": "2021-05-13T07:54:15.047319Z"
    }
   },
   "outputs": [
    {
     "data": {
      "text/html": [
       "<div>\n",
       "<style scoped>\n",
       "    .dataframe tbody tr th:only-of-type {\n",
       "        vertical-align: middle;\n",
       "    }\n",
       "\n",
       "    .dataframe tbody tr th {\n",
       "        vertical-align: top;\n",
       "    }\n",
       "\n",
       "    .dataframe thead th {\n",
       "        text-align: right;\n",
       "    }\n",
       "</style>\n",
       "<table border=\"1\" class=\"dataframe\">\n",
       "  <thead>\n",
       "    <tr style=\"text-align: right;\">\n",
       "      <th></th>\n",
       "      <th>tag_name</th>\n",
       "      <th>sum</th>\n",
       "    </tr>\n",
       "  </thead>\n",
       "  <tbody>\n",
       "    <tr>\n",
       "      <th>0</th>\n",
       "      <td>to-read</td>\n",
       "      <td>140718761</td>\n",
       "    </tr>\n",
       "    <tr>\n",
       "      <th>1</th>\n",
       "      <td>currently-reading</td>\n",
       "      <td>7507958</td>\n",
       "    </tr>\n",
       "    <tr>\n",
       "      <th>2</th>\n",
       "      <td>favorites</td>\n",
       "      <td>4503173</td>\n",
       "    </tr>\n",
       "    <tr>\n",
       "      <th>3</th>\n",
       "      <td>fiction</td>\n",
       "      <td>3688819</td>\n",
       "    </tr>\n",
       "    <tr>\n",
       "      <th>4</th>\n",
       "      <td>fantasy</td>\n",
       "      <td>3548157</td>\n",
       "    </tr>\n",
       "  </tbody>\n",
       "</table>\n",
       "</div>"
      ],
      "text/plain": [
       "            tag_name        sum\n",
       "0            to-read  140718761\n",
       "1  currently-reading    7507958\n",
       "2          favorites    4503173\n",
       "3            fiction    3688819\n",
       "4            fantasy    3548157"
      ]
     },
     "execution_count": 79,
     "metadata": {},
     "output_type": "execute_result"
    }
   ],
   "source": [
    "book_tags = pd.merge(tags, book_tags, how='left', on='tag_id')\n",
    "agg = book_tags.groupby(['tag_name'])['count'].agg({'sum'}).reset_index()\n",
    "agg = agg.sort_values(by='sum', ascending=False).reset_index(drop=True)\n",
    "agg.head()"
   ]
  },
  {
   "cell_type": "code",
   "execution_count": 85,
   "id": "09327478",
   "metadata": {
    "ExecuteTime": {
     "end_time": "2021-05-13T07:56:35.512863Z",
     "start_time": "2021-05-13T07:56:35.053822Z"
    }
   },
   "outputs": [
    {
     "data": {
      "image/png": "[encoded data removed]",
      "text/plain": [
       "<Figure size 576x576 with 1 Axes>"
      ]
     },
     "metadata": {},
     "output_type": "display_data"
    }
   ],
   "source": [
    "plt.figure(figsize=(8, 8))\n",
    "sns.barplot(data = agg.loc[0:20], x='tag_name', y='sum')\n",
    "plt.xlabel('Tag')\n",
    "plt.ylabel('Tag Count')\n",
    "plt.title('Top 20 Tag Counts')\n",
    "plt.xticks(rotation=60)\n",
    "plt.show()"
   ]
  },
  {
   "cell_type": "code",
   "execution_count": 86,
   "id": "aeabc787",
   "metadata": {
    "ExecuteTime": {
     "end_time": "2021-05-13T07:56:55.031076Z",
     "start_time": "2021-05-13T07:56:55.003141Z"
    }
   },
   "outputs": [
    {
     "data": {
      "text/html": [
       "<div>\n",
       "<style scoped>\n",
       "    .dataframe tbody tr th:only-of-type {\n",
       "        vertical-align: middle;\n",
       "    }\n",
       "\n",
       "    .dataframe tbody tr th {\n",
       "        vertical-align: top;\n",
       "    }\n",
       "\n",
       "    .dataframe thead th {\n",
       "        text-align: right;\n",
       "    }\n",
       "</style>\n",
       "<table border=\"1\" class=\"dataframe\">\n",
       "  <thead>\n",
       "    <tr style=\"text-align: right;\">\n",
       "      <th></th>\n",
       "      <th>count</th>\n",
       "      <th>mean</th>\n",
       "      <th>std</th>\n",
       "      <th>min</th>\n",
       "      <th>25%</th>\n",
       "      <th>50%</th>\n",
       "      <th>75%</th>\n",
       "      <th>max</th>\n",
       "    </tr>\n",
       "  </thead>\n",
       "  <tbody>\n",
       "    <tr>\n",
       "      <th>sum</th>\n",
       "      <td>34252.0</td>\n",
       "      <td>6097.490716</td>\n",
       "      <td>762709.169868</td>\n",
       "      <td>-1.0</td>\n",
       "      <td>3.0</td>\n",
       "      <td>10.0</td>\n",
       "      <td>52.0</td>\n",
       "      <td>140718761.0</td>\n",
       "    </tr>\n",
       "  </tbody>\n",
       "</table>\n",
       "</div>"
      ],
      "text/plain": [
       "       count         mean            std  min  25%   50%   75%          max\n",
       "sum  34252.0  6097.490716  762709.169868 -1.0  3.0  10.0  52.0  140718761.0"
      ]
     },
     "execution_count": 86,
     "metadata": {},
     "output_type": "execute_result"
    }
   ],
   "source": [
    "pd.DataFrame(agg['sum'].describe()).T"
   ]
  },
  {
   "cell_type": "markdown",
   "id": "090f48a5",
   "metadata": {},
   "source": [
    "- 태그정보를 통해서 내가 보는 태그의 글을 추천해주는 것도 중요 (성향파악)\n",
    "- tag가 유사한 책들로도 추천이 가능"
   ]
  },
  {
   "cell_type": "markdown",
   "id": "c5e9b2b8",
   "metadata": {},
   "source": [
    "##  ratings 평점정보 확인\n",
    "- 전체 책과 사용자에 대해 기술 통계"
   ]
  },
  {
   "cell_type": "code",
   "execution_count": 93,
   "id": "a4b50342",
   "metadata": {
    "ExecuteTime": {
     "end_time": "2021-05-13T08:01:39.673549Z",
     "start_time": "2021-05-13T08:01:39.249771Z"
    }
   },
   "outputs": [
    {
     "data": {
      "image/png": "[encoded data removed]",
      "text/plain": [
       "<Figure size 576x288 with 1 Axes>"
      ]
     },
     "metadata": {},
     "output_type": "display_data"
    }
   ],
   "source": [
    "agg = ratings.groupby(['user_id'])['book_id'].agg({'count'}).reset_index()\n",
    "plt.figure(figsize=(8, 4))\n",
    "plt.hist(data=agg, x='count', bins=50)\n",
    "plt.xlabel('Read Count')\n",
    "plt.ylabel('User Count')\n",
    "plt.title('Average Number of the Read Count')\n",
    "plt.xticks(rotation=45)\n",
    "plt.show()"
   ]
  },
  {
   "cell_type": "code",
   "execution_count": 94,
   "id": "888cc755",
   "metadata": {
    "ExecuteTime": {
     "end_time": "2021-05-13T08:02:13.536426Z",
     "start_time": "2021-05-13T08:02:13.508501Z"
    }
   },
   "outputs": [
    {
     "data": {
      "text/html": [
       "<div>\n",
       "<style scoped>\n",
       "    .dataframe tbody tr th:only-of-type {\n",
       "        vertical-align: middle;\n",
       "    }\n",
       "\n",
       "    .dataframe tbody tr th {\n",
       "        vertical-align: top;\n",
       "    }\n",
       "\n",
       "    .dataframe thead th {\n",
       "        text-align: right;\n",
       "    }\n",
       "</style>\n",
       "<table border=\"1\" class=\"dataframe\">\n",
       "  <thead>\n",
       "    <tr style=\"text-align: right;\">\n",
       "      <th></th>\n",
       "      <th>count</th>\n",
       "      <th>mean</th>\n",
       "      <th>std</th>\n",
       "      <th>min</th>\n",
       "      <th>25%</th>\n",
       "      <th>50%</th>\n",
       "      <th>75%</th>\n",
       "      <th>max</th>\n",
       "    </tr>\n",
       "  </thead>\n",
       "  <tbody>\n",
       "    <tr>\n",
       "      <th>count</th>\n",
       "      <td>53424.0</td>\n",
       "      <td>18.376685</td>\n",
       "      <td>26.26869</td>\n",
       "      <td>2.0</td>\n",
       "      <td>3.0</td>\n",
       "      <td>8.0</td>\n",
       "      <td>22.0</td>\n",
       "      <td>200.0</td>\n",
       "    </tr>\n",
       "  </tbody>\n",
       "</table>\n",
       "</div>"
      ],
      "text/plain": [
       "         count       mean       std  min  25%  50%   75%    max\n",
       "count  53424.0  18.376685  26.26869  2.0  3.0  8.0  22.0  200.0"
      ]
     },
     "execution_count": 94,
     "metadata": {},
     "output_type": "execute_result"
    }
   ],
   "source": [
    "pd.DataFrame(agg['count'].describe()).T"
   ]
  },
  {
   "cell_type": "markdown",
   "id": "d6566cc4",
   "metadata": {},
   "source": [
    "- 평균 한 사람이 읽는 책의 수는 18권\n",
    "- 최소 2권씩은 구매해서 읽음\n",
    "- 최대 많이 읽은 사람은 200권의 책을 구매함"
   ]
  },
  {
   "cell_type": "code",
   "execution_count": 96,
   "id": "a361dae0",
   "metadata": {
    "ExecuteTime": {
     "end_time": "2021-05-13T08:03:53.549108Z",
     "start_time": "2021-05-13T08:03:53.183443Z"
    },
    "scrolled": true
   },
   "outputs": [
    {
     "data": {
      "image/png": "[encoded data removed]",
      "text/plain": [
       "<Figure size 576x288 with 1 Axes>"
      ]
     },
     "metadata": {},
     "output_type": "display_data"
    }
   ],
   "source": [
    "agg = ratings.groupby(['book_id'])['book_id'].agg({'count'}).reset_index()\n",
    "plt.figure(figsize=(8, 4))\n",
    "plt.hist(data=agg, x='count', bins=50)\n",
    "plt.xlabel('Read Count')\n",
    "plt.ylabel('User Count')\n",
    "plt.title('Average Number of the Read Count')\n",
    "plt.xticks(rotation=45)\n",
    "plt.show()"
   ]
  },
  {
   "cell_type": "code",
   "execution_count": 97,
   "id": "da5a64f9",
   "metadata": {
    "ExecuteTime": {
     "end_time": "2021-05-13T08:04:04.370531Z",
     "start_time": "2021-05-13T08:04:04.348591Z"
    }
   },
   "outputs": [
    {
     "data": {
      "text/html": [
       "<div>\n",
       "<style scoped>\n",
       "    .dataframe tbody tr th:only-of-type {\n",
       "        vertical-align: middle;\n",
       "    }\n",
       "\n",
       "    .dataframe tbody tr th {\n",
       "        vertical-align: top;\n",
       "    }\n",
       "\n",
       "    .dataframe thead th {\n",
       "        text-align: right;\n",
       "    }\n",
       "</style>\n",
       "<table border=\"1\" class=\"dataframe\">\n",
       "  <thead>\n",
       "    <tr style=\"text-align: right;\">\n",
       "      <th></th>\n",
       "      <th>count</th>\n",
       "      <th>mean</th>\n",
       "      <th>std</th>\n",
       "      <th>min</th>\n",
       "      <th>25%</th>\n",
       "      <th>50%</th>\n",
       "      <th>75%</th>\n",
       "      <th>max</th>\n",
       "    </tr>\n",
       "  </thead>\n",
       "  <tbody>\n",
       "    <tr>\n",
       "      <th>count</th>\n",
       "      <td>10000.0</td>\n",
       "      <td>98.1756</td>\n",
       "      <td>5.690167</td>\n",
       "      <td>8.0</td>\n",
       "      <td>99.0</td>\n",
       "      <td>100.0</td>\n",
       "      <td>100.0</td>\n",
       "      <td>100.0</td>\n",
       "    </tr>\n",
       "  </tbody>\n",
       "</table>\n",
       "</div>"
      ],
      "text/plain": [
       "         count     mean       std  min   25%    50%    75%    max\n",
       "count  10000.0  98.1756  5.690167  8.0  99.0  100.0  100.0  100.0"
      ]
     },
     "execution_count": 97,
     "metadata": {},
     "output_type": "execute_result"
    }
   ],
   "source": [
    "pd.DataFrame(agg['count'].describe()).T"
   ]
  },
  {
   "cell_type": "markdown",
   "id": "09cf739c",
   "metadata": {},
   "source": [
    "- 책의 경우 최소 8명은 읽고, 많이 읽힌 책의 경우 100명은 읽음\n",
    "- 편차는 크지만, 평점이 부여된 책들의 대부분이 100명씩은 읽은 책들만 뽑힌 것을 볼 수 있음\n",
    "- 책들의 특징이라기보다는 10k만큼의 책을 선정하려고 임의로 샘플링해서 발생한 문제같음"
   ]
  },
  {
   "cell_type": "code",
   "execution_count": 98,
   "id": "e2167c2a",
   "metadata": {
    "ExecuteTime": {
     "end_time": "2021-05-13T08:08:08.697158Z",
     "start_time": "2021-05-13T08:08:08.685169Z"
    }
   },
   "outputs": [
    {
     "data": {
      "text/html": [
       "<div>\n",
       "<style scoped>\n",
       "    .dataframe tbody tr th:only-of-type {\n",
       "        vertical-align: middle;\n",
       "    }\n",
       "\n",
       "    .dataframe tbody tr th {\n",
       "        vertical-align: top;\n",
       "    }\n",
       "\n",
       "    .dataframe thead th {\n",
       "        text-align: right;\n",
       "    }\n",
       "</style>\n",
       "<table border=\"1\" class=\"dataframe\">\n",
       "  <thead>\n",
       "    <tr style=\"text-align: right;\">\n",
       "      <th></th>\n",
       "      <th>book_id</th>\n",
       "      <th>count</th>\n",
       "    </tr>\n",
       "  </thead>\n",
       "  <tbody>\n",
       "    <tr>\n",
       "      <th>0</th>\n",
       "      <td>1</td>\n",
       "      <td>100</td>\n",
       "    </tr>\n",
       "    <tr>\n",
       "      <th>1</th>\n",
       "      <td>2</td>\n",
       "      <td>100</td>\n",
       "    </tr>\n",
       "    <tr>\n",
       "      <th>2</th>\n",
       "      <td>3</td>\n",
       "      <td>100</td>\n",
       "    </tr>\n",
       "    <tr>\n",
       "      <th>3</th>\n",
       "      <td>4</td>\n",
       "      <td>100</td>\n",
       "    </tr>\n",
       "    <tr>\n",
       "      <th>4</th>\n",
       "      <td>5</td>\n",
       "      <td>100</td>\n",
       "    </tr>\n",
       "  </tbody>\n",
       "</table>\n",
       "</div>"
      ],
      "text/plain": [
       "   book_id  count\n",
       "0        1    100\n",
       "1        2    100\n",
       "2        3    100\n",
       "3        4    100\n",
       "4        5    100"
      ]
     },
     "execution_count": 98,
     "metadata": {},
     "output_type": "execute_result"
    }
   ],
   "source": [
    "agg.head()"
   ]
  },
  {
   "cell_type": "code",
   "execution_count": 101,
   "id": "6ba8aac4",
   "metadata": {
    "ExecuteTime": {
     "end_time": "2021-05-13T08:08:40.834587Z",
     "start_time": "2021-05-13T08:08:40.814712Z"
    },
    "scrolled": true
   },
   "outputs": [
    {
     "data": {
      "text/html": [
       "<div>\n",
       "<style scoped>\n",
       "    .dataframe tbody tr th:only-of-type {\n",
       "        vertical-align: middle;\n",
       "    }\n",
       "\n",
       "    .dataframe tbody tr th {\n",
       "        vertical-align: top;\n",
       "    }\n",
       "\n",
       "    .dataframe thead th {\n",
       "        text-align: right;\n",
       "    }\n",
       "</style>\n",
       "<table border=\"1\" class=\"dataframe\">\n",
       "  <thead>\n",
       "    <tr style=\"text-align: right;\">\n",
       "      <th></th>\n",
       "      <th>book_id</th>\n",
       "      <th>authors</th>\n",
       "      <th>title</th>\n",
       "      <th>ratings_count</th>\n",
       "      <th>average_rating</th>\n",
       "      <th>language_code</th>\n",
       "    </tr>\n",
       "  </thead>\n",
       "  <tbody>\n",
       "    <tr>\n",
       "      <th>1</th>\n",
       "      <td>3</td>\n",
       "      <td>J.K. Rowling, Mary GrandPré</td>\n",
       "      <td>Harry Potter and the Sorcerer's Stone (Harry P...</td>\n",
       "      <td>4602479</td>\n",
       "      <td>4.44</td>\n",
       "      <td>eng</td>\n",
       "    </tr>\n",
       "    <tr>\n",
       "      <th>17</th>\n",
       "      <td>5</td>\n",
       "      <td>J.K. Rowling, Mary GrandPré, Rufus Beck</td>\n",
       "      <td>Harry Potter and the Prisoner of Azkaban (Harr...</td>\n",
       "      <td>1832823</td>\n",
       "      <td>4.53</td>\n",
       "      <td>eng</td>\n",
       "    </tr>\n",
       "    <tr>\n",
       "      <th>20</th>\n",
       "      <td>2</td>\n",
       "      <td>J.K. Rowling, Mary GrandPré</td>\n",
       "      <td>Harry Potter and the Order of the Phoenix (Har...</td>\n",
       "      <td>1735368</td>\n",
       "      <td>4.46</td>\n",
       "      <td>eng</td>\n",
       "    </tr>\n",
       "    <tr>\n",
       "      <th>23</th>\n",
       "      <td>6</td>\n",
       "      <td>J.K. Rowling, Mary GrandPré</td>\n",
       "      <td>Harry Potter and the Goblet of Fire (Harry Pot...</td>\n",
       "      <td>1753043</td>\n",
       "      <td>4.53</td>\n",
       "      <td>eng</td>\n",
       "    </tr>\n",
       "    <tr>\n",
       "      <th>26</th>\n",
       "      <td>1</td>\n",
       "      <td>J.K. Rowling, Mary GrandPré</td>\n",
       "      <td>Harry Potter and the Half-Blood Prince (Harry ...</td>\n",
       "      <td>1678823</td>\n",
       "      <td>4.54</td>\n",
       "      <td>eng</td>\n",
       "    </tr>\n",
       "    <tr>\n",
       "      <th>3274</th>\n",
       "      <td>8</td>\n",
       "      <td>J.K. Rowling, Mary GrandPré</td>\n",
       "      <td>Harry Potter Boxed Set, Books 1-5 (Harry Potte...</td>\n",
       "      <td>33220</td>\n",
       "      <td>4.77</td>\n",
       "      <td>eng</td>\n",
       "    </tr>\n",
       "  </tbody>\n",
       "</table>\n",
       "</div>"
      ],
      "text/plain": [
       "      book_id                                  authors  \\\n",
       "1           3              J.K. Rowling, Mary GrandPré   \n",
       "17          5  J.K. Rowling, Mary GrandPré, Rufus Beck   \n",
       "20          2              J.K. Rowling, Mary GrandPré   \n",
       "23          6              J.K. Rowling, Mary GrandPré   \n",
       "26          1              J.K. Rowling, Mary GrandPré   \n",
       "3274        8              J.K. Rowling, Mary GrandPré   \n",
       "\n",
       "                                                  title  ratings_count  \\\n",
       "1     Harry Potter and the Sorcerer's Stone (Harry P...        4602479   \n",
       "17    Harry Potter and the Prisoner of Azkaban (Harr...        1832823   \n",
       "20    Harry Potter and the Order of the Phoenix (Har...        1735368   \n",
       "23    Harry Potter and the Goblet of Fire (Harry Pot...        1753043   \n",
       "26    Harry Potter and the Half-Blood Prince (Harry ...        1678823   \n",
       "3274  Harry Potter Boxed Set, Books 1-5 (Harry Potte...          33220   \n",
       "\n",
       "      average_rating language_code  \n",
       "1               4.44           eng  \n",
       "17              4.53           eng  \n",
       "20              4.46           eng  \n",
       "23              4.53           eng  \n",
       "26              4.54           eng  \n",
       "3274            4.77           eng  "
      ]
     },
     "execution_count": 101,
     "metadata": {},
     "output_type": "execute_result"
    }
   ],
   "source": [
    "books[books['book_id'].isin([1, 2, 3, 4, 5, 6, 7, 8])].head(8)"
   ]
  },
  {
   "cell_type": "markdown",
   "id": "56315c8f",
   "metadata": {},
   "source": [
    "해리포터!"
   ]
  },
  {
   "cell_type": "code",
   "execution_count": 102,
   "id": "3bf24b8b",
   "metadata": {
    "ExecuteTime": {
     "end_time": "2021-05-13T08:09:07.961526Z",
     "start_time": "2021-05-13T08:09:07.920652Z"
    }
   },
   "outputs": [
    {
     "data": {
      "text/plain": [
       "array([  314,   439,   588, ..., 43623, 24406, 27590], dtype=int64)"
      ]
     },
     "execution_count": 102,
     "metadata": {},
     "output_type": "execute_result"
    }
   ],
   "source": [
    "ratings['user_id'].unique()"
   ]
  },
  {
   "cell_type": "code",
   "execution_count": 104,
   "id": "0b40a094",
   "metadata": {
    "ExecuteTime": {
     "end_time": "2021-05-13T08:11:10.739935Z",
     "start_time": "2021-05-13T08:11:10.698048Z"
    }
   },
   "outputs": [
    {
     "data": {
      "text/html": [
       "<div>\n",
       "<style scoped>\n",
       "    .dataframe tbody tr th:only-of-type {\n",
       "        vertical-align: middle;\n",
       "    }\n",
       "\n",
       "    .dataframe tbody tr th {\n",
       "        vertical-align: top;\n",
       "    }\n",
       "\n",
       "    .dataframe thead th {\n",
       "        text-align: right;\n",
       "    }\n",
       "</style>\n",
       "<table border=\"1\" class=\"dataframe\">\n",
       "  <thead>\n",
       "    <tr style=\"text-align: right;\">\n",
       "      <th></th>\n",
       "      <th>book_id</th>\n",
       "      <th>user_id</th>\n",
       "      <th>rating</th>\n",
       "    </tr>\n",
       "  </thead>\n",
       "  <tbody>\n",
       "    <tr>\n",
       "      <th>0</th>\n",
       "      <td>1</td>\n",
       "      <td>314</td>\n",
       "      <td>5</td>\n",
       "    </tr>\n",
       "    <tr>\n",
       "      <th>200</th>\n",
       "      <td>3</td>\n",
       "      <td>314</td>\n",
       "      <td>3</td>\n",
       "    </tr>\n",
       "    <tr>\n",
       "      <th>400</th>\n",
       "      <td>5</td>\n",
       "      <td>314</td>\n",
       "      <td>4</td>\n",
       "    </tr>\n",
       "    <tr>\n",
       "      <th>501</th>\n",
       "      <td>6</td>\n",
       "      <td>314</td>\n",
       "      <td>5</td>\n",
       "    </tr>\n",
       "  </tbody>\n",
       "</table>\n",
       "</div>"
      ],
      "text/plain": [
       "     book_id  user_id  rating\n",
       "0          1      314       5\n",
       "200        3      314       3\n",
       "400        5      314       4\n",
       "501        6      314       5"
      ]
     },
     "execution_count": 104,
     "metadata": {},
     "output_type": "execute_result"
    }
   ],
   "source": [
    "ratings[(ratings['user_id'] == 314) & (ratings['book_id'].isin([1,2,3,4,5,6,7,8]))]"
   ]
  },
  {
   "cell_type": "code",
   "execution_count": 113,
   "id": "fe30603d",
   "metadata": {
    "ExecuteTime": {
     "end_time": "2021-05-13T08:15:22.847202Z",
     "start_time": "2021-05-13T08:15:22.567789Z"
    }
   },
   "outputs": [
    {
     "data": {
      "image/png": "[encoded data removed]",
      "text/plain": [
       "<Figure size 576x288 with 1 Axes>"
      ]
     },
     "metadata": {},
     "output_type": "display_data"
    }
   ],
   "source": [
    "agg = ratings[ratings['book_id'].isin([1,2,3,4,5,6,7,8])].groupby(['user_id'])['book_id'].agg({'nunique'})\n",
    "agg = agg.reset_index()\n",
    "agg = agg.groupby(['nunique'])['user_id'].agg({'count'}).reset_index()\n",
    "\n",
    "plt.figure(figsize=(8, 4))\n",
    "sns.barplot(data = agg, x='nunique', y='count')\n",
    "plt.xlabel('Series Count')\n",
    "plt.ylabel('User Count')\n",
    "plt.title('Harry Poter Series Reading Count')\n",
    "plt.show()"
   ]
  },
  {
   "cell_type": "code",
   "execution_count": 114,
   "id": "cec8fed1",
   "metadata": {
    "ExecuteTime": {
     "end_time": "2021-05-13T08:15:50.345873Z",
     "start_time": "2021-05-13T08:15:50.316983Z"
    }
   },
   "outputs": [
    {
     "data": {
      "text/html": [
       "<div>\n",
       "<style scoped>\n",
       "    .dataframe tbody tr th:only-of-type {\n",
       "        vertical-align: middle;\n",
       "    }\n",
       "\n",
       "    .dataframe tbody tr th {\n",
       "        vertical-align: top;\n",
       "    }\n",
       "\n",
       "    .dataframe thead th {\n",
       "        text-align: right;\n",
       "    }\n",
       "</style>\n",
       "<table border=\"1\" class=\"dataframe\">\n",
       "  <thead>\n",
       "    <tr style=\"text-align: right;\">\n",
       "      <th></th>\n",
       "      <th>0</th>\n",
       "      <th>1</th>\n",
       "      <th>2</th>\n",
       "      <th>3</th>\n",
       "      <th>4</th>\n",
       "      <th>5</th>\n",
       "      <th>6</th>\n",
       "      <th>7</th>\n",
       "    </tr>\n",
       "  </thead>\n",
       "  <tbody>\n",
       "    <tr>\n",
       "      <th>nunique</th>\n",
       "      <td>1.000000</td>\n",
       "      <td>2.000000</td>\n",
       "      <td>3.000000</td>\n",
       "      <td>4.000000</td>\n",
       "      <td>5.000000</td>\n",
       "      <td>6.000000</td>\n",
       "      <td>7.000000</td>\n",
       "      <td>8.000000</td>\n",
       "    </tr>\n",
       "    <tr>\n",
       "      <th>ratio</th>\n",
       "      <td>0.362319</td>\n",
       "      <td>0.152174</td>\n",
       "      <td>0.126812</td>\n",
       "      <td>0.112319</td>\n",
       "      <td>0.112319</td>\n",
       "      <td>0.101449</td>\n",
       "      <td>0.028986</td>\n",
       "      <td>0.003623</td>\n",
       "    </tr>\n",
       "  </tbody>\n",
       "</table>\n",
       "</div>"
      ],
      "text/plain": [
       "                0         1         2         3         4         5         6  \\\n",
       "nunique  1.000000  2.000000  3.000000  4.000000  5.000000  6.000000  7.000000   \n",
       "ratio    0.362319  0.152174  0.126812  0.112319  0.112319  0.101449  0.028986   \n",
       "\n",
       "                7  \n",
       "nunique  8.000000  \n",
       "ratio    0.003623  "
      ]
     },
     "execution_count": 114,
     "metadata": {},
     "output_type": "execute_result"
    }
   ],
   "source": [
    "agg['ratio'] = agg['count'] / agg['count'].sum()\n",
    "agg[['nunique', 'ratio']].T"
   ]
  },
  {
   "cell_type": "markdown",
   "id": "f1a6d86e",
   "metadata": {},
   "source": [
    "- 해리포터같이 시리즈성의 책은 같이 읽는 경향이 있음"
   ]
  },
  {
   "cell_type": "markdown",
   "id": "119798b9",
   "metadata": {},
   "source": [
    "## to_read 정보"
   ]
  },
  {
   "cell_type": "code",
   "execution_count": 115,
   "id": "fcb93efe",
   "metadata": {
    "ExecuteTime": {
     "end_time": "2021-05-13T08:16:46.324304Z",
     "start_time": "2021-05-13T08:16:46.312271Z"
    }
   },
   "outputs": [
    {
     "data": {
      "text/html": [
       "<div>\n",
       "<style scoped>\n",
       "    .dataframe tbody tr th:only-of-type {\n",
       "        vertical-align: middle;\n",
       "    }\n",
       "\n",
       "    .dataframe tbody tr th {\n",
       "        vertical-align: top;\n",
       "    }\n",
       "\n",
       "    .dataframe thead th {\n",
       "        text-align: right;\n",
       "    }\n",
       "</style>\n",
       "<table border=\"1\" class=\"dataframe\">\n",
       "  <thead>\n",
       "    <tr style=\"text-align: right;\">\n",
       "      <th></th>\n",
       "      <th>user_id</th>\n",
       "      <th>book_id</th>\n",
       "    </tr>\n",
       "  </thead>\n",
       "  <tbody>\n",
       "    <tr>\n",
       "      <th>0</th>\n",
       "      <td>1</td>\n",
       "      <td>112</td>\n",
       "    </tr>\n",
       "    <tr>\n",
       "      <th>1</th>\n",
       "      <td>1</td>\n",
       "      <td>235</td>\n",
       "    </tr>\n",
       "    <tr>\n",
       "      <th>2</th>\n",
       "      <td>1</td>\n",
       "      <td>533</td>\n",
       "    </tr>\n",
       "    <tr>\n",
       "      <th>3</th>\n",
       "      <td>1</td>\n",
       "      <td>1198</td>\n",
       "    </tr>\n",
       "    <tr>\n",
       "      <th>4</th>\n",
       "      <td>1</td>\n",
       "      <td>1874</td>\n",
       "    </tr>\n",
       "  </tbody>\n",
       "</table>\n",
       "</div>"
      ],
      "text/plain": [
       "   user_id  book_id\n",
       "0        1      112\n",
       "1        1      235\n",
       "2        1      533\n",
       "3        1     1198\n",
       "4        1     1874"
      ]
     },
     "execution_count": 115,
     "metadata": {},
     "output_type": "execute_result"
    }
   ],
   "source": [
    "to_read.head()"
   ]
  },
  {
   "cell_type": "code",
   "execution_count": 116,
   "id": "9a33e7e2",
   "metadata": {
    "ExecuteTime": {
     "end_time": "2021-05-13T08:17:02.279093Z",
     "start_time": "2021-05-13T08:17:02.212597Z"
    }
   },
   "outputs": [
    {
     "data": {
      "text/plain": [
       "48871"
      ]
     },
     "execution_count": 116,
     "metadata": {},
     "output_type": "execute_result"
    }
   ],
   "source": [
    "to_read['user_id'].nunique()"
   ]
  },
  {
   "cell_type": "markdown",
   "id": "fe969c16",
   "metadata": {},
   "source": [
    "- 이미 읽은 정보뿐만 아니라 읽을 책들에 대한 정보도 결합해서 추천이 가능"
   ]
  },
  {
   "cell_type": "markdown",
   "id": "efe34b13",
   "metadata": {},
   "source": [
    "## 학습셋과 검증셋 생성"
   ]
  },
  {
   "cell_type": "code",
   "execution_count": 117,
   "id": "5b008588",
   "metadata": {
    "ExecuteTime": {
     "end_time": "2021-05-13T08:17:38.826805Z",
     "start_time": "2021-05-13T08:17:32.961809Z"
    }
   },
   "outputs": [
    {
     "data": {
      "text/html": [
       "<div>\n",
       "<style scoped>\n",
       "    .dataframe tbody tr th:only-of-type {\n",
       "        vertical-align: middle;\n",
       "    }\n",
       "\n",
       "    .dataframe tbody tr th {\n",
       "        vertical-align: top;\n",
       "    }\n",
       "\n",
       "    .dataframe thead th {\n",
       "        text-align: right;\n",
       "    }\n",
       "</style>\n",
       "<table border=\"1\" class=\"dataframe\">\n",
       "  <thead>\n",
       "    <tr style=\"text-align: right;\">\n",
       "      <th></th>\n",
       "      <th>user_id</th>\n",
       "      <th>unique</th>\n",
       "    </tr>\n",
       "  </thead>\n",
       "  <tbody>\n",
       "    <tr>\n",
       "      <th>0</th>\n",
       "      <td>1</td>\n",
       "      <td>[1180, 4893, 6285]</td>\n",
       "    </tr>\n",
       "    <tr>\n",
       "      <th>1</th>\n",
       "      <td>2</td>\n",
       "      <td>[8034, 8855, 9762]</td>\n",
       "    </tr>\n",
       "    <tr>\n",
       "      <th>2</th>\n",
       "      <td>3</td>\n",
       "      <td>[9014, 9049]</td>\n",
       "    </tr>\n",
       "    <tr>\n",
       "      <th>3</th>\n",
       "      <td>4</td>\n",
       "      <td>[3273, 3469, 8464]</td>\n",
       "    </tr>\n",
       "    <tr>\n",
       "      <th>4</th>\n",
       "      <td>5</td>\n",
       "      <td>[4829, 6646, 6703, 7487, 8072]</td>\n",
       "    </tr>\n",
       "  </tbody>\n",
       "</table>\n",
       "</div>"
      ],
      "text/plain": [
       "   user_id                          unique\n",
       "0        1              [1180, 4893, 6285]\n",
       "1        2              [8034, 8855, 9762]\n",
       "2        3                    [9014, 9049]\n",
       "3        4              [3273, 3469, 8464]\n",
       "4        5  [4829, 6646, 6703, 7487, 8072]"
      ]
     },
     "execution_count": 117,
     "metadata": {},
     "output_type": "execute_result"
    }
   ],
   "source": [
    "agg = ratings.groupby(['user_id'])['book_id'].agg({'unique'}).reset_index()\n",
    "agg.head()"
   ]
  },
  {
   "cell_type": "code",
   "execution_count": 118,
   "id": "f098b2de",
   "metadata": {
    "ExecuteTime": {
     "end_time": "2021-05-13T08:18:29.351334Z",
     "start_time": "2021-05-13T08:18:27.559943Z"
    }
   },
   "outputs": [
    {
     "data": {
      "text/html": [
       "<div>\n",
       "<style scoped>\n",
       "    .dataframe tbody tr th:only-of-type {\n",
       "        vertical-align: middle;\n",
       "    }\n",
       "\n",
       "    .dataframe tbody tr th {\n",
       "        vertical-align: top;\n",
       "    }\n",
       "\n",
       "    .dataframe thead th {\n",
       "        text-align: right;\n",
       "    }\n",
       "</style>\n",
       "<table border=\"1\" class=\"dataframe\">\n",
       "  <thead>\n",
       "    <tr style=\"text-align: right;\">\n",
       "      <th></th>\n",
       "      <th>user_id</th>\n",
       "      <th>unique</th>\n",
       "      <th>train</th>\n",
       "    </tr>\n",
       "  </thead>\n",
       "  <tbody>\n",
       "    <tr>\n",
       "      <th>0</th>\n",
       "      <td>1</td>\n",
       "      <td>[1180, 4893, 6285]</td>\n",
       "      <td>[6285]</td>\n",
       "    </tr>\n",
       "    <tr>\n",
       "      <th>1</th>\n",
       "      <td>2</td>\n",
       "      <td>[8034, 8855, 9762]</td>\n",
       "      <td>[8034]</td>\n",
       "    </tr>\n",
       "    <tr>\n",
       "      <th>2</th>\n",
       "      <td>3</td>\n",
       "      <td>[9014, 9049]</td>\n",
       "      <td>[9014]</td>\n",
       "    </tr>\n",
       "    <tr>\n",
       "      <th>3</th>\n",
       "      <td>4</td>\n",
       "      <td>[3273, 3469, 8464]</td>\n",
       "      <td>[8464]</td>\n",
       "    </tr>\n",
       "    <tr>\n",
       "      <th>4</th>\n",
       "      <td>5</td>\n",
       "      <td>[4829, 6646, 6703, 7487, 8072]</td>\n",
       "      <td>[6646, 4829]</td>\n",
       "    </tr>\n",
       "  </tbody>\n",
       "</table>\n",
       "</div>"
      ],
      "text/plain": [
       "   user_id                          unique         train\n",
       "0        1              [1180, 4893, 6285]        [6285]\n",
       "1        2              [8034, 8855, 9762]        [8034]\n",
       "2        3                    [9014, 9049]        [9014]\n",
       "3        4              [3273, 3469, 8464]        [8464]\n",
       "4        5  [4829, 6646, 6703, 7487, 8072]  [6646, 4829]"
      ]
     },
     "execution_count": 118,
     "metadata": {},
     "output_type": "execute_result"
    }
   ],
   "source": [
    "agg['train'] = agg['unique'].apply(lambda x: np.random.choice(x, len(x)//2))\n",
    "agg.head()"
   ]
  },
  {
   "cell_type": "code",
   "execution_count": 119,
   "id": "18d87ed1",
   "metadata": {
    "ExecuteTime": {
     "end_time": "2021-05-13T08:19:22.423544Z",
     "start_time": "2021-05-13T08:19:19.459606Z"
    }
   },
   "outputs": [
    {
     "data": {
      "application/vnd.jupyter.widget-view+json": {
       "model_id": "628be8fd4c87497ab6661c875e1c3ceb",
       "version_major": 2,
       "version_minor": 0
      },
      "text/plain": [
       "  0%|          | 0/53424 [00:00<?, ?it/s]"
      ]
     },
     "metadata": {},
     "output_type": "display_data"
    }
   ],
   "source": [
    "test = []\n",
    "for i in tqdm(range(0, agg.shape[0])):\n",
    "    test_rec = list(set(agg.loc[i, 'unique']).difference(set(agg.loc[i, 'train'])))\n",
    "    test.append(test_rec)\n",
    "agg['test'] = test"
   ]
  },
  {
   "cell_type": "code",
   "execution_count": 121,
   "id": "20272583",
   "metadata": {
    "ExecuteTime": {
     "end_time": "2021-05-13T08:41:22.296860Z",
     "start_time": "2021-05-13T08:41:22.194133Z"
    }
   },
   "outputs": [
    {
     "data": {
      "text/html": [
       "<div>\n",
       "<style scoped>\n",
       "    .dataframe tbody tr th:only-of-type {\n",
       "        vertical-align: middle;\n",
       "    }\n",
       "\n",
       "    .dataframe tbody tr th {\n",
       "        vertical-align: top;\n",
       "    }\n",
       "\n",
       "    .dataframe thead th {\n",
       "        text-align: right;\n",
       "    }\n",
       "</style>\n",
       "<table border=\"1\" class=\"dataframe\">\n",
       "  <thead>\n",
       "    <tr style=\"text-align: right;\">\n",
       "      <th></th>\n",
       "      <th>user_id</th>\n",
       "      <th>train</th>\n",
       "    </tr>\n",
       "  </thead>\n",
       "  <tbody>\n",
       "    <tr>\n",
       "      <th>0</th>\n",
       "      <td>1</td>\n",
       "      <td>6285</td>\n",
       "    </tr>\n",
       "    <tr>\n",
       "      <th>1</th>\n",
       "      <td>2</td>\n",
       "      <td>8034</td>\n",
       "    </tr>\n",
       "    <tr>\n",
       "      <th>2</th>\n",
       "      <td>3</td>\n",
       "      <td>9014</td>\n",
       "    </tr>\n",
       "    <tr>\n",
       "      <th>3</th>\n",
       "      <td>4</td>\n",
       "      <td>8464</td>\n",
       "    </tr>\n",
       "    <tr>\n",
       "      <th>4</th>\n",
       "      <td>5</td>\n",
       "      <td>6646</td>\n",
       "    </tr>\n",
       "  </tbody>\n",
       "</table>\n",
       "</div>"
      ],
      "text/plain": [
       "   user_id  train\n",
       "0        1   6285\n",
       "1        2   8034\n",
       "2        3   9014\n",
       "3        4   8464\n",
       "4        5   6646"
      ]
     },
     "execution_count": 121,
     "metadata": {},
     "output_type": "execute_result"
    }
   ],
   "source": [
    "# train dataset \n",
    "train_map = agg[['user_id', 'train']]\n",
    "\n",
    "# unnest tags\n",
    "train_map_unnest = np.dstack(\n",
    "    (\n",
    "        np.repeat(train_map.user_id.values, list(map(len, train_map.train))), \n",
    "        np.concatenate(train_map.train.values)\n",
    "    )\n",
    ")\n",
    "\n",
    "train_map_unnest = pd.DataFrame(data = train_map_unnest[0], columns = train_map.columns)\n",
    "train_map_unnest.head()"
   ]
  },
  {
   "cell_type": "code",
   "execution_count": 122,
   "id": "06bf64fb",
   "metadata": {
    "ExecuteTime": {
     "end_time": "2021-05-13T08:42:33.976362Z",
     "start_time": "2021-05-13T08:42:33.697484Z"
    }
   },
   "outputs": [
    {
     "data": {
      "text/html": [
       "<div>\n",
       "<style scoped>\n",
       "    .dataframe tbody tr th:only-of-type {\n",
       "        vertical-align: middle;\n",
       "    }\n",
       "\n",
       "    .dataframe tbody tr th {\n",
       "        vertical-align: top;\n",
       "    }\n",
       "\n",
       "    .dataframe thead th {\n",
       "        text-align: right;\n",
       "    }\n",
       "</style>\n",
       "<table border=\"1\" class=\"dataframe\">\n",
       "  <thead>\n",
       "    <tr style=\"text-align: right;\">\n",
       "      <th></th>\n",
       "      <th>user_id</th>\n",
       "      <th>test</th>\n",
       "    </tr>\n",
       "  </thead>\n",
       "  <tbody>\n",
       "    <tr>\n",
       "      <th>0</th>\n",
       "      <td>1</td>\n",
       "      <td>1180</td>\n",
       "    </tr>\n",
       "    <tr>\n",
       "      <th>1</th>\n",
       "      <td>1</td>\n",
       "      <td>4893</td>\n",
       "    </tr>\n",
       "    <tr>\n",
       "      <th>2</th>\n",
       "      <td>2</td>\n",
       "      <td>9762</td>\n",
       "    </tr>\n",
       "    <tr>\n",
       "      <th>3</th>\n",
       "      <td>2</td>\n",
       "      <td>8855</td>\n",
       "    </tr>\n",
       "    <tr>\n",
       "      <th>4</th>\n",
       "      <td>3</td>\n",
       "      <td>9049</td>\n",
       "    </tr>\n",
       "  </tbody>\n",
       "</table>\n",
       "</div>"
      ],
      "text/plain": [
       "   user_id  test\n",
       "0        1  1180\n",
       "1        1  4893\n",
       "2        2  9762\n",
       "3        2  8855\n",
       "4        3  9049"
      ]
     },
     "execution_count": 122,
     "metadata": {},
     "output_type": "execute_result"
    }
   ],
   "source": [
    "test_map = agg[['user_id', 'test']]\n",
    "\n",
    "# unnest tags\n",
    "test_map_unnest = np.dstack(\n",
    "    (\n",
    "        np.repeat(test_map.user_id.values, list(map(len, test_map.test))), \n",
    "        np.concatenate(test_map.test.values)\n",
    "    )\n",
    ")\n",
    "\n",
    "test_map_unnest = pd.DataFrame(data = test_map_unnest[0], columns = test_map.columns)\n",
    "test_map_unnest.head()"
   ]
  },
  {
   "cell_type": "code",
   "execution_count": 123,
   "id": "8b8af184",
   "metadata": {
    "ExecuteTime": {
     "end_time": "2021-05-13T08:42:41.797605Z",
     "start_time": "2021-05-13T08:42:39.521183Z"
    }
   },
   "outputs": [],
   "source": [
    "train_map_unnest.columns = ['user_id', 'book_id']\n",
    "test_map_unnest.columns = ['user_id', 'book_id']\n",
    "train_map_unnest.to_csv(\"train.csv\", index=False)\n",
    "test_map_unnest.to_csv(\"test.csv\", index=False)"
   ]
  },
  {
   "cell_type": "markdown",
   "id": "e7fc2557",
   "metadata": {},
   "source": [
    "## 정리\n",
    "- 전체 책을 구매한 사용자는 53424명이고 책의 개수는 10000개\n",
    "- 그 중 48871명이 장바구니에 책을 담아두었습니다.\n",
    "- 평균적으로 작가당 책이 2권 이상은 됩니다."
   ]
  }
 ],
 "metadata": {
  "kernelspec": {
   "display_name": "Python 3",
   "language": "python",
   "name": "python3"
  },
  "language_info": {
   "codemirror_mode": {
    "name": "ipython",
    "version": 3
   },
   "file_extension": ".py",
   "mimetype": "text/x-python",
   "name": "python",
   "nbconvert_exporter": "python",
   "pygments_lexer": "ipython3",
   "version": "3.7.10"
  },
  "toc": {
   "base_numbering": 1,
   "nav_menu": {},
   "number_sections": false,
   "sideBar": true,
   "skip_h1_title": false,
   "title_cell": "Table of Contents",
   "title_sidebar": "Contents",
   "toc_cell": false,
   "toc_position": {},
   "toc_section_display": true,
   "toc_window_display": false
  }
 },
 "nbformat": 4,
 "nbformat_minor": 5
}
