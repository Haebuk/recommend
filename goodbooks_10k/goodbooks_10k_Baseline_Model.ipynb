{
  "nbformat": 4,
  "nbformat_minor": 0,
  "metadata": {
    "colab": {
      "name": "goodbooks-10k Baseline Model",
      "provenance": [],
      "collapsed_sections": [],
      "authorship_tag": "ABX9TyMNbhJdepuz2mLfdOcvlosg",
      "include_colab_link": true
    },
    "kernelspec": {
      "name": "python3",
      "display_name": "Python 3"
    },
    "language_info": {
      "name": "python"
    },
    "widgets": {
      "application/vnd.jupyter.widget-state+json": {
        "f28ef99df2b44e629aae901d2adad806": {
          "model_module": "@jupyter-widgets/controls",
          "model_name": "HBoxModel",
          "state": {
            "_view_name": "HBoxView",
            "_dom_classes": [],
            "_model_name": "HBoxModel",
            "_view_module": "@jupyter-widgets/controls",
            "_model_module_version": "1.5.0",
            "_view_count": null,
            "_view_module_version": "1.5.0",
            "box_style": "",
            "layout": "IPY_MODEL_171119762891407380da33abbc308d39",
            "_model_module": "@jupyter-widgets/controls",
            "children": [
              "IPY_MODEL_07f1fcee7d974182ae2710b32549c869",
              "IPY_MODEL_f3c1a42202374fe5ba87dd3f2310e787"
            ]
          }
        },
        "171119762891407380da33abbc308d39": {
          "model_module": "@jupyter-widgets/base",
          "model_name": "LayoutModel",
          "state": {
            "_view_name": "LayoutView",
            "grid_template_rows": null,
            "right": null,
            "justify_content": null,
            "_view_module": "@jupyter-widgets/base",
            "overflow": null,
            "_model_module_version": "1.2.0",
            "_view_count": null,
            "flex_flow": null,
            "width": null,
            "min_width": null,
            "border": null,
            "align_items": null,
            "bottom": null,
            "_model_module": "@jupyter-widgets/base",
            "top": null,
            "grid_column": null,
            "overflow_y": null,
            "overflow_x": null,
            "grid_auto_flow": null,
            "grid_area": null,
            "grid_template_columns": null,
            "flex": null,
            "_model_name": "LayoutModel",
            "justify_items": null,
            "grid_row": null,
            "max_height": null,
            "align_content": null,
            "visibility": null,
            "align_self": null,
            "height": null,
            "min_height": null,
            "padding": null,
            "grid_auto_rows": null,
            "grid_gap": null,
            "max_width": null,
            "order": null,
            "_view_module_version": "1.2.0",
            "grid_template_areas": null,
            "object_position": null,
            "object_fit": null,
            "grid_auto_columns": null,
            "margin": null,
            "display": null,
            "left": null
          }
        },
        "07f1fcee7d974182ae2710b32549c869": {
          "model_module": "@jupyter-widgets/controls",
          "model_name": "FloatProgressModel",
          "state": {
            "_view_name": "ProgressView",
            "style": "IPY_MODEL_d24be273ce304d33ad7a98d64088c07b",
            "_dom_classes": [],
            "description": "100%",
            "_model_name": "FloatProgressModel",
            "bar_style": "success",
            "max": 53424,
            "_view_module": "@jupyter-widgets/controls",
            "_model_module_version": "1.5.0",
            "value": 53424,
            "_view_count": null,
            "_view_module_version": "1.5.0",
            "orientation": "horizontal",
            "min": 0,
            "description_tooltip": null,
            "_model_module": "@jupyter-widgets/controls",
            "layout": "IPY_MODEL_90f0ea3785f44669a847874ccfba44b7"
          }
        },
        "f3c1a42202374fe5ba87dd3f2310e787": {
          "model_module": "@jupyter-widgets/controls",
          "model_name": "HTMLModel",
          "state": {
            "_view_name": "HTMLView",
            "style": "IPY_MODEL_7beadadad60843608f378510f6619ccc",
            "_dom_classes": [],
            "description": "",
            "_model_name": "HTMLModel",
            "placeholder": "​",
            "_view_module": "@jupyter-widgets/controls",
            "_model_module_version": "1.5.0",
            "value": " 53424/53424 [02:14&lt;00:00, 397.34it/s]",
            "_view_count": null,
            "_view_module_version": "1.5.0",
            "description_tooltip": null,
            "_model_module": "@jupyter-widgets/controls",
            "layout": "IPY_MODEL_9a34bc7200e64fbe980865af3710533c"
          }
        },
        "d24be273ce304d33ad7a98d64088c07b": {
          "model_module": "@jupyter-widgets/controls",
          "model_name": "ProgressStyleModel",
          "state": {
            "_view_name": "StyleView",
            "_model_name": "ProgressStyleModel",
            "description_width": "initial",
            "_view_module": "@jupyter-widgets/base",
            "_model_module_version": "1.5.0",
            "_view_count": null,
            "_view_module_version": "1.2.0",
            "bar_color": null,
            "_model_module": "@jupyter-widgets/controls"
          }
        },
        "90f0ea3785f44669a847874ccfba44b7": {
          "model_module": "@jupyter-widgets/base",
          "model_name": "LayoutModel",
          "state": {
            "_view_name": "LayoutView",
            "grid_template_rows": null,
            "right": null,
            "justify_content": null,
            "_view_module": "@jupyter-widgets/base",
            "overflow": null,
            "_model_module_version": "1.2.0",
            "_view_count": null,
            "flex_flow": null,
            "width": null,
            "min_width": null,
            "border": null,
            "align_items": null,
            "bottom": null,
            "_model_module": "@jupyter-widgets/base",
            "top": null,
            "grid_column": null,
            "overflow_y": null,
            "overflow_x": null,
            "grid_auto_flow": null,
            "grid_area": null,
            "grid_template_columns": null,
            "flex": null,
            "_model_name": "LayoutModel",
            "justify_items": null,
            "grid_row": null,
            "max_height": null,
            "align_content": null,
            "visibility": null,
            "align_self": null,
            "height": null,
            "min_height": null,
            "padding": null,
            "grid_auto_rows": null,
            "grid_gap": null,
            "max_width": null,
            "order": null,
            "_view_module_version": "1.2.0",
            "grid_template_areas": null,
            "object_position": null,
            "object_fit": null,
            "grid_auto_columns": null,
            "margin": null,
            "display": null,
            "left": null
          }
        },
        "7beadadad60843608f378510f6619ccc": {
          "model_module": "@jupyter-widgets/controls",
          "model_name": "DescriptionStyleModel",
          "state": {
            "_view_name": "StyleView",
            "_model_name": "DescriptionStyleModel",
            "description_width": "",
            "_view_module": "@jupyter-widgets/base",
            "_model_module_version": "1.5.0",
            "_view_count": null,
            "_view_module_version": "1.2.0",
            "_model_module": "@jupyter-widgets/controls"
          }
        },
        "9a34bc7200e64fbe980865af3710533c": {
          "model_module": "@jupyter-widgets/base",
          "model_name": "LayoutModel",
          "state": {
            "_view_name": "LayoutView",
            "grid_template_rows": null,
            "right": null,
            "justify_content": null,
            "_view_module": "@jupyter-widgets/base",
            "overflow": null,
            "_model_module_version": "1.2.0",
            "_view_count": null,
            "flex_flow": null,
            "width": null,
            "min_width": null,
            "border": null,
            "align_items": null,
            "bottom": null,
            "_model_module": "@jupyter-widgets/base",
            "top": null,
            "grid_column": null,
            "overflow_y": null,
            "overflow_x": null,
            "grid_auto_flow": null,
            "grid_area": null,
            "grid_template_columns": null,
            "flex": null,
            "_model_name": "LayoutModel",
            "justify_items": null,
            "grid_row": null,
            "max_height": null,
            "align_content": null,
            "visibility": null,
            "align_self": null,
            "height": null,
            "min_height": null,
            "padding": null,
            "grid_auto_rows": null,
            "grid_gap": null,
            "max_width": null,
            "order": null,
            "_view_module_version": "1.2.0",
            "grid_template_areas": null,
            "object_position": null,
            "object_fit": null,
            "grid_auto_columns": null,
            "margin": null,
            "display": null,
            "left": null
          }
        },
        "907cf46502f544ff9a4b52ac86475583": {
          "model_module": "@jupyter-widgets/controls",
          "model_name": "HBoxModel",
          "state": {
            "_view_name": "HBoxView",
            "_dom_classes": [],
            "_model_name": "HBoxModel",
            "_view_module": "@jupyter-widgets/controls",
            "_model_module_version": "1.5.0",
            "_view_count": null,
            "_view_module_version": "1.5.0",
            "box_style": "",
            "layout": "IPY_MODEL_ec17412ac1f14027a16a34b89f058c6b",
            "_model_module": "@jupyter-widgets/controls",
            "children": [
              "IPY_MODEL_336022dcd7b442a4bcb46034b2f2ffec",
              "IPY_MODEL_f50b3e0db088410382c14c2b2e95af90"
            ]
          }
        },
        "ec17412ac1f14027a16a34b89f058c6b": {
          "model_module": "@jupyter-widgets/base",
          "model_name": "LayoutModel",
          "state": {
            "_view_name": "LayoutView",
            "grid_template_rows": null,
            "right": null,
            "justify_content": null,
            "_view_module": "@jupyter-widgets/base",
            "overflow": null,
            "_model_module_version": "1.2.0",
            "_view_count": null,
            "flex_flow": null,
            "width": null,
            "min_width": null,
            "border": null,
            "align_items": null,
            "bottom": null,
            "_model_module": "@jupyter-widgets/base",
            "top": null,
            "grid_column": null,
            "overflow_y": null,
            "overflow_x": null,
            "grid_auto_flow": null,
            "grid_area": null,
            "grid_template_columns": null,
            "flex": null,
            "_model_name": "LayoutModel",
            "justify_items": null,
            "grid_row": null,
            "max_height": null,
            "align_content": null,
            "visibility": null,
            "align_self": null,
            "height": null,
            "min_height": null,
            "padding": null,
            "grid_auto_rows": null,
            "grid_gap": null,
            "max_width": null,
            "order": null,
            "_view_module_version": "1.2.0",
            "grid_template_areas": null,
            "object_position": null,
            "object_fit": null,
            "grid_auto_columns": null,
            "margin": null,
            "display": null,
            "left": null
          }
        },
        "336022dcd7b442a4bcb46034b2f2ffec": {
          "model_module": "@jupyter-widgets/controls",
          "model_name": "FloatProgressModel",
          "state": {
            "_view_name": "ProgressView",
            "style": "IPY_MODEL_63f6de504c33457e97f3f1f8f0ea684a",
            "_dom_classes": [],
            "description": "100%",
            "_model_name": "FloatProgressModel",
            "bar_style": "success",
            "max": 53382,
            "_view_module": "@jupyter-widgets/controls",
            "_model_module_version": "1.5.0",
            "value": 53382,
            "_view_count": null,
            "_view_module_version": "1.5.0",
            "orientation": "horizontal",
            "min": 0,
            "description_tooltip": null,
            "_model_module": "@jupyter-widgets/controls",
            "layout": "IPY_MODEL_646d3ce546d6499aaab14fd39955490f"
          }
        },
        "f50b3e0db088410382c14c2b2e95af90": {
          "model_module": "@jupyter-widgets/controls",
          "model_name": "HTMLModel",
          "state": {
            "_view_name": "HTMLView",
            "style": "IPY_MODEL_20496b35168d4c08a6a0f848b2642bc0",
            "_dom_classes": [],
            "description": "",
            "_model_name": "HTMLModel",
            "placeholder": "​",
            "_view_module": "@jupyter-widgets/controls",
            "_model_module_version": "1.5.0",
            "value": " 53382/53382 [04:16&lt;00:00, 208.27it/s]",
            "_view_count": null,
            "_view_module_version": "1.5.0",
            "description_tooltip": null,
            "_model_module": "@jupyter-widgets/controls",
            "layout": "IPY_MODEL_db7990b5cc7247b1b08fbe62bef8a682"
          }
        },
        "63f6de504c33457e97f3f1f8f0ea684a": {
          "model_module": "@jupyter-widgets/controls",
          "model_name": "ProgressStyleModel",
          "state": {
            "_view_name": "StyleView",
            "_model_name": "ProgressStyleModel",
            "description_width": "initial",
            "_view_module": "@jupyter-widgets/base",
            "_model_module_version": "1.5.0",
            "_view_count": null,
            "_view_module_version": "1.2.0",
            "bar_color": null,
            "_model_module": "@jupyter-widgets/controls"
          }
        },
        "646d3ce546d6499aaab14fd39955490f": {
          "model_module": "@jupyter-widgets/base",
          "model_name": "LayoutModel",
          "state": {
            "_view_name": "LayoutView",
            "grid_template_rows": null,
            "right": null,
            "justify_content": null,
            "_view_module": "@jupyter-widgets/base",
            "overflow": null,
            "_model_module_version": "1.2.0",
            "_view_count": null,
            "flex_flow": null,
            "width": null,
            "min_width": null,
            "border": null,
            "align_items": null,
            "bottom": null,
            "_model_module": "@jupyter-widgets/base",
            "top": null,
            "grid_column": null,
            "overflow_y": null,
            "overflow_x": null,
            "grid_auto_flow": null,
            "grid_area": null,
            "grid_template_columns": null,
            "flex": null,
            "_model_name": "LayoutModel",
            "justify_items": null,
            "grid_row": null,
            "max_height": null,
            "align_content": null,
            "visibility": null,
            "align_self": null,
            "height": null,
            "min_height": null,
            "padding": null,
            "grid_auto_rows": null,
            "grid_gap": null,
            "max_width": null,
            "order": null,
            "_view_module_version": "1.2.0",
            "grid_template_areas": null,
            "object_position": null,
            "object_fit": null,
            "grid_auto_columns": null,
            "margin": null,
            "display": null,
            "left": null
          }
        },
        "20496b35168d4c08a6a0f848b2642bc0": {
          "model_module": "@jupyter-widgets/controls",
          "model_name": "DescriptionStyleModel",
          "state": {
            "_view_name": "StyleView",
            "_model_name": "DescriptionStyleModel",
            "description_width": "",
            "_view_module": "@jupyter-widgets/base",
            "_model_module_version": "1.5.0",
            "_view_count": null,
            "_view_module_version": "1.2.0",
            "_model_module": "@jupyter-widgets/controls"
          }
        },
        "db7990b5cc7247b1b08fbe62bef8a682": {
          "model_module": "@jupyter-widgets/base",
          "model_name": "LayoutModel",
          "state": {
            "_view_name": "LayoutView",
            "grid_template_rows": null,
            "right": null,
            "justify_content": null,
            "_view_module": "@jupyter-widgets/base",
            "overflow": null,
            "_model_module_version": "1.2.0",
            "_view_count": null,
            "flex_flow": null,
            "width": null,
            "min_width": null,
            "border": null,
            "align_items": null,
            "bottom": null,
            "_model_module": "@jupyter-widgets/base",
            "top": null,
            "grid_column": null,
            "overflow_y": null,
            "overflow_x": null,
            "grid_auto_flow": null,
            "grid_area": null,
            "grid_template_columns": null,
            "flex": null,
            "_model_name": "LayoutModel",
            "justify_items": null,
            "grid_row": null,
            "max_height": null,
            "align_content": null,
            "visibility": null,
            "align_self": null,
            "height": null,
            "min_height": null,
            "padding": null,
            "grid_auto_rows": null,
            "grid_gap": null,
            "max_width": null,
            "order": null,
            "_view_module_version": "1.2.0",
            "grid_template_areas": null,
            "object_position": null,
            "object_fit": null,
            "grid_auto_columns": null,
            "margin": null,
            "display": null,
            "left": null
          }
        },
        "033b89505ea94d399d0dc368c17ab459": {
          "model_module": "@jupyter-widgets/controls",
          "model_name": "HBoxModel",
          "state": {
            "_view_name": "HBoxView",
            "_dom_classes": [],
            "_model_name": "HBoxModel",
            "_view_module": "@jupyter-widgets/controls",
            "_model_module_version": "1.5.0",
            "_view_count": null,
            "_view_module_version": "1.5.0",
            "box_style": "",
            "layout": "IPY_MODEL_37ed575ff3d44651b78af33d3fad955e",
            "_model_module": "@jupyter-widgets/controls",
            "children": [
              "IPY_MODEL_11996be0c3cd4bf18992fbf2183f8a85",
              "IPY_MODEL_2fc10a83018c4ce9a1e209e85de395d7"
            ]
          }
        },
        "37ed575ff3d44651b78af33d3fad955e": {
          "model_module": "@jupyter-widgets/base",
          "model_name": "LayoutModel",
          "state": {
            "_view_name": "LayoutView",
            "grid_template_rows": null,
            "right": null,
            "justify_content": null,
            "_view_module": "@jupyter-widgets/base",
            "overflow": null,
            "_model_module_version": "1.2.0",
            "_view_count": null,
            "flex_flow": null,
            "width": null,
            "min_width": null,
            "border": null,
            "align_items": null,
            "bottom": null,
            "_model_module": "@jupyter-widgets/base",
            "top": null,
            "grid_column": null,
            "overflow_y": null,
            "overflow_x": null,
            "grid_auto_flow": null,
            "grid_area": null,
            "grid_template_columns": null,
            "flex": null,
            "_model_name": "LayoutModel",
            "justify_items": null,
            "grid_row": null,
            "max_height": null,
            "align_content": null,
            "visibility": null,
            "align_self": null,
            "height": null,
            "min_height": null,
            "padding": null,
            "grid_auto_rows": null,
            "grid_gap": null,
            "max_width": null,
            "order": null,
            "_view_module_version": "1.2.0",
            "grid_template_areas": null,
            "object_position": null,
            "object_fit": null,
            "grid_auto_columns": null,
            "margin": null,
            "display": null,
            "left": null
          }
        },
        "11996be0c3cd4bf18992fbf2183f8a85": {
          "model_module": "@jupyter-widgets/controls",
          "model_name": "FloatProgressModel",
          "state": {
            "_view_name": "ProgressView",
            "style": "IPY_MODEL_a9a4b8ed8de44665adc0b139a69196c2",
            "_dom_classes": [],
            "description": "100%",
            "_model_name": "FloatProgressModel",
            "bar_style": "success",
            "max": 53382,
            "_view_module": "@jupyter-widgets/controls",
            "_model_module_version": "1.5.0",
            "value": 53382,
            "_view_count": null,
            "_view_module_version": "1.5.0",
            "orientation": "horizontal",
            "min": 0,
            "description_tooltip": null,
            "_model_module": "@jupyter-widgets/controls",
            "layout": "IPY_MODEL_2b05253162a44259bb88efed1b05b509"
          }
        },
        "2fc10a83018c4ce9a1e209e85de395d7": {
          "model_module": "@jupyter-widgets/controls",
          "model_name": "HTMLModel",
          "state": {
            "_view_name": "HTMLView",
            "style": "IPY_MODEL_9256b72c211e4825b33c9e2a97aa6be8",
            "_dom_classes": [],
            "description": "",
            "_model_name": "HTMLModel",
            "placeholder": "​",
            "_view_module": "@jupyter-widgets/controls",
            "_model_module_version": "1.5.0",
            "value": " 53382/53382 [21:40&lt;00:00, 41.05it/s]",
            "_view_count": null,
            "_view_module_version": "1.5.0",
            "description_tooltip": null,
            "_model_module": "@jupyter-widgets/controls",
            "layout": "IPY_MODEL_270ab3ac40a24bbfae983f7f50471db8"
          }
        },
        "a9a4b8ed8de44665adc0b139a69196c2": {
          "model_module": "@jupyter-widgets/controls",
          "model_name": "ProgressStyleModel",
          "state": {
            "_view_name": "StyleView",
            "_model_name": "ProgressStyleModel",
            "description_width": "initial",
            "_view_module": "@jupyter-widgets/base",
            "_model_module_version": "1.5.0",
            "_view_count": null,
            "_view_module_version": "1.2.0",
            "bar_color": null,
            "_model_module": "@jupyter-widgets/controls"
          }
        },
        "2b05253162a44259bb88efed1b05b509": {
          "model_module": "@jupyter-widgets/base",
          "model_name": "LayoutModel",
          "state": {
            "_view_name": "LayoutView",
            "grid_template_rows": null,
            "right": null,
            "justify_content": null,
            "_view_module": "@jupyter-widgets/base",
            "overflow": null,
            "_model_module_version": "1.2.0",
            "_view_count": null,
            "flex_flow": null,
            "width": null,
            "min_width": null,
            "border": null,
            "align_items": null,
            "bottom": null,
            "_model_module": "@jupyter-widgets/base",
            "top": null,
            "grid_column": null,
            "overflow_y": null,
            "overflow_x": null,
            "grid_auto_flow": null,
            "grid_area": null,
            "grid_template_columns": null,
            "flex": null,
            "_model_name": "LayoutModel",
            "justify_items": null,
            "grid_row": null,
            "max_height": null,
            "align_content": null,
            "visibility": null,
            "align_self": null,
            "height": null,
            "min_height": null,
            "padding": null,
            "grid_auto_rows": null,
            "grid_gap": null,
            "max_width": null,
            "order": null,
            "_view_module_version": "1.2.0",
            "grid_template_areas": null,
            "object_position": null,
            "object_fit": null,
            "grid_auto_columns": null,
            "margin": null,
            "display": null,
            "left": null
          }
        },
        "9256b72c211e4825b33c9e2a97aa6be8": {
          "model_module": "@jupyter-widgets/controls",
          "model_name": "DescriptionStyleModel",
          "state": {
            "_view_name": "StyleView",
            "_model_name": "DescriptionStyleModel",
            "description_width": "",
            "_view_module": "@jupyter-widgets/base",
            "_model_module_version": "1.5.0",
            "_view_count": null,
            "_view_module_version": "1.2.0",
            "_model_module": "@jupyter-widgets/controls"
          }
        },
        "270ab3ac40a24bbfae983f7f50471db8": {
          "model_module": "@jupyter-widgets/base",
          "model_name": "LayoutModel",
          "state": {
            "_view_name": "LayoutView",
            "grid_template_rows": null,
            "right": null,
            "justify_content": null,
            "_view_module": "@jupyter-widgets/base",
            "overflow": null,
            "_model_module_version": "1.2.0",
            "_view_count": null,
            "flex_flow": null,
            "width": null,
            "min_width": null,
            "border": null,
            "align_items": null,
            "bottom": null,
            "_model_module": "@jupyter-widgets/base",
            "top": null,
            "grid_column": null,
            "overflow_y": null,
            "overflow_x": null,
            "grid_auto_flow": null,
            "grid_area": null,
            "grid_template_columns": null,
            "flex": null,
            "_model_name": "LayoutModel",
            "justify_items": null,
            "grid_row": null,
            "max_height": null,
            "align_content": null,
            "visibility": null,
            "align_self": null,
            "height": null,
            "min_height": null,
            "padding": null,
            "grid_auto_rows": null,
            "grid_gap": null,
            "max_width": null,
            "order": null,
            "_view_module_version": "1.2.0",
            "grid_template_areas": null,
            "object_position": null,
            "object_fit": null,
            "grid_auto_columns": null,
            "margin": null,
            "display": null,
            "left": null
          }
        },
        "263b9200acfc4e1ea14ca12ed65e39bc": {
          "model_module": "@jupyter-widgets/controls",
          "model_name": "HBoxModel",
          "state": {
            "_view_name": "HBoxView",
            "_dom_classes": [],
            "_model_name": "HBoxModel",
            "_view_module": "@jupyter-widgets/controls",
            "_model_module_version": "1.5.0",
            "_view_count": null,
            "_view_module_version": "1.5.0",
            "box_style": "",
            "layout": "IPY_MODEL_a98acd012cd0469d94053dbc786cab62",
            "_model_module": "@jupyter-widgets/controls",
            "children": [
              "IPY_MODEL_20288173f4ca41129b0bd21ff307dc0c",
              "IPY_MODEL_744776b8207c4a5fa9fe5b01aecce971"
            ]
          }
        },
        "a98acd012cd0469d94053dbc786cab62": {
          "model_module": "@jupyter-widgets/base",
          "model_name": "LayoutModel",
          "state": {
            "_view_name": "LayoutView",
            "grid_template_rows": null,
            "right": null,
            "justify_content": null,
            "_view_module": "@jupyter-widgets/base",
            "overflow": null,
            "_model_module_version": "1.2.0",
            "_view_count": null,
            "flex_flow": null,
            "width": null,
            "min_width": null,
            "border": null,
            "align_items": null,
            "bottom": null,
            "_model_module": "@jupyter-widgets/base",
            "top": null,
            "grid_column": null,
            "overflow_y": null,
            "overflow_x": null,
            "grid_auto_flow": null,
            "grid_area": null,
            "grid_template_columns": null,
            "flex": null,
            "_model_name": "LayoutModel",
            "justify_items": null,
            "grid_row": null,
            "max_height": null,
            "align_content": null,
            "visibility": null,
            "align_self": null,
            "height": null,
            "min_height": null,
            "padding": null,
            "grid_auto_rows": null,
            "grid_gap": null,
            "max_width": null,
            "order": null,
            "_view_module_version": "1.2.0",
            "grid_template_areas": null,
            "object_position": null,
            "object_fit": null,
            "grid_auto_columns": null,
            "margin": null,
            "display": null,
            "left": null
          }
        },
        "20288173f4ca41129b0bd21ff307dc0c": {
          "model_module": "@jupyter-widgets/controls",
          "model_name": "FloatProgressModel",
          "state": {
            "_view_name": "ProgressView",
            "style": "IPY_MODEL_140a514821fd47618a0b84afe5edb186",
            "_dom_classes": [],
            "description": "100%",
            "_model_name": "FloatProgressModel",
            "bar_style": "success",
            "max": 53382,
            "_view_module": "@jupyter-widgets/controls",
            "_model_module_version": "1.5.0",
            "value": 53382,
            "_view_count": null,
            "_view_module_version": "1.5.0",
            "orientation": "horizontal",
            "min": 0,
            "description_tooltip": null,
            "_model_module": "@jupyter-widgets/controls",
            "layout": "IPY_MODEL_0ab3a4222fc1481d914a96e82545769f"
          }
        },
        "744776b8207c4a5fa9fe5b01aecce971": {
          "model_module": "@jupyter-widgets/controls",
          "model_name": "HTMLModel",
          "state": {
            "_view_name": "HTMLView",
            "style": "IPY_MODEL_a19fdd0d16994dbeb410a11afda9c8dd",
            "_dom_classes": [],
            "description": "",
            "_model_name": "HTMLModel",
            "placeholder": "​",
            "_view_module": "@jupyter-widgets/controls",
            "_model_module_version": "1.5.0",
            "value": " 53382/53382 [02:26&lt;00:00, 364.85it/s]",
            "_view_count": null,
            "_view_module_version": "1.5.0",
            "description_tooltip": null,
            "_model_module": "@jupyter-widgets/controls",
            "layout": "IPY_MODEL_47ace0e30e12481e8d13d7835599c9ec"
          }
        },
        "140a514821fd47618a0b84afe5edb186": {
          "model_module": "@jupyter-widgets/controls",
          "model_name": "ProgressStyleModel",
          "state": {
            "_view_name": "StyleView",
            "_model_name": "ProgressStyleModel",
            "description_width": "initial",
            "_view_module": "@jupyter-widgets/base",
            "_model_module_version": "1.5.0",
            "_view_count": null,
            "_view_module_version": "1.2.0",
            "bar_color": null,
            "_model_module": "@jupyter-widgets/controls"
          }
        },
        "0ab3a4222fc1481d914a96e82545769f": {
          "model_module": "@jupyter-widgets/base",
          "model_name": "LayoutModel",
          "state": {
            "_view_name": "LayoutView",
            "grid_template_rows": null,
            "right": null,
            "justify_content": null,
            "_view_module": "@jupyter-widgets/base",
            "overflow": null,
            "_model_module_version": "1.2.0",
            "_view_count": null,
            "flex_flow": null,
            "width": null,
            "min_width": null,
            "border": null,
            "align_items": null,
            "bottom": null,
            "_model_module": "@jupyter-widgets/base",
            "top": null,
            "grid_column": null,
            "overflow_y": null,
            "overflow_x": null,
            "grid_auto_flow": null,
            "grid_area": null,
            "grid_template_columns": null,
            "flex": null,
            "_model_name": "LayoutModel",
            "justify_items": null,
            "grid_row": null,
            "max_height": null,
            "align_content": null,
            "visibility": null,
            "align_self": null,
            "height": null,
            "min_height": null,
            "padding": null,
            "grid_auto_rows": null,
            "grid_gap": null,
            "max_width": null,
            "order": null,
            "_view_module_version": "1.2.0",
            "grid_template_areas": null,
            "object_position": null,
            "object_fit": null,
            "grid_auto_columns": null,
            "margin": null,
            "display": null,
            "left": null
          }
        },
        "a19fdd0d16994dbeb410a11afda9c8dd": {
          "model_module": "@jupyter-widgets/controls",
          "model_name": "DescriptionStyleModel",
          "state": {
            "_view_name": "StyleView",
            "_model_name": "DescriptionStyleModel",
            "description_width": "",
            "_view_module": "@jupyter-widgets/base",
            "_model_module_version": "1.5.0",
            "_view_count": null,
            "_view_module_version": "1.2.0",
            "_model_module": "@jupyter-widgets/controls"
          }
        },
        "47ace0e30e12481e8d13d7835599c9ec": {
          "model_module": "@jupyter-widgets/base",
          "model_name": "LayoutModel",
          "state": {
            "_view_name": "LayoutView",
            "grid_template_rows": null,
            "right": null,
            "justify_content": null,
            "_view_module": "@jupyter-widgets/base",
            "overflow": null,
            "_model_module_version": "1.2.0",
            "_view_count": null,
            "flex_flow": null,
            "width": null,
            "min_width": null,
            "border": null,
            "align_items": null,
            "bottom": null,
            "_model_module": "@jupyter-widgets/base",
            "top": null,
            "grid_column": null,
            "overflow_y": null,
            "overflow_x": null,
            "grid_auto_flow": null,
            "grid_area": null,
            "grid_template_columns": null,
            "flex": null,
            "_model_name": "LayoutModel",
            "justify_items": null,
            "grid_row": null,
            "max_height": null,
            "align_content": null,
            "visibility": null,
            "align_self": null,
            "height": null,
            "min_height": null,
            "padding": null,
            "grid_auto_rows": null,
            "grid_gap": null,
            "max_width": null,
            "order": null,
            "_view_module_version": "1.2.0",
            "grid_template_areas": null,
            "object_position": null,
            "object_fit": null,
            "grid_auto_columns": null,
            "margin": null,
            "display": null,
            "left": null
          }
        }
      }
    }
  },
  "cells": [
    {
      "cell_type": "markdown",
      "metadata": {
        "id": "view-in-github",
        "colab_type": "text"
      },
      "source": [
        "<a href=\"https://colab.research.google.com/github/Haebuk/recommendation/blob/main/goodbooks_10k_Baseline_Model.ipynb\" target=\"_parent\"><img src=\"https://colab.research.google.com/assets/colab-badge.svg\" alt=\"Open In Colab\"/></a>"
      ]
    },
    {
      "cell_type": "code",
      "metadata": {
        "id": "RgZSXKb3GPEl"
      },
      "source": [
        "import pandas as pd\n",
        "import numpy as np\n",
        "import os, sys, gc\n",
        "from tqdm.notebook import tqdm"
      ],
      "execution_count": 1,
      "outputs": []
    },
    {
      "cell_type": "code",
      "metadata": {
        "colab": {
          "base_uri": "https://localhost:8080/"
        },
        "id": "bAtuLxArGeHm",
        "outputId": "cee71e65-4af3-465f-9ca3-76f5ca1347f4"
      },
      "source": [
        "!git clone \"https://github.com/Haebuk/recommendation.git\""
      ],
      "execution_count": 2,
      "outputs": [
        {
          "output_type": "stream",
          "text": [
            "fatal: destination path 'recommendation' already exists and is not an empty directory.\n"
          ],
          "name": "stdout"
        }
      ]
    },
    {
      "cell_type": "code",
      "metadata": {
        "id": "_27xrGssGtm2"
      },
      "source": [
        "path = '/content/recommendation/goodbooks_10k/input/'"
      ],
      "execution_count": 3,
      "outputs": []
    },
    {
      "cell_type": "code",
      "metadata": {
        "id": "u9jZ1oghG46i"
      },
      "source": [
        "books = pd.read_csv(path + \"books.csv\")\n",
        "book_tags = pd.read_csv(path + \"book_tags.csv\")\n",
        "train = pd.read_csv(path + \"train.csv\")\n",
        "test = pd.read_csv(path + \"test.csv\")\n",
        "tags = pd.read_csv(path + \"tags.csv\")\n",
        "to_read = pd.read_csv(path + \"to_read.csv\")"
      ],
      "execution_count": 4,
      "outputs": []
    },
    {
      "cell_type": "code",
      "metadata": {
        "colab": {
          "base_uri": "https://localhost:8080/",
          "height": 67,
          "referenced_widgets": [
            "f28ef99df2b44e629aae901d2adad806",
            "171119762891407380da33abbc308d39",
            "07f1fcee7d974182ae2710b32549c869",
            "f3c1a42202374fe5ba87dd3f2310e787",
            "d24be273ce304d33ad7a98d64088c07b",
            "90f0ea3785f44669a847874ccfba44b7",
            "7beadadad60843608f378510f6619ccc",
            "9a34bc7200e64fbe980865af3710533c"
          ]
        },
        "id": "3C5LCyIvHEam",
        "outputId": "87b32ee7-195c-468c-9f0e-93905d4b4003"
      },
      "source": [
        "sol = test.groupby(['user_id'])['book_id'].agg({'unique'}).reset_index()\n",
        "gt = {}\n",
        "for user in tqdm(sol['user_id'].unique()): \n",
        "    gt[user] = list(sol[sol['user_id'] == user]['unique'].values[0])"
      ],
      "execution_count": 5,
      "outputs": [
        {
          "output_type": "display_data",
          "data": {
            "application/vnd.jupyter.widget-view+json": {
              "model_id": "f28ef99df2b44e629aae901d2adad806",
              "version_minor": 0,
              "version_major": 2
            },
            "text/plain": [
              "HBox(children=(FloatProgress(value=0.0, max=53424.0), HTML(value='')))"
            ]
          },
          "metadata": {
            "tags": []
          }
        },
        {
          "output_type": "stream",
          "text": [
            "\n"
          ],
          "name": "stdout"
        }
      ]
    },
    {
      "cell_type": "markdown",
      "metadata": {
        "id": "CpO3RD5uHqCG"
      },
      "source": [
        "## 한 사람당 200권의 책을 추천해주는 상황"
      ]
    },
    {
      "cell_type": "code",
      "metadata": {
        "id": "yEmnBjTPH5Nm"
      },
      "source": [
        "rec_df = pd.DataFrame()\n",
        "rec_df['user_id'] = train['user_id'].unique()"
      ],
      "execution_count": 6,
      "outputs": []
    },
    {
      "cell_type": "markdown",
      "metadata": {
        "id": "901laMfxH-iQ"
      },
      "source": [
        "### Baseline\n",
        "- 통계기반의 모델"
      ]
    },
    {
      "cell_type": "code",
      "metadata": {
        "colab": {
          "base_uri": "https://localhost:8080/",
          "height": 400
        },
        "id": "fHErKruUIEIP",
        "outputId": "fd63229d-d2e0-4bd3-9bd7-f4ef7fbef98f"
      },
      "source": [
        "books.sort_values(by='books_count', ascending=False)[0:5]"
      ],
      "execution_count": 7,
      "outputs": [
        {
          "output_type": "execute_result",
          "data": {
            "text/html": [
              "<div>\n",
              "<style scoped>\n",
              "    .dataframe tbody tr th:only-of-type {\n",
              "        vertical-align: middle;\n",
              "    }\n",
              "\n",
              "    .dataframe tbody tr th {\n",
              "        vertical-align: top;\n",
              "    }\n",
              "\n",
              "    .dataframe thead th {\n",
              "        text-align: right;\n",
              "    }\n",
              "</style>\n",
              "<table border=\"1\" class=\"dataframe\">\n",
              "  <thead>\n",
              "    <tr style=\"text-align: right;\">\n",
              "      <th></th>\n",
              "      <th>id</th>\n",
              "      <th>book_id</th>\n",
              "      <th>best_book_id</th>\n",
              "      <th>work_id</th>\n",
              "      <th>books_count</th>\n",
              "      <th>isbn</th>\n",
              "      <th>isbn13</th>\n",
              "      <th>authors</th>\n",
              "      <th>original_publication_year</th>\n",
              "      <th>original_title</th>\n",
              "      <th>title</th>\n",
              "      <th>language_code</th>\n",
              "      <th>average_rating</th>\n",
              "      <th>ratings_count</th>\n",
              "      <th>work_ratings_count</th>\n",
              "      <th>work_text_reviews_count</th>\n",
              "      <th>ratings_1</th>\n",
              "      <th>ratings_2</th>\n",
              "      <th>ratings_3</th>\n",
              "      <th>ratings_4</th>\n",
              "      <th>ratings_5</th>\n",
              "      <th>image_url</th>\n",
              "      <th>small_image_url</th>\n",
              "    </tr>\n",
              "  </thead>\n",
              "  <tbody>\n",
              "    <tr>\n",
              "      <th>9</th>\n",
              "      <td>10</td>\n",
              "      <td>1885</td>\n",
              "      <td>1885</td>\n",
              "      <td>3060926</td>\n",
              "      <td>3455</td>\n",
              "      <td>679783261</td>\n",
              "      <td>9.780680e+12</td>\n",
              "      <td>Jane Austen</td>\n",
              "      <td>1813.0</td>\n",
              "      <td>Pride and Prejudice</td>\n",
              "      <td>Pride and Prejudice</td>\n",
              "      <td>eng</td>\n",
              "      <td>4.24</td>\n",
              "      <td>2035490</td>\n",
              "      <td>2191465</td>\n",
              "      <td>49152</td>\n",
              "      <td>54700</td>\n",
              "      <td>86485</td>\n",
              "      <td>284852</td>\n",
              "      <td>609755</td>\n",
              "      <td>1155673</td>\n",
              "      <td>https://images.gr-assets.com/books/1320399351m...</td>\n",
              "      <td>https://images.gr-assets.com/books/1320399351s...</td>\n",
              "    </tr>\n",
              "    <tr>\n",
              "      <th>1724</th>\n",
              "      <td>1725</td>\n",
              "      <td>6324090</td>\n",
              "      <td>6324090</td>\n",
              "      <td>55548884</td>\n",
              "      <td>3296</td>\n",
              "      <td>NaN</td>\n",
              "      <td>NaN</td>\n",
              "      <td>Lewis Carroll, John Tenniel</td>\n",
              "      <td>1865.0</td>\n",
              "      <td>NaN</td>\n",
              "      <td>Alice's Adventures in Wonderland</td>\n",
              "      <td>eng</td>\n",
              "      <td>3.99</td>\n",
              "      <td>30426</td>\n",
              "      <td>85031</td>\n",
              "      <td>5047</td>\n",
              "      <td>1724</td>\n",
              "      <td>4863</td>\n",
              "      <td>18094</td>\n",
              "      <td>27848</td>\n",
              "      <td>32502</td>\n",
              "      <td>https://images.gr-assets.com/books/1391204048m...</td>\n",
              "      <td>https://images.gr-assets.com/books/1391204048s...</td>\n",
              "    </tr>\n",
              "    <tr>\n",
              "      <th>70</th>\n",
              "      <td>71</td>\n",
              "      <td>18490</td>\n",
              "      <td>18490</td>\n",
              "      <td>4836639</td>\n",
              "      <td>2618</td>\n",
              "      <td>141439475</td>\n",
              "      <td>9.780141e+12</td>\n",
              "      <td>Mary Wollstonecraft Shelley, Percy Bysshe Shel...</td>\n",
              "      <td>1818.0</td>\n",
              "      <td>Frankenstein; or, The Modern Prometheus</td>\n",
              "      <td>Frankenstein</td>\n",
              "      <td>eng</td>\n",
              "      <td>3.75</td>\n",
              "      <td>808589</td>\n",
              "      <td>883563</td>\n",
              "      <td>19993</td>\n",
              "      <td>29366</td>\n",
              "      <td>74142</td>\n",
              "      <td>231022</td>\n",
              "      <td>300495</td>\n",
              "      <td>248538</td>\n",
              "      <td>https://images.gr-assets.com/books/1381512375m...</td>\n",
              "      <td>https://images.gr-assets.com/books/1381512375s...</td>\n",
              "    </tr>\n",
              "    <tr>\n",
              "      <th>292</th>\n",
              "      <td>293</td>\n",
              "      <td>295</td>\n",
              "      <td>295</td>\n",
              "      <td>3077988</td>\n",
              "      <td>2573</td>\n",
              "      <td>753453800</td>\n",
              "      <td>9.780753e+12</td>\n",
              "      <td>Robert Louis Stevenson</td>\n",
              "      <td>1882.0</td>\n",
              "      <td>Treasure Island</td>\n",
              "      <td>Treasure Island</td>\n",
              "      <td>eng</td>\n",
              "      <td>3.82</td>\n",
              "      <td>268012</td>\n",
              "      <td>310515</td>\n",
              "      <td>7917</td>\n",
              "      <td>5349</td>\n",
              "      <td>19127</td>\n",
              "      <td>86487</td>\n",
              "      <td>114968</td>\n",
              "      <td>84584</td>\n",
              "      <td>https://images.gr-assets.com/books/1485248909m...</td>\n",
              "      <td>https://images.gr-assets.com/books/1485248909s...</td>\n",
              "    </tr>\n",
              "    <tr>\n",
              "      <th>42</th>\n",
              "      <td>43</td>\n",
              "      <td>10210</td>\n",
              "      <td>10210</td>\n",
              "      <td>2977639</td>\n",
              "      <td>2568</td>\n",
              "      <td>142437204</td>\n",
              "      <td>9.780142e+12</td>\n",
              "      <td>Charlotte Brontë, Michael Mason</td>\n",
              "      <td>1847.0</td>\n",
              "      <td>Jane Eyre</td>\n",
              "      <td>Jane Eyre</td>\n",
              "      <td>eng</td>\n",
              "      <td>4.10</td>\n",
              "      <td>1198557</td>\n",
              "      <td>1286135</td>\n",
              "      <td>31212</td>\n",
              "      <td>35132</td>\n",
              "      <td>64274</td>\n",
              "      <td>212294</td>\n",
              "      <td>400214</td>\n",
              "      <td>574221</td>\n",
              "      <td>https://images.gr-assets.com/books/1327867269m...</td>\n",
              "      <td>https://images.gr-assets.com/books/1327867269s...</td>\n",
              "    </tr>\n",
              "  </tbody>\n",
              "</table>\n",
              "</div>"
            ],
            "text/plain": [
              "        id  ...                                    small_image_url\n",
              "9       10  ...  https://images.gr-assets.com/books/1320399351s...\n",
              "1724  1725  ...  https://images.gr-assets.com/books/1391204048s...\n",
              "70      71  ...  https://images.gr-assets.com/books/1381512375s...\n",
              "292    293  ...  https://images.gr-assets.com/books/1485248909s...\n",
              "42      43  ...  https://images.gr-assets.com/books/1327867269s...\n",
              "\n",
              "[5 rows x 23 columns]"
            ]
          },
          "metadata": {
            "tags": []
          },
          "execution_count": 7
        }
      ]
    },
    {
      "cell_type": "code",
      "metadata": {
        "id": "jgbzVDCMH_do"
      },
      "source": [
        "# 가장 많이 읽은 책 500권 추출\n",
        "popular_rec_model = books.sort_values(by='books_count', ascending=False)['book_id'].values[0:500]"
      ],
      "execution_count": 10,
      "outputs": []
    },
    {
      "cell_type": "code",
      "metadata": {
        "colab": {
          "base_uri": "https://localhost:8080/",
          "height": 67,
          "referenced_widgets": [
            "907cf46502f544ff9a4b52ac86475583",
            "ec17412ac1f14027a16a34b89f058c6b",
            "336022dcd7b442a4bcb46034b2f2ffec",
            "f50b3e0db088410382c14c2b2e95af90",
            "63f6de504c33457e97f3f1f8f0ea684a",
            "646d3ce546d6499aaab14fd39955490f",
            "20496b35168d4c08a6a0f848b2642bc0",
            "db7990b5cc7247b1b08fbe62bef8a682"
          ]
        },
        "id": "Y2Y17_46IKEa",
        "outputId": "860d4199-2a97-48b3-bde9-b8c3b9579136"
      },
      "source": [
        "total_rec_list = {}\n",
        "for user in tqdm(rec_df['user_id'].unique()):\n",
        "    rec_list = []\n",
        "    for rec in popular_rec_model[0:200]: \n",
        "        rec_list.append(rec)\n",
        "    total_rec_list[user] = rec_list"
      ],
      "execution_count": 9,
      "outputs": [
        {
          "output_type": "display_data",
          "data": {
            "application/vnd.jupyter.widget-view+json": {
              "model_id": "907cf46502f544ff9a4b52ac86475583",
              "version_minor": 0,
              "version_major": 2
            },
            "text/plain": [
              "HBox(children=(FloatProgress(value=0.0, max=53382.0), HTML(value='')))"
            ]
          },
          "metadata": {
            "tags": []
          }
        },
        {
          "output_type": "stream",
          "text": [
            "\n"
          ],
          "name": "stdout"
        }
      ]
    },
    {
      "cell_type": "code",
      "metadata": {
        "id": "OBOgHbkGHqbk"
      },
      "source": [
        "import six # 파이썬 2, 3 compatibility\n",
        "import math\n",
        "\n",
        "# https://github.com/kakao-arena/brunch-article-recommendation/blob/master/evaluate.py\n",
        "\n",
        "class evaluate():\n",
        "    def __init__(self, recs, gt, topn=100):\n",
        "        self.recs = recs\n",
        "        self.gt = gt\n",
        "        self.topn = topn\n",
        "\n",
        "    def _ndcg(self): # NDCG 측정\n",
        "        Q, S = 0.0, 0.0\n",
        "        for u, seen in six.iteritems(self.gt):\n",
        "            seen = list(set(seen))\n",
        "            rec = self.recs.get(u, [])\n",
        "            if not rec or len(seen) == 0:\n",
        "                continue\n",
        "            \n",
        "            dcg = 0.0\n",
        "            idcg = sum([1.0 / math.log(i + 2, 2) for i in range(min(len(seen), len(rec)))])\n",
        "            for i, r in enumerate(rec):\n",
        "                if r not in seen:\n",
        "                    continue\n",
        "                rank = i + 1\n",
        "                dcg += 1.0 / math.log(rank + 1, 2)\n",
        "            ndcg = dcg / idcg\n",
        "            S += ndcg\n",
        "            Q += 1\n",
        "        return S / Q\n",
        "\n",
        "    def _map(self):\n",
        "        n, ap = 0.0, 0.0\n",
        "        for u, seen in six.iteritems(self.gt):\n",
        "            seen = list(set(seen))\n",
        "            rec = self.recs.get(u, [])\n",
        "            if not rec or len(seen) == 0:\n",
        "                continue\n",
        "\n",
        "            _ap, correct = 0.0, 0.0\n",
        "            for i, r in enumerate(rec):\n",
        "                if r in seen:\n",
        "                    correct += 1\n",
        "                    _ap += (correct / (i + 1.0))\n",
        "            _ap /= min(len(seen), len(rec))\n",
        "            ap += _ap\n",
        "            n += 1.0\n",
        "        return ap / n\n",
        "\n",
        "\n",
        "    def _entropy_diversity(self):\n",
        "        sz = float(len(self.recs)) * self.topn\n",
        "        freq = {}\n",
        "        for u, rec in six.iteritems(self.recs):\n",
        "            for r in rec:\n",
        "                freq[r] = freq.get(r, 0) + 1\n",
        "        ent = -sum([v / sz * math.log(v / sz) for v in six.itervalues(freq)])\n",
        "        return ent\n",
        "    \n",
        "    def _evaluate(self):\n",
        "        print('MAP@%s: %s' % (self.topn, self._map()))\n",
        "        print('NDCG@%s: %s' % (self.topn, self._ndcg()))\n",
        "        print('EntDiv@%s: %s' % (self.topn, self._entropy_diversity()))\n"
      ],
      "execution_count": 14,
      "outputs": []
    },
    {
      "cell_type": "code",
      "metadata": {
        "colab": {
          "base_uri": "https://localhost:8080/"
        },
        "id": "Ki0i_QbwIvq1",
        "outputId": "1043b9c9-6003-48d4-ea8d-f565ce2a2aa8"
      },
      "source": [
        "evaluate_func = evaluate(recs=total_rec_list, gt = gt, topn=200)\n",
        "evaluate_func._evaluate()"
      ],
      "execution_count": 15,
      "outputs": [
        {
          "output_type": "stream",
          "text": [
            "MAP@200: 0.00015515720718927404\n",
            "NDCG@200: 0.001811561666747593\n",
            "EntDiv@200: 5.298317366548021\n"
          ],
          "name": "stdout"
        }
      ]
    },
    {
      "cell_type": "markdown",
      "metadata": {
        "id": "rya2QG8DIvzj"
      },
      "source": [
        "### Baseline 응용\n",
        "- 많이 글은 글중에서도 평점이 높은 글들을 우선적으로 추천\n",
        "- 내가 좋아하는 작가의 글을 우선적으로 추천\n",
        "- 장바구니에 담긴 글과 작가의 글을 우선적으로 추천\n",
        "- 읽은 글의 시리즈글이 나오면 추천 (해리포터 마법사의 돌 -> 비밀의 방)\n",
        "- 최신의 글을 추천"
      ]
    },
    {
      "cell_type": "code",
      "metadata": {
        "id": "Ue67JH_FIv1n"
      },
      "source": [
        "train = pd.merge(train, books[['book_id', 'authors', 'ratings_count']], how='left', on='book_id')"
      ],
      "execution_count": 16,
      "outputs": []
    },
    {
      "cell_type": "code",
      "metadata": {
        "colab": {
          "base_uri": "https://localhost:8080/",
          "height": 196
        },
        "id": "bJMH3e3fIv36",
        "outputId": "751fdfc3-af7d-4eec-8287-f98289248e9c"
      },
      "source": [
        "agg = train.groupby(['user_id','authors'])['authors'].agg({'count'}).reset_index()\n",
        "agg = agg.sort_values(by='count', ascending=False)\n",
        "agg.head()"
      ],
      "execution_count": 17,
      "outputs": [
        {
          "output_type": "execute_result",
          "data": {
            "text/html": [
              "<div>\n",
              "<style scoped>\n",
              "    .dataframe tbody tr th:only-of-type {\n",
              "        vertical-align: middle;\n",
              "    }\n",
              "\n",
              "    .dataframe tbody tr th {\n",
              "        vertical-align: top;\n",
              "    }\n",
              "\n",
              "    .dataframe thead th {\n",
              "        text-align: right;\n",
              "    }\n",
              "</style>\n",
              "<table border=\"1\" class=\"dataframe\">\n",
              "  <thead>\n",
              "    <tr style=\"text-align: right;\">\n",
              "      <th></th>\n",
              "      <th>user_id</th>\n",
              "      <th>authors</th>\n",
              "      <th>count</th>\n",
              "    </tr>\n",
              "  </thead>\n",
              "  <tbody>\n",
              "    <tr>\n",
              "      <th>10937</th>\n",
              "      <td>17566</td>\n",
              "      <td>Bill Bryson</td>\n",
              "      <td>7</td>\n",
              "    </tr>\n",
              "    <tr>\n",
              "      <th>13509</th>\n",
              "      <td>21713</td>\n",
              "      <td>Bill Bryson</td>\n",
              "      <td>7</td>\n",
              "    </tr>\n",
              "    <tr>\n",
              "      <th>7377</th>\n",
              "      <td>11927</td>\n",
              "      <td>Bill Bryson</td>\n",
              "      <td>6</td>\n",
              "    </tr>\n",
              "    <tr>\n",
              "      <th>20746</th>\n",
              "      <td>33697</td>\n",
              "      <td>Bill Bryson</td>\n",
              "      <td>6</td>\n",
              "    </tr>\n",
              "    <tr>\n",
              "      <th>29112</th>\n",
              "      <td>49289</td>\n",
              "      <td>J.R.R. Tolkien</td>\n",
              "      <td>6</td>\n",
              "    </tr>\n",
              "  </tbody>\n",
              "</table>\n",
              "</div>"
            ],
            "text/plain": [
              "       user_id         authors  count\n",
              "10937    17566     Bill Bryson      7\n",
              "13509    21713     Bill Bryson      7\n",
              "7377     11927     Bill Bryson      6\n",
              "20746    33697     Bill Bryson      6\n",
              "29112    49289  J.R.R. Tolkien      6"
            ]
          },
          "metadata": {
            "tags": []
          },
          "execution_count": 17
        }
      ]
    },
    {
      "cell_type": "markdown",
      "metadata": {
        "id": "blFcO353Iv5x"
      },
      "source": [
        "user 17566은 Bill Bryson의 책을 7권 읽음\n",
        "\n",
        "이 유저에게 같은 작가의 책을 추천해주면 성능이 향상 될 수 있다."
      ]
    },
    {
      "cell_type": "code",
      "metadata": {
        "colab": {
          "base_uri": "https://localhost:8080/",
          "height": 465
        },
        "id": "79Wai58kOQNc",
        "outputId": "e6448a01-7d2b-49c3-d069-1a0180f3f124"
      },
      "source": [
        "author_books = books[['book_id', 'authors', 'ratings_count']].sort_values(by=['authors', 'ratings_count'], ascending=[True, False])\n",
        "author_books = author_books.reset_index(drop=True)\n",
        "\n",
        "author_books[author_books['authors']=='Bill Bryson']"
      ],
      "execution_count": 27,
      "outputs": [
        {
          "output_type": "execute_result",
          "data": {
            "text/html": [
              "<div>\n",
              "<style scoped>\n",
              "    .dataframe tbody tr th:only-of-type {\n",
              "        vertical-align: middle;\n",
              "    }\n",
              "\n",
              "    .dataframe tbody tr th {\n",
              "        vertical-align: top;\n",
              "    }\n",
              "\n",
              "    .dataframe thead th {\n",
              "        text-align: right;\n",
              "    }\n",
              "</style>\n",
              "<table border=\"1\" class=\"dataframe\">\n",
              "  <thead>\n",
              "    <tr style=\"text-align: right;\">\n",
              "      <th></th>\n",
              "      <th>book_id</th>\n",
              "      <th>authors</th>\n",
              "      <th>ratings_count</th>\n",
              "    </tr>\n",
              "  </thead>\n",
              "  <tbody>\n",
              "    <tr>\n",
              "      <th>944</th>\n",
              "      <td>9791</td>\n",
              "      <td>Bill Bryson</td>\n",
              "      <td>250192</td>\n",
              "    </tr>\n",
              "    <tr>\n",
              "      <th>945</th>\n",
              "      <td>21</td>\n",
              "      <td>Bill Bryson</td>\n",
              "      <td>191535</td>\n",
              "    </tr>\n",
              "    <tr>\n",
              "      <th>946</th>\n",
              "      <td>28</td>\n",
              "      <td>Bill Bryson</td>\n",
              "      <td>66947</td>\n",
              "    </tr>\n",
              "    <tr>\n",
              "      <th>947</th>\n",
              "      <td>24</td>\n",
              "      <td>Bill Bryson</td>\n",
              "      <td>58688</td>\n",
              "    </tr>\n",
              "    <tr>\n",
              "      <th>948</th>\n",
              "      <td>7507825</td>\n",
              "      <td>Bill Bryson</td>\n",
              "      <td>55296</td>\n",
              "    </tr>\n",
              "    <tr>\n",
              "      <th>949</th>\n",
              "      <td>25</td>\n",
              "      <td>Bill Bryson</td>\n",
              "      <td>44610</td>\n",
              "    </tr>\n",
              "    <tr>\n",
              "      <th>950</th>\n",
              "      <td>10538</td>\n",
              "      <td>Bill Bryson</td>\n",
              "      <td>42680</td>\n",
              "    </tr>\n",
              "    <tr>\n",
              "      <th>951</th>\n",
              "      <td>27</td>\n",
              "      <td>Bill Bryson</td>\n",
              "      <td>42170</td>\n",
              "    </tr>\n",
              "    <tr>\n",
              "      <th>952</th>\n",
              "      <td>26</td>\n",
              "      <td>Bill Bryson</td>\n",
              "      <td>40254</td>\n",
              "    </tr>\n",
              "    <tr>\n",
              "      <th>953</th>\n",
              "      <td>17262366</td>\n",
              "      <td>Bill Bryson</td>\n",
              "      <td>27237</td>\n",
              "    </tr>\n",
              "    <tr>\n",
              "      <th>954</th>\n",
              "      <td>135611</td>\n",
              "      <td>Bill Bryson</td>\n",
              "      <td>25343</td>\n",
              "    </tr>\n",
              "    <tr>\n",
              "      <th>955</th>\n",
              "      <td>29</td>\n",
              "      <td>Bill Bryson</td>\n",
              "      <td>24133</td>\n",
              "    </tr>\n",
              "    <tr>\n",
              "      <th>956</th>\n",
              "      <td>25489012</td>\n",
              "      <td>Bill Bryson</td>\n",
              "      <td>9694</td>\n",
              "    </tr>\n",
              "    <tr>\n",
              "      <th>957</th>\n",
              "      <td>10541</td>\n",
              "      <td>Bill Bryson</td>\n",
              "      <td>9638</td>\n",
              "    </tr>\n",
              "  </tbody>\n",
              "</table>\n",
              "</div>"
            ],
            "text/plain": [
              "      book_id      authors  ratings_count\n",
              "944      9791  Bill Bryson         250192\n",
              "945        21  Bill Bryson         191535\n",
              "946        28  Bill Bryson          66947\n",
              "947        24  Bill Bryson          58688\n",
              "948   7507825  Bill Bryson          55296\n",
              "949        25  Bill Bryson          44610\n",
              "950     10538  Bill Bryson          42680\n",
              "951        27  Bill Bryson          42170\n",
              "952        26  Bill Bryson          40254\n",
              "953  17262366  Bill Bryson          27237\n",
              "954    135611  Bill Bryson          25343\n",
              "955        29  Bill Bryson          24133\n",
              "956  25489012  Bill Bryson           9694\n",
              "957     10541  Bill Bryson           9638"
            ]
          },
          "metadata": {
            "tags": []
          },
          "execution_count": 27
        }
      ]
    },
    {
      "cell_type": "code",
      "metadata": {
        "id": "GAexo42EIv8d"
      },
      "source": [
        "author_rec_model = agg.merge(author_books, how='left', on=['authors'])"
      ],
      "execution_count": 19,
      "outputs": []
    },
    {
      "cell_type": "code",
      "metadata": {
        "colab": {
          "base_uri": "https://localhost:8080/",
          "height": 644
        },
        "id": "6NUG6QSxIv-F",
        "outputId": "d439e43e-86e1-4395-80db-d0c422670504"
      },
      "source": [
        "author_rec_model.head(20)"
      ],
      "execution_count": 25,
      "outputs": [
        {
          "output_type": "execute_result",
          "data": {
            "text/html": [
              "<div>\n",
              "<style scoped>\n",
              "    .dataframe tbody tr th:only-of-type {\n",
              "        vertical-align: middle;\n",
              "    }\n",
              "\n",
              "    .dataframe tbody tr th {\n",
              "        vertical-align: top;\n",
              "    }\n",
              "\n",
              "    .dataframe thead th {\n",
              "        text-align: right;\n",
              "    }\n",
              "</style>\n",
              "<table border=\"1\" class=\"dataframe\">\n",
              "  <thead>\n",
              "    <tr style=\"text-align: right;\">\n",
              "      <th></th>\n",
              "      <th>user_id</th>\n",
              "      <th>authors</th>\n",
              "      <th>count</th>\n",
              "      <th>book_id</th>\n",
              "      <th>ratings_count</th>\n",
              "    </tr>\n",
              "  </thead>\n",
              "  <tbody>\n",
              "    <tr>\n",
              "      <th>0</th>\n",
              "      <td>17566</td>\n",
              "      <td>Bill Bryson</td>\n",
              "      <td>7</td>\n",
              "      <td>9791</td>\n",
              "      <td>250192</td>\n",
              "    </tr>\n",
              "    <tr>\n",
              "      <th>1</th>\n",
              "      <td>17566</td>\n",
              "      <td>Bill Bryson</td>\n",
              "      <td>7</td>\n",
              "      <td>21</td>\n",
              "      <td>191535</td>\n",
              "    </tr>\n",
              "    <tr>\n",
              "      <th>2</th>\n",
              "      <td>17566</td>\n",
              "      <td>Bill Bryson</td>\n",
              "      <td>7</td>\n",
              "      <td>28</td>\n",
              "      <td>66947</td>\n",
              "    </tr>\n",
              "    <tr>\n",
              "      <th>3</th>\n",
              "      <td>17566</td>\n",
              "      <td>Bill Bryson</td>\n",
              "      <td>7</td>\n",
              "      <td>24</td>\n",
              "      <td>58688</td>\n",
              "    </tr>\n",
              "    <tr>\n",
              "      <th>4</th>\n",
              "      <td>17566</td>\n",
              "      <td>Bill Bryson</td>\n",
              "      <td>7</td>\n",
              "      <td>7507825</td>\n",
              "      <td>55296</td>\n",
              "    </tr>\n",
              "    <tr>\n",
              "      <th>5</th>\n",
              "      <td>17566</td>\n",
              "      <td>Bill Bryson</td>\n",
              "      <td>7</td>\n",
              "      <td>25</td>\n",
              "      <td>44610</td>\n",
              "    </tr>\n",
              "    <tr>\n",
              "      <th>6</th>\n",
              "      <td>17566</td>\n",
              "      <td>Bill Bryson</td>\n",
              "      <td>7</td>\n",
              "      <td>10538</td>\n",
              "      <td>42680</td>\n",
              "    </tr>\n",
              "    <tr>\n",
              "      <th>7</th>\n",
              "      <td>17566</td>\n",
              "      <td>Bill Bryson</td>\n",
              "      <td>7</td>\n",
              "      <td>27</td>\n",
              "      <td>42170</td>\n",
              "    </tr>\n",
              "    <tr>\n",
              "      <th>8</th>\n",
              "      <td>17566</td>\n",
              "      <td>Bill Bryson</td>\n",
              "      <td>7</td>\n",
              "      <td>26</td>\n",
              "      <td>40254</td>\n",
              "    </tr>\n",
              "    <tr>\n",
              "      <th>9</th>\n",
              "      <td>17566</td>\n",
              "      <td>Bill Bryson</td>\n",
              "      <td>7</td>\n",
              "      <td>17262366</td>\n",
              "      <td>27237</td>\n",
              "    </tr>\n",
              "    <tr>\n",
              "      <th>10</th>\n",
              "      <td>17566</td>\n",
              "      <td>Bill Bryson</td>\n",
              "      <td>7</td>\n",
              "      <td>135611</td>\n",
              "      <td>25343</td>\n",
              "    </tr>\n",
              "    <tr>\n",
              "      <th>11</th>\n",
              "      <td>17566</td>\n",
              "      <td>Bill Bryson</td>\n",
              "      <td>7</td>\n",
              "      <td>29</td>\n",
              "      <td>24133</td>\n",
              "    </tr>\n",
              "    <tr>\n",
              "      <th>12</th>\n",
              "      <td>17566</td>\n",
              "      <td>Bill Bryson</td>\n",
              "      <td>7</td>\n",
              "      <td>25489012</td>\n",
              "      <td>9694</td>\n",
              "    </tr>\n",
              "    <tr>\n",
              "      <th>13</th>\n",
              "      <td>17566</td>\n",
              "      <td>Bill Bryson</td>\n",
              "      <td>7</td>\n",
              "      <td>10541</td>\n",
              "      <td>9638</td>\n",
              "    </tr>\n",
              "    <tr>\n",
              "      <th>14</th>\n",
              "      <td>21713</td>\n",
              "      <td>Bill Bryson</td>\n",
              "      <td>7</td>\n",
              "      <td>9791</td>\n",
              "      <td>250192</td>\n",
              "    </tr>\n",
              "    <tr>\n",
              "      <th>15</th>\n",
              "      <td>21713</td>\n",
              "      <td>Bill Bryson</td>\n",
              "      <td>7</td>\n",
              "      <td>21</td>\n",
              "      <td>191535</td>\n",
              "    </tr>\n",
              "    <tr>\n",
              "      <th>16</th>\n",
              "      <td>21713</td>\n",
              "      <td>Bill Bryson</td>\n",
              "      <td>7</td>\n",
              "      <td>28</td>\n",
              "      <td>66947</td>\n",
              "    </tr>\n",
              "    <tr>\n",
              "      <th>17</th>\n",
              "      <td>21713</td>\n",
              "      <td>Bill Bryson</td>\n",
              "      <td>7</td>\n",
              "      <td>24</td>\n",
              "      <td>58688</td>\n",
              "    </tr>\n",
              "    <tr>\n",
              "      <th>18</th>\n",
              "      <td>21713</td>\n",
              "      <td>Bill Bryson</td>\n",
              "      <td>7</td>\n",
              "      <td>7507825</td>\n",
              "      <td>55296</td>\n",
              "    </tr>\n",
              "    <tr>\n",
              "      <th>19</th>\n",
              "      <td>21713</td>\n",
              "      <td>Bill Bryson</td>\n",
              "      <td>7</td>\n",
              "      <td>25</td>\n",
              "      <td>44610</td>\n",
              "    </tr>\n",
              "  </tbody>\n",
              "</table>\n",
              "</div>"
            ],
            "text/plain": [
              "    user_id      authors  count   book_id  ratings_count\n",
              "0     17566  Bill Bryson      7      9791         250192\n",
              "1     17566  Bill Bryson      7        21         191535\n",
              "2     17566  Bill Bryson      7        28          66947\n",
              "3     17566  Bill Bryson      7        24          58688\n",
              "4     17566  Bill Bryson      7   7507825          55296\n",
              "5     17566  Bill Bryson      7        25          44610\n",
              "6     17566  Bill Bryson      7     10538          42680\n",
              "7     17566  Bill Bryson      7        27          42170\n",
              "8     17566  Bill Bryson      7        26          40254\n",
              "9     17566  Bill Bryson      7  17262366          27237\n",
              "10    17566  Bill Bryson      7    135611          25343\n",
              "11    17566  Bill Bryson      7        29          24133\n",
              "12    17566  Bill Bryson      7  25489012           9694\n",
              "13    17566  Bill Bryson      7     10541           9638\n",
              "14    21713  Bill Bryson      7      9791         250192\n",
              "15    21713  Bill Bryson      7        21         191535\n",
              "16    21713  Bill Bryson      7        28          66947\n",
              "17    21713  Bill Bryson      7        24          58688\n",
              "18    21713  Bill Bryson      7   7507825          55296\n",
              "19    21713  Bill Bryson      7        25          44610"
            ]
          },
          "metadata": {
            "tags": []
          },
          "execution_count": 25
        }
      ]
    },
    {
      "cell_type": "markdown",
      "metadata": {
        "id": "p_IdAbhTIwAN"
      },
      "source": [
        "- 작가가 쓴 책마다 인기도는 다르기 떄문에 많이 읽은 책 순으로 정렬\n",
        "- author 을 기준으로 합쳤기 때문에 user_id나 count는 위 데이터프레임에서 유의미한 값이 아님. author, book_id, rating_count만 보면됨\n",
        "- agg가 author count로 정렬이 되었기 때문에 같은 작가의 책을 여러권 읽었으면 추천 정확도가 높아질 것"
      ]
    },
    {
      "cell_type": "code",
      "metadata": {
        "colab": {
          "base_uri": "https://localhost:8080/"
        },
        "id": "SycnJv3QOq5f",
        "outputId": "252c1a7f-995c-438e-8cf8-00bfe0bef0a5"
      },
      "source": [
        "author_rec_model[author_rec_model['user_id'] == 17566]['book_id'].values"
      ],
      "execution_count": 26,
      "outputs": [
        {
          "output_type": "execute_result",
          "data": {
            "text/plain": [
              "array([    9791,       21,       28,       24,  7507825,       25,\n",
              "          10538,       27,       26, 17262366,   135611,       29,\n",
              "       25489012,    10541,      431,      830,      816,      827,\n",
              "        2845024, 22816087, 10552338,      823,      822,   116257,\n",
              "            825,     1103,  5960325,  9500416,    24472, 18404427,\n",
              "           3682,    51428,   127459,  7728889,  9464733,  6512140,\n",
              "          13145,    13148,    13137,    13152,     7494,    13139,\n",
              "          80568,    33676,  3393124,  1829709,    13153,    13140,\n",
              "        6431790,    13143,    79378,    13128,    79379,    13162,\n",
              "        7201913,     6588,    84736,   552887,    53625,    13151,\n",
              "         110444, 11946245,  6405929,  1713912,     5575,  7856305,\n",
              "       10343389, 13521299, 13097901, 17333277, 20800147, 25066591,\n",
              "              3,    15881,        6,   136251,        2,        1,\n",
              "          99298,        8,      122,     7354,     1627,    27999])"
            ]
          },
          "metadata": {
            "tags": []
          },
          "execution_count": 26
        }
      ]
    },
    {
      "cell_type": "code",
      "metadata": {
        "colab": {
          "base_uri": "https://localhost:8080/",
          "height": 67,
          "referenced_widgets": [
            "033b89505ea94d399d0dc368c17ab459",
            "37ed575ff3d44651b78af33d3fad955e",
            "11996be0c3cd4bf18992fbf2183f8a85",
            "2fc10a83018c4ce9a1e209e85de395d7",
            "a9a4b8ed8de44665adc0b139a69196c2",
            "2b05253162a44259bb88efed1b05b509",
            "9256b72c211e4825b33c9e2a97aa6be8",
            "270ab3ac40a24bbfae983f7f50471db8"
          ]
        },
        "id": "EHs8ZSTmO4mJ",
        "outputId": "7f98d897-7e1b-49b2-deae-1114b852dd6b"
      },
      "source": [
        "total_rec_list = {}\n",
        "for user in tqdm(rec_df['user_id'].unique()):\n",
        "    rec_list = []\n",
        "    author_rec_model_ = author_rec_model[author_rec_model['user_id'] == user]['book_id'].values\n",
        "    for rec in author_rec_model_: \n",
        "        rec_list.append(rec)\n",
        "    \n",
        "    if len(rec_list) < 200: # 200권 보다 작은 경우 인기있는 책 추천\n",
        "        for i in popular_rec_model[0:200]:\n",
        "            rec_list.append(rec)\n",
        "        \n",
        "    total_rec_list[user] = rec_list[0:200]"
      ],
      "execution_count": 23,
      "outputs": [
        {
          "output_type": "display_data",
          "data": {
            "application/vnd.jupyter.widget-view+json": {
              "model_id": "033b89505ea94d399d0dc368c17ab459",
              "version_minor": 0,
              "version_major": 2
            },
            "text/plain": [
              "HBox(children=(FloatProgress(value=0.0, max=53382.0), HTML(value='')))"
            ]
          },
          "metadata": {
            "tags": []
          }
        },
        {
          "output_type": "stream",
          "text": [
            "\n"
          ],
          "name": "stdout"
        }
      ]
    },
    {
      "cell_type": "code",
      "metadata": {
        "colab": {
          "base_uri": "https://localhost:8080/"
        },
        "id": "jfKdS1TyO7wo",
        "outputId": "ee5ba579-20df-45fb-be73-7538f5446908"
      },
      "source": [
        "evaluate_func = evaluate(recs=total_rec_list, gt = gt, topn=200)\n",
        "evaluate_func._evaluate()"
      ],
      "execution_count": 28,
      "outputs": [
        {
          "output_type": "stream",
          "text": [
            "MAP@200: 0.01488745219381199\n",
            "NDCG@200: 0.004724455575031803\n",
            "EntDiv@200: 5.860416089913054\n"
          ],
          "name": "stdout"
        }
      ]
    },
    {
      "cell_type": "markdown",
      "metadata": {
        "id": "R5_r9xX3IqkP"
      },
      "source": [
        "- 기본 통계 모델\n",
        "    - MAP@200: 0.00015515720718927404\n",
        "    - NDCG@200: 0.001811561666747593\n",
        "    - EntDiv@200: 5.298317366548021\n",
        "- 선호 작가 추가 모델\n",
        "    - MAP@200: 0.01488745219381199\n",
        "    - NDCG@200: 0.004724455575031803\n",
        "    - EntDiv@200: 5.860416089913054\n",
        "\n",
        "MAP가 약 140배 증가!!"
      ]
    },
    {
      "cell_type": "markdown",
      "metadata": {
        "id": "UJ9USc-VTnEf"
      },
      "source": [
        "### 후처리\n",
        "- 내가 읽은 책은 추천해주면 안됨\n",
        "- 내가 읽은 언어와 맞는 책 추 "
      ]
    },
    {
      "cell_type": "code",
      "metadata": {
        "colab": {
          "base_uri": "https://localhost:8080/",
          "height": 196
        },
        "id": "UAXgSLJSTs-r",
        "outputId": "59065ca1-3950-46b2-a753-813bf52265bb"
      },
      "source": [
        "# 내가 읽은 책의 목록을 추출 \n",
        "read_list = train.groupby(['user_id'])['book_id'].agg({'unique'}).reset_index()\n",
        "read_list.head()"
      ],
      "execution_count": 29,
      "outputs": [
        {
          "output_type": "execute_result",
          "data": {
            "text/html": [
              "<div>\n",
              "<style scoped>\n",
              "    .dataframe tbody tr th:only-of-type {\n",
              "        vertical-align: middle;\n",
              "    }\n",
              "\n",
              "    .dataframe tbody tr th {\n",
              "        vertical-align: top;\n",
              "    }\n",
              "\n",
              "    .dataframe thead th {\n",
              "        text-align: right;\n",
              "    }\n",
              "</style>\n",
              "<table border=\"1\" class=\"dataframe\">\n",
              "  <thead>\n",
              "    <tr style=\"text-align: right;\">\n",
              "      <th></th>\n",
              "      <th>user_id</th>\n",
              "      <th>unique</th>\n",
              "    </tr>\n",
              "  </thead>\n",
              "  <tbody>\n",
              "    <tr>\n",
              "      <th>0</th>\n",
              "      <td>1</td>\n",
              "      <td>[6285]</td>\n",
              "    </tr>\n",
              "    <tr>\n",
              "      <th>1</th>\n",
              "      <td>2</td>\n",
              "      <td>[8034]</td>\n",
              "    </tr>\n",
              "    <tr>\n",
              "      <th>2</th>\n",
              "      <td>3</td>\n",
              "      <td>[9014]</td>\n",
              "    </tr>\n",
              "    <tr>\n",
              "      <th>3</th>\n",
              "      <td>4</td>\n",
              "      <td>[8464]</td>\n",
              "    </tr>\n",
              "    <tr>\n",
              "      <th>4</th>\n",
              "      <td>5</td>\n",
              "      <td>[6646, 4829]</td>\n",
              "    </tr>\n",
              "  </tbody>\n",
              "</table>\n",
              "</div>"
            ],
            "text/plain": [
              "   user_id        unique\n",
              "0        1        [6285]\n",
              "1        2        [8034]\n",
              "2        3        [9014]\n",
              "3        4        [8464]\n",
              "4        5  [6646, 4829]"
            ]
          },
          "metadata": {
            "tags": []
          },
          "execution_count": 29
        }
      ]
    },
    {
      "cell_type": "code",
      "metadata": {
        "colab": {
          "base_uri": "https://localhost:8080/",
          "height": 67,
          "referenced_widgets": [
            "263b9200acfc4e1ea14ca12ed65e39bc",
            "a98acd012cd0469d94053dbc786cab62",
            "20288173f4ca41129b0bd21ff307dc0c",
            "744776b8207c4a5fa9fe5b01aecce971",
            "140a514821fd47618a0b84afe5edb186",
            "0ab3a4222fc1481d914a96e82545769f",
            "a19fdd0d16994dbeb410a11afda9c8dd",
            "47ace0e30e12481e8d13d7835599c9ec"
          ]
        },
        "id": "yUv_weGoTuAA",
        "outputId": "dbc3d442-8682-462f-9270-bc06d471d045"
      },
      "source": [
        "total_rec_list = {}\n",
        "for user in tqdm(rec_df['user_id'].unique()):\n",
        "    rec_list = []\n",
        "    author_rec_model_ = author_rec_model[author_rec_model['user_id'] == user]['book_id'].values\n",
        "    seen = read_list[read_list['user_id'] == user]['unique'].values[0]\n",
        "    for rec in author_rec_model_: # 읽지 않았을 경우 리스트에 추가\n",
        "        if rec not in seen:\n",
        "            rec_list.append(rec)\n",
        "    \n",
        "    if len(rec_list) < 200:\n",
        "        for i in popular_rec_model[0:200]:\n",
        "            if rec not in seen:\n",
        "                rec_list.append(rec)\n",
        "\n",
        "    total_rec_list[user] = rec_list[0:200]"
      ],
      "execution_count": 30,
      "outputs": [
        {
          "output_type": "display_data",
          "data": {
            "application/vnd.jupyter.widget-view+json": {
              "model_id": "263b9200acfc4e1ea14ca12ed65e39bc",
              "version_minor": 0,
              "version_major": 2
            },
            "text/plain": [
              "HBox(children=(FloatProgress(value=0.0, max=53382.0), HTML(value='')))"
            ]
          },
          "metadata": {
            "tags": []
          }
        },
        {
          "output_type": "stream",
          "text": [
            "\n"
          ],
          "name": "stdout"
        }
      ]
    },
    {
      "cell_type": "code",
      "metadata": {
        "colab": {
          "base_uri": "https://localhost:8080/"
        },
        "id": "qNu2DJxqTynr",
        "outputId": "c9cf49a0-e79e-4f3d-e32c-aac76c6b7c77"
      },
      "source": [
        "evaluate_func = evaluate(recs=total_rec_list, gt = gt, topn=200)\n",
        "evaluate_func._evaluate()"
      ],
      "execution_count": 31,
      "outputs": [
        {
          "output_type": "stream",
          "text": [
            "MAP@200: 0.01616279618994572\n",
            "NDCG@200: 0.0052927872962257785\n",
            "EntDiv@200: 5.10111607321712\n"
          ],
          "name": "stdout"
        }
      ]
    },
    {
      "cell_type": "markdown",
      "metadata": {
        "id": "L8wrTmVEUabP"
      },
      "source": [
        "- 기본 통계 모델\n",
        "    - MAP@200: 0.00015515720718927404\n",
        "    - NDCG@200: 0.001811561666747593\n",
        "    - EntDiv@200: 5.298317366548021\n",
        "- 선호 작가 추가 모델\n",
        "    - MAP@200: 0.01488745219381199\n",
        "    - NDCG@200: 0.004724455575031803\n",
        "    - EntDiv@200: 5.860416089913054\n",
        "- 읽은 책 후처리 모델\n",
        "    - MAP@200: 0.01616279618994572\n",
        "    - NDCG@200: 0.0052927872962257785\n",
        "    - EntDiv@200: 5.10111607321712\n",
        "\n",
        "MAP. NDCG 소폭 증가"
      ]
    },
    {
      "cell_type": "code",
      "metadata": {
        "id": "oERU8vRIHqdy"
      },
      "source": [
        "# 내가 읽을 수 있는 언어의 목록을 추출 \n",
        "## User에 대한 메타정보가 있으면 쉽게 추출가능하지만, 현재는 없으므로 직접 생성 \n",
        "## Ratings에서 읽은 책들의 언어를 전부 수집해서 해당 언어의 책들을 가능한 언어로 설정 \n",
        "language = pd.merge(train, books[['book_id', 'language_code']], how='left', on='book_id')"
      ],
      "execution_count": 32,
      "outputs": []
    },
    {
      "cell_type": "code",
      "metadata": {
        "colab": {
          "base_uri": "https://localhost:8080/",
          "height": 196
        },
        "id": "Q7kshIGGT3Pu",
        "outputId": "10d6f7be-6bc7-41c0-cad3-a89a52b4c750"
      },
      "source": [
        "language_list = language.groupby(['user_id'])['language_code'].agg({'unique'}).reset_index()\n",
        "language_list.head()"
      ],
      "execution_count": 33,
      "outputs": [
        {
          "output_type": "execute_result",
          "data": {
            "text/html": [
              "<div>\n",
              "<style scoped>\n",
              "    .dataframe tbody tr th:only-of-type {\n",
              "        vertical-align: middle;\n",
              "    }\n",
              "\n",
              "    .dataframe tbody tr th {\n",
              "        vertical-align: top;\n",
              "    }\n",
              "\n",
              "    .dataframe thead th {\n",
              "        text-align: right;\n",
              "    }\n",
              "</style>\n",
              "<table border=\"1\" class=\"dataframe\">\n",
              "  <thead>\n",
              "    <tr style=\"text-align: right;\">\n",
              "      <th></th>\n",
              "      <th>user_id</th>\n",
              "      <th>unique</th>\n",
              "    </tr>\n",
              "  </thead>\n",
              "  <tbody>\n",
              "    <tr>\n",
              "      <th>0</th>\n",
              "      <td>1</td>\n",
              "      <td>[nan]</td>\n",
              "    </tr>\n",
              "    <tr>\n",
              "      <th>1</th>\n",
              "      <td>2</td>\n",
              "      <td>[nan]</td>\n",
              "    </tr>\n",
              "    <tr>\n",
              "      <th>2</th>\n",
              "      <td>3</td>\n",
              "      <td>[eng]</td>\n",
              "    </tr>\n",
              "    <tr>\n",
              "      <th>3</th>\n",
              "      <td>4</td>\n",
              "      <td>[nan]</td>\n",
              "    </tr>\n",
              "    <tr>\n",
              "      <th>4</th>\n",
              "      <td>5</td>\n",
              "      <td>[nan]</td>\n",
              "    </tr>\n",
              "  </tbody>\n",
              "</table>\n",
              "</div>"
            ],
            "text/plain": [
              "   user_id unique\n",
              "0        1  [nan]\n",
              "1        2  [nan]\n",
              "2        3  [eng]\n",
              "3        4  [nan]\n",
              "4        5  [nan]"
            ]
          },
          "metadata": {
            "tags": []
          },
          "execution_count": 33
        }
      ]
    }
  ]
}